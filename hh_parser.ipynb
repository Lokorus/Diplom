{
 "cells": [
  {
   "cell_type": "markdown",
   "metadata": {},
   "source": [
    "Для обхода блокировок при большом количестве запросов к апи была использована библиотека генерирующая User agent \n",
    "чтобы сервер не видел что мы используем питон и библиотеку requests для парсинга а так же для избежания блокировки по \n",
    "ip мы использовали TOR. К тому же апи HH не позволяет получать дальше чем двухтысячный результат запроса, для решения этой проблемы данные были кластеризованы по параметрам чтобы при каждом запросе у нас получался небольшой кластер(город, опыт работы и т.д)."
   ]
  },
  {
   "cell_type": "code",
   "execution_count": 1,
   "metadata": {
    "collapsed": false
   },
   "outputs": [],
   "source": [
    "import requests\n",
    "import json\n",
    "import itertools\n",
    "import socks\n",
    "import socket\n",
    "import logging\n",
    "import pandas as pd\n",
    "import sys\n",
    "\n",
    "from bs4 import BeautifulSoup\n",
    "from fake_useragent import UserAgent"
   ]
  },
  {
   "cell_type": "markdown",
   "metadata": {},
   "source": [
    "дефолтный порт TOR 9150.\n",
    "Зададим при помощи библиотек socks и socket дефолтный порт через который будут ходить все запросы, следовательно\n",
    "все запросы будут посылаться через TOR, который по умолчанию меняет цепочку через которую идут пакеты и соответственно\n",
    "выходная нода, ip которой видит конечный сервер, тоже меняется"
   ]
  },
  {
   "cell_type": "code",
   "execution_count": null,
   "metadata": {
    "collapsed": false
   },
   "outputs": [],
   "source": [
    "logging.basicConfig(stream=sys.stdout)\n",
    "logger = logging.Logger('parser')\n",
    "logger.setLevel(logging.DEBUG)\n",
    "socks.set_default_proxy(socks.SOCKS5, \"localhost\", 9150)\n",
    "socket.socket = socks.socksocket"
   ]
  },
  {
   "cell_type": "markdown",
   "metadata": {},
   "source": [
    "пример сгенерированного UserAgent"
   ]
  },
  {
   "cell_type": "code",
   "execution_count": 3,
   "metadata": {
    "collapsed": false
   },
   "outputs": [
    {
     "data": {
      "text/plain": [
       "'Mozilla/5.0 (Windows NT 5.1) AppleWebKit/537.36 (KHTML, like Gecko) Chrome/36.0.1985.67 Safari/537.36'"
      ]
     },
     "execution_count": 3,
     "metadata": {},
     "output_type": "execute_result"
    }
   ],
   "source": [
    "UserAgent().chrome"
   ]
  },
  {
   "cell_type": "code",
   "execution_count": 4,
   "metadata": {
    "collapsed": false
   },
   "outputs": [],
   "source": [
    "class Parser:\n",
    "    def __init__(self,base_url='http://api.hh.ru/'):\n",
    "        self.base_url = base_url\n",
    "        self.parsed_vacancies = []\n",
    "    \n",
    "    def get_areas(self):\n",
    "        res = []\n",
    "        for i in json.loads(requests.get(self.base_url + 'areas').text)[0]['areas']:\n",
    "            res.append((i['id'], i['name']))\n",
    "        return res\n",
    "    \n",
    "    def get_vacancies(self):\n",
    "        self.parsed_vacancies = []\n",
    "        experience = ['between1And3', 'between3And6', 'noExperience', 'moreThan6']\n",
    "        for area, area_name in self.get_areas():\n",
    "            logger.warning('current area: {}'.format(area_name))\n",
    "            for exp, ind in itertools.product(experience, [i for i in range(100)]):\n",
    "                for i in range(20):\n",
    "                    r = requests.get(self.base_url + 'vacancies', \n",
    "                                     params={'text': '', 'per_page': 100, 'page': i, 'area': area, 'industry': ind, 'experience': exp},\n",
    "                                     headers={'User-Agent': UserAgent().chrome})\n",
    "                    if not r.ok:\n",
    "                        logger.warning('page error resp code: {}'.format(r.status_code))\n",
    "                        logger.warning(r.text)\n",
    "                    parsed = json.loads(r.text)\n",
    "                    if parsed.get('items'):\n",
    "                        self.parsed_vacancies.extend(parsed.get('items'))\n",
    "                        logger.warning('parsed: {}'.format(len(parsed.get('items'))))\n",
    "                    else:\n",
    "                        break\n",
    "                    if len(parsed.get('items')) < 100:\n",
    "                        break\n",
    "        return self.parsed_vacancies\n",
    "    \n",
    "    def to_pandas(self):\n",
    "        conv = []\n",
    "        for vacancy in self.parsed_vacancies:\n",
    "            conv.append(\n",
    "                [vacancy['area']['name'],\n",
    "                 vacancy['employer']['name'],\n",
    "                 vacancy['salary'],\n",
    "                 vacancy['name'],\n",
    "                 vacancy['snippet'].get('requirement', ''),\n",
    "                 vacancy['snippet'].get('responsibility', '')]\n",
    "            )\n",
    "        return pd.DataFrame(data=conv, columns=['area', 'company_name', 'salary', 'name', 'req', 'resp'])\n",
    "\n"
   ]
  },
  {
   "cell_type": "code",
   "execution_count": null,
   "metadata": {
    "collapsed": false
   },
   "outputs": [],
   "source": [
    "parser = Parser()\n",
    "parser.get_vacancies()\n",
    "data = parser.to_pandas()"
   ]
  },
  {
   "cell_type": "code",
   "execution_count": null,
   "metadata": {
    "collapsed": true
   },
   "outputs": [],
   "source": []
  }
 ],
 "metadata": {
  "anaconda-cloud": {},
  "kernelspec": {
   "display_name": "Python [default]",
   "language": "python",
   "name": "python3"
  },
  "language_info": {
   "codemirror_mode": {
    "name": "ipython",
    "version": 3
   },
   "file_extension": ".py",
   "mimetype": "text/x-python",
   "name": "python",
   "nbconvert_exporter": "python",
   "pygments_lexer": "ipython3",
   "version": "3.5.2"
  }
 },
 "nbformat": 4,
 "nbformat_minor": 2
}
