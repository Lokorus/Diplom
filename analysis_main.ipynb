{
 "cells": [
  {
   "cell_type": "markdown",
   "metadata": {},
   "source": [
    "# Модель"
   ]
  },
  {
   "cell_type": "code",
   "execution_count": 1,
   "metadata": {
    "collapsed": true
   },
   "outputs": [],
   "source": [
    "import pandas as pd\n",
    "from json import loads, dumps\n",
    "from ast import literal_eval\n",
    "import numpy as np\n",
    "import re\n",
    "import seaborn as sns\n",
    "import matplotlib.pyplot as plt\n",
    "%matplotlib inline\n",
    "import random\n"
   ]
  },
  {
   "cell_type": "code",
   "execution_count": 2,
   "metadata": {
    "collapsed": true
   },
   "outputs": [],
   "source": [
    "df = pd.read_csv('/Users/ilya/Downloads/vacancies (1).csv').drop('Unnamed: 0', axis=1)\n"
   ]
  },
  {
   "cell_type": "code",
   "execution_count": 3,
   "metadata": {
    "collapsed": true
   },
   "outputs": [],
   "source": [
    "#Извлечем зарплату оттуда, где она в рублях\n",
    "df['Salary'] = df.salary.apply(lambda x: literal_eval(x.replace('nan','None')).get('to') if ((pd.notnull(x)) and (literal_eval(x.replace('nan','None')).get('currency') == 'RUR')) else None)"
   ]
  },
  {
   "cell_type": "code",
   "execution_count": 4,
   "metadata": {
    "collapsed": true
   },
   "outputs": [],
   "source": [
    "df = df[df.Salary.notnull()].reset_index(drop=True)"
   ]
  },
  {
   "cell_type": "code",
   "execution_count": 5,
   "metadata": {
    "collapsed": true
   },
   "outputs": [],
   "source": [
    "education_exps = {'высшее': re.compile('высшее|бакалавр|магистр'), 'без опыта':re.compile('без опыта|нет опыта')}"
   ]
  },
  {
   "cell_type": "markdown",
   "metadata": {},
   "source": [
    "Добавим признаки необходимость наличия высшего образования у кандидата и возможность приступить к работе не имея опыта:"
   ]
  },
  {
   "cell_type": "code",
   "execution_count": 6,
   "metadata": {
    "collapsed": true
   },
   "outputs": [],
   "source": [
    "df['req_высшее_образование'] = 0\n",
    "df.loc[df.req.apply(lambda x: ((len(education_exps['высшее'].findall(x.lower())) > 0) & ('неполное высшее' not in x.lower())) if pd.notnull(x) else False), 'req_высшее_образование'] = 1"
   ]
  },
  {
   "cell_type": "code",
   "execution_count": 7,
   "metadata": {
    "collapsed": true
   },
   "outputs": [],
   "source": [
    "df['req_без_опыта'] = df.req.apply(lambda x: len(education_exps['без опыта'].findall(x))>0 if pd.notnull(x) else False).astype(int)"
   ]
  },
  {
   "cell_type": "markdown",
   "metadata": {},
   "source": [
    "Обучим модель по tf-idf:"
   ]
  },
  {
   "cell_type": "code",
   "execution_count": 8,
   "metadata": {
    "collapsed": true
   },
   "outputs": [],
   "source": [
    "df = df[(df['name']+' '+df['req']+' '+df['resp']).notnull()]"
   ]
  },
  {
   "cell_type": "code",
   "execution_count": 20,
   "metadata": {
    "collapsed": true,
    "scrolled": true
   },
   "outputs": [],
   "source": [
    "features = (df['name']+' '+df['req']+' '+df['resp']).values\n",
    "\n",
    "features = np.hstack((features.reshape(-1,1), df['req_высшее_образование'].values.reshape(-1,1)))\n",
    "features = np.hstack((features, df['req_без_опыта'].values.reshape(-1,1)))\n",
    "target = df.Salary.values"
   ]
  },
  {
   "cell_type": "code",
   "execution_count": 21,
   "metadata": {
    "collapsed": true
   },
   "outputs": [],
   "source": [
    "from sklearn.model_selection import train_test_split\n",
    "X_train, X_test, y_train, y_test = train_test_split(features, target, test_size=0.3, random_state=42)"
   ]
  },
  {
   "cell_type": "code",
   "execution_count": 22,
   "metadata": {
    "collapsed": true
   },
   "outputs": [],
   "source": [
    "from sklearn.feature_extraction.text import TfidfVectorizer\n",
    "tfidf = TfidfVectorizer(ngram_range=(1,1), lowercase=True)\n",
    "\n",
    "X_train_tfidf = tfidf.fit_transform(X_train[:,0])\n",
    "X_test_tfidf = tfidf.transform(X_test[:,0])"
   ]
  },
  {
   "cell_type": "code",
   "execution_count": 23,
   "metadata": {
    "collapsed": true
   },
   "outputs": [],
   "source": [
    "import scipy\n",
    "X_train = scipy.sparse.hstack((X_train_tfidf, X_train[:,1:].astype(float)))\n",
    "X_test = scipy.sparse.hstack((X_test_tfidf, X_test[:,1:].astype(float)))"
   ]
  },
  {
   "cell_type": "markdown",
   "metadata": {},
   "source": [
    "Гиперпараметры чуть подобраны"
   ]
  },
  {
   "cell_type": "code",
   "execution_count": 48,
   "metadata": {
    "collapsed": true
   },
   "outputs": [],
   "source": [
    "from xgboost import XGBRegressor\n",
    "\n",
    "reg = XGBRegressor(max_depth=8, n_estimators=400)\n",
    "reg.fit(X_train, y_train)\n",
    "\n",
    "pred = reg.predict(X_test)\n",
    "\n",
    "from sklearn.metrics import mean_squared_error, r2_score, mean_absolute_error"
   ]
  },
  {
   "cell_type": "markdown",
   "metadata": {},
   "source": [
    "Вычислим метрики и сравним предсказания со случаем, когда возвращается оптимальное константное значение (чтоб понимать, хорошо ли работает модель)"
   ]
  },
  {
   "cell_type": "code",
   "execution_count": 69,
   "metadata": {
    "collapsed": false
   },
   "outputs": [
    {
     "data": {
      "text/plain": [
       "30755.266946549633"
      ]
     },
     "execution_count": 69,
     "metadata": {},
     "output_type": "execute_result"
    }
   ],
   "source": [
    "#RMSE:\n",
    "np.sqrt(mean_squared_error(y_test, pred))"
   ]
  },
  {
   "cell_type": "code",
   "execution_count": 68,
   "metadata": {
    "collapsed": false
   },
   "outputs": [
    {
     "data": {
      "text/plain": [
       "53818.141456132114"
      ]
     },
     "execution_count": 68,
     "metadata": {},
     "output_type": "execute_result"
    }
   ],
   "source": [
    "#Если возвращать константное оптимальное\n",
    "np.sqrt(mean_squared_error(y_test, np.full(y_test.shape[0], y_test.mean())))"
   ]
  },
  {
   "cell_type": "code",
   "execution_count": 50,
   "metadata": {
    "collapsed": false
   },
   "outputs": [
    {
     "data": {
      "text/plain": [
       "0.67342599664669911"
      ]
     },
     "execution_count": 50,
     "metadata": {},
     "output_type": "execute_result"
    }
   ],
   "source": [
    "r2_score(y_test, pred)"
   ]
  },
  {
   "cell_type": "code",
   "execution_count": 51,
   "metadata": {
    "collapsed": false
   },
   "outputs": [
    {
     "data": {
      "text/plain": [
       "16554.341216662724"
      ]
     },
     "execution_count": 51,
     "metadata": {},
     "output_type": "execute_result"
    }
   ],
   "source": [
    "mean_absolute_error(y_test, pred)"
   ]
  },
  {
   "cell_type": "code",
   "execution_count": 63,
   "metadata": {
    "collapsed": false
   },
   "outputs": [
    {
     "data": {
      "text/plain": [
       "28504.62935640887"
      ]
     },
     "execution_count": 63,
     "metadata": {},
     "output_type": "execute_result"
    }
   ],
   "source": [
    "#Если возвращать константное оптимальное\n",
    "mean_absolute_error(y_test, np.full(y_test.shape[0], 45000))"
   ]
  },
  {
   "cell_type": "markdown",
   "metadata": {},
   "source": [
    "r_2 (коэффициент детерминации) достаточно высок, чтобы принять модель достоверной."
   ]
  },
  {
   "cell_type": "markdown",
   "metadata": {},
   "source": [
    "#  Анализ"
   ]
  },
  {
   "cell_type": "code",
   "execution_count": 51,
   "metadata": {
    "collapsed": false
   },
   "outputs": [
    {
     "data": {
      "text/plain": [
       "150000.0"
      ]
     },
     "execution_count": 51,
     "metadata": {},
     "output_type": "execute_result"
    }
   ],
   "source": [
    "df[df.Salary.notnull()].Salary.quantile(0.95)"
   ]
  },
  {
   "cell_type": "code",
   "execution_count": 71,
   "metadata": {
    "collapsed": false
   },
   "outputs": [
    {
     "data": {
      "image/png": "[encoded data removed]",
      "text/plain": [
       "<matplotlib.figure.Figure at 0x1a24c2dac8>"
      ]
     },
     "metadata": {},
     "output_type": "display_data"
    }
   ],
   "source": [
    "fig = plt.figure(figsize=(10,6))\n",
    "df[((df.Salary.notnull()) & (df.Salary < 150000))].Salary.hist(bins=15);"
   ]
  },
  {
   "cell_type": "markdown",
   "metadata": {},
   "source": [
    "Построим медианы зарплат для 17 городов с наибольшим количеством вакансий:"
   ]
  },
  {
   "cell_type": "code",
   "execution_count": 95,
   "metadata": {
    "collapsed": false
   },
   "outputs": [
    {
     "data": {
      "image/png": "[encoded data removed]",
      "text/plain": [
       "<matplotlib.figure.Figure at 0x113afc3c8>"
      ]
     },
     "metadata": {},
     "output_type": "display_data"
    }
   ],
   "source": [
    "df[df.area.isin(df.area.value_counts().head(17).index)].groupby('area')['Salary'].median().sort_values().plot(kind='bar');"
   ]
  },
  {
   "cell_type": "markdown",
   "metadata": {},
   "source": [
    "Среднее:"
   ]
  },
  {
   "cell_type": "code",
   "execution_count": 96,
   "metadata": {
    "collapsed": false
   },
   "outputs": [
    {
     "data": {
      "image/png": "[encoded data removed]",
      "text/plain": [
       "<matplotlib.figure.Figure at 0x113ad1e48>"
      ]
     },
     "metadata": {},
     "output_type": "display_data"
    }
   ],
   "source": [
    "df[df.area.isin(df.area.value_counts().head(17).index)].groupby('area')['Salary'].mean().sort_values().plot(kind='bar');"
   ]
  },
  {
   "cell_type": "markdown",
   "metadata": {},
   "source": [
    "Ожидаемо Москва и Спб - первые"
   ]
  },
  {
   "cell_type": "code",
   "execution_count": 73,
   "metadata": {
    "collapsed": false
   },
   "outputs": [
    {
     "data": {
      "text/plain": [
       "<matplotlib.axes._subplots.AxesSubplot at 0x1a25108908>"
      ]
     },
     "execution_count": 73,
     "metadata": {},
     "output_type": "execute_result"
    },
    {
     "data": {
      "image/png": "[encoded data removed]",
      "text/plain": [
       "<matplotlib.figure.Figure at 0x1a2518c198>"
      ]
     },
     "metadata": {},
     "output_type": "display_data"
    }
   ],
   "source": [
    "df[((df.area == 'Москва') & (pd.notnull(df.Salary)))].Salary.hist(bins=20)"
   ]
  },
  {
   "cell_type": "markdown",
   "metadata": {},
   "source": [
    "Сравним зарплату, предлагаемую кандидатам на вакансиях, в которых требуется диплом топового университета, со средней зарплатой:"
   ]
  },
  {
   "cell_type": "code",
   "execution_count": 89,
   "metadata": {
    "collapsed": false
   },
   "outputs": [
    {
     "data": {
      "text/plain": [
       "60000.0"
      ]
     },
     "execution_count": 89,
     "metadata": {},
     "output_type": "execute_result"
    }
   ],
   "source": [
    "df[df.req.apply(lambda x: len(re.findall('мгу|вшэ|мфти|мгту|мгимо', x.lower())) > 0 if pd.notnull(x) else False) & (df.Salary.notnull())].Salary.median()"
   ]
  },
  {
   "cell_type": "code",
   "execution_count": 90,
   "metadata": {
    "collapsed": false
   },
   "outputs": [
    {
     "data": {
      "text/plain": [
       "45000.0"
      ]
     },
     "execution_count": 90,
     "metadata": {},
     "output_type": "execute_result"
    }
   ],
   "source": [
    "df[~df.req.apply(lambda x: len(re.findall('мгу|вшэ|мфти|мгту|мгимо', x.lower())) > 0 if pd.notnull(x) else False) & (df.Salary.notnull())].Salary.median()"
   ]
  },
  {
   "cell_type": "markdown",
   "metadata": {},
   "source": [
    "Наиболее популярные вакансии:"
   ]
  },
  {
   "cell_type": "code",
   "execution_count": 99,
   "metadata": {
    "collapsed": false
   },
   "outputs": [
    {
     "data": {
      "text/plain": [
       "<matplotlib.axes._subplots.AxesSubplot at 0x1a24a460b8>"
      ]
     },
     "execution_count": 99,
     "metadata": {},
     "output_type": "execute_result"
    },
    {
     "data": {
      "image/png": "[encoded data removed]",
      "text/plain": [
       "<matplotlib.figure.Figure at 0x117385358>"
      ]
     },
     "metadata": {},
     "output_type": "display_data"
    }
   ],
   "source": [
    "df.name.value_counts().head(20).plot(kind='bar')"
   ]
  },
  {
   "cell_type": "markdown",
   "metadata": {},
   "source": [
    "Найдем наиболее и наименее высокооплачиваемые должности среди должностей, встретившихся в 200 или более вакансиях:"
   ]
  },
  {
   "cell_type": "markdown",
   "metadata": {},
   "source": [
    "Наиболее:"
   ]
  },
  {
   "cell_type": "code",
   "execution_count": 89,
   "metadata": {
    "collapsed": false
   },
   "outputs": [
    {
     "data": {
      "text/html": [
       "<div>\n",
       "<style scoped>\n",
       "    .dataframe tbody tr th:only-of-type {\n",
       "        vertical-align: middle;\n",
       "    }\n",
       "\n",
       "    .dataframe tbody tr th {\n",
       "        vertical-align: top;\n",
       "    }\n",
       "\n",
       "    .dataframe thead th {\n",
       "        text-align: right;\n",
       "    }\n",
       "</style>\n",
       "<table border=\"1\" class=\"dataframe\">\n",
       "  <thead>\n",
       "    <tr style=\"text-align: right;\">\n",
       "      <th></th>\n",
       "      <th>Salary</th>\n",
       "    </tr>\n",
       "    <tr>\n",
       "      <th>name</th>\n",
       "      <th></th>\n",
       "    </tr>\n",
       "  </thead>\n",
       "  <tbody>\n",
       "    <tr>\n",
       "      <th>Водитель</th>\n",
       "      <td>120000.0</td>\n",
       "    </tr>\n",
       "    <tr>\n",
       "      <th>Руководитель отдела продаж</th>\n",
       "      <td>100000.0</td>\n",
       "    </tr>\n",
       "    <tr>\n",
       "      <th>Водитель категории Е</th>\n",
       "      <td>85000.0</td>\n",
       "    </tr>\n",
       "    <tr>\n",
       "      <th>Программист 1С</th>\n",
       "      <td>85000.0</td>\n",
       "    </tr>\n",
       "    <tr>\n",
       "      <th>Машинист экскаватора</th>\n",
       "      <td>70000.0</td>\n",
       "    </tr>\n",
       "    <tr>\n",
       "      <th>Менеджер по оптовым продажам</th>\n",
       "      <td>70000.0</td>\n",
       "    </tr>\n",
       "    <tr>\n",
       "      <th>Менеджер отдела продаж</th>\n",
       "      <td>70000.0</td>\n",
       "    </tr>\n",
       "    <tr>\n",
       "      <th>Менеджер по продажам</th>\n",
       "      <td>70000.0</td>\n",
       "    </tr>\n",
       "    <tr>\n",
       "      <th>Фрезеровщик</th>\n",
       "      <td>65000.0</td>\n",
       "    </tr>\n",
       "    <tr>\n",
       "      <th>Слесарь-сборщик</th>\n",
       "      <td>60000.0</td>\n",
       "    </tr>\n",
       "  </tbody>\n",
       "</table>\n",
       "</div>"
      ],
      "text/plain": [
       "                                Salary\n",
       "name                                  \n",
       "Водитель                      120000.0\n",
       "Руководитель отдела продаж    100000.0\n",
       "Водитель категории Е           85000.0\n",
       "Программист 1С                 85000.0\n",
       "Машинист экскаватора           70000.0\n",
       "Менеджер по оптовым продажам   70000.0\n",
       "Менеджер отдела продаж         70000.0\n",
       "Менеджер по продажам           70000.0\n",
       "Фрезеровщик                    65000.0\n",
       "Слесарь-сборщик                60000.0"
      ]
     },
     "execution_count": 89,
     "metadata": {},
     "output_type": "execute_result"
    }
   ],
   "source": [
    "df[df.name.isin(df.name.value_counts()[df.name.value_counts() > 200].index)].groupby('name')[['Salary']].median().sort_values('Salary', ascending=False).head(10)"
   ]
  },
  {
   "cell_type": "markdown",
   "metadata": {},
   "source": [
    "Наименее:"
   ]
  },
  {
   "cell_type": "code",
   "execution_count": 90,
   "metadata": {
    "collapsed": false
   },
   "outputs": [
    {
     "data": {
      "text/html": [
       "<div>\n",
       "<style scoped>\n",
       "    .dataframe tbody tr th:only-of-type {\n",
       "        vertical-align: middle;\n",
       "    }\n",
       "\n",
       "    .dataframe tbody tr th {\n",
       "        vertical-align: top;\n",
       "    }\n",
       "\n",
       "    .dataframe thead th {\n",
       "        text-align: right;\n",
       "    }\n",
       "</style>\n",
       "<table border=\"1\" class=\"dataframe\">\n",
       "  <thead>\n",
       "    <tr style=\"text-align: right;\">\n",
       "      <th></th>\n",
       "      <th>Salary</th>\n",
       "    </tr>\n",
       "    <tr>\n",
       "      <th>name</th>\n",
       "      <th></th>\n",
       "    </tr>\n",
       "  </thead>\n",
       "  <tbody>\n",
       "    <tr>\n",
       "      <th>Горничная</th>\n",
       "      <td>20571.0</td>\n",
       "    </tr>\n",
       "    <tr>\n",
       "      <th>Продавец-кассир</th>\n",
       "      <td>22000.0</td>\n",
       "    </tr>\n",
       "    <tr>\n",
       "      <th>Оператор ПК</th>\n",
       "      <td>23700.0</td>\n",
       "    </tr>\n",
       "    <tr>\n",
       "      <th>Мерчендайзер</th>\n",
       "      <td>25000.0</td>\n",
       "    </tr>\n",
       "    <tr>\n",
       "      <th>Разнорабочий</th>\n",
       "      <td>25000.0</td>\n",
       "    </tr>\n",
       "    <tr>\n",
       "      <th>Грузчик</th>\n",
       "      <td>25000.0</td>\n",
       "    </tr>\n",
       "    <tr>\n",
       "      <th>Оператор</th>\n",
       "      <td>25000.0</td>\n",
       "    </tr>\n",
       "    <tr>\n",
       "      <th>Кассир</th>\n",
       "      <td>25300.0</td>\n",
       "    </tr>\n",
       "    <tr>\n",
       "      <th>Экспедитор</th>\n",
       "      <td>30000.0</td>\n",
       "    </tr>\n",
       "    <tr>\n",
       "      <th>Офис-менеджер</th>\n",
       "      <td>30000.0</td>\n",
       "    </tr>\n",
       "  </tbody>\n",
       "</table>\n",
       "</div>"
      ],
      "text/plain": [
       "                  Salary\n",
       "name                    \n",
       "Горничная        20571.0\n",
       "Продавец-кассир  22000.0\n",
       "Оператор ПК      23700.0\n",
       "Мерчендайзер     25000.0\n",
       "Разнорабочий     25000.0\n",
       "Грузчик          25000.0\n",
       "Оператор         25000.0\n",
       "Кассир           25300.0\n",
       "Экспедитор       30000.0\n",
       "Офис-менеджер    30000.0"
      ]
     },
     "execution_count": 90,
     "metadata": {},
     "output_type": "execute_result"
    }
   ],
   "source": [
    "df[df.name.isin(df.name.value_counts()[df.name.value_counts() > 200].index)].groupby('name')[['Salary']].median().sort_values('Salary', ascending=True).head(10)"
   ]
  },
  {
   "cell_type": "code",
   "execution_count": 141,
   "metadata": {
    "collapsed": false
   },
   "outputs": [
    {
     "data": {
      "text/plain": [
       "120000.0"
      ]
     },
     "execution_count": 141,
     "metadata": {},
     "output_type": "execute_result"
    }
   ],
   "source": [
    "df[df.name == 'Водитель'].Salary.median()"
   ]
  },
  {
   "cell_type": "code",
   "execution_count": 143,
   "metadata": {
    "collapsed": false
   },
   "outputs": [
    {
     "data": {
      "text/plain": [
       "65000.0"
      ]
     },
     "execution_count": 143,
     "metadata": {},
     "output_type": "execute_result"
    }
   ],
   "source": [
    "df[df.area == 'Москва'].Salary.median()"
   ]
  },
  {
   "cell_type": "markdown",
   "metadata": {},
   "source": [
    "Сравним зарплаты четырех наиболее встречающиеся должностей в зависимости от города:"
   ]
  },
  {
   "cell_type": "code",
   "execution_count": 141,
   "metadata": {
    "collapsed": true
   },
   "outputs": [],
   "source": [
    "msc_jobs = df[df.area == 'Москва'][df[df.area == 'Москва'].name.isin(df[df.area == 'Москва'].name.value_counts()[df[df.area == 'Москва'].name.value_counts() > 20].index)].groupby('name')[['Salary']].median().sort_values('Salary', ascending=False)\n",
    "kazan_jobs = df[df.area == 'Казань'][df[df.area == 'Казань'].name.isin(df[df.area == 'Казань'].name.value_counts()[df[df.area == 'Казань'].name.value_counts() > 20].index)].groupby('name')[['Salary']].median().sort_values('Salary', ascending=False)\n",
    "novosib_jobs = df[df.area == 'Новосибирск'][df[df.area == 'Новосибирск'].name.isin(df[df.area == 'Новосибирск'].name.value_counts()[df[df.area == 'Новосибирск'].name.value_counts() > 20].index)].groupby('name')[['Salary']].median().sort_values('Salary', ascending=False)\n",
    "ekb_jobs = df[df.area == 'Екатеринбург'][df[df.area == 'Екатеринбург'].name.isin(df[df.area == 'Екатеринбург'].name.value_counts()[df[df.area == 'Екатеринбург'].name.value_counts() > 20].index)].groupby('name')[['Salary']].median().sort_values('Salary', ascending=False)\n",
    "spb_jobs = df[df.area == 'Санкт-Петербург'][df[df.area == 'Санкт-Петербург'].name.isin(df[df.area == 'Санкт-Петербург'].name.value_counts()[df[df.area == 'Санкт-Петербург'].name.value_counts() > 20].index)].groupby('name')[['Salary']].median().sort_values('Salary', ascending=False)"
   ]
  },
  {
   "cell_type": "code",
   "execution_count": 142,
   "metadata": {
    "collapsed": true
   },
   "outputs": [],
   "source": [
    "common_jobs = list(set(ekb_jobs.index) & set(novosib_jobs.index) & set(kazan_jobs.index) & set(msc_jobs.index) & set(spb_jobs.index))"
   ]
  },
  {
   "cell_type": "code",
   "execution_count": 143,
   "metadata": {
    "collapsed": true
   },
   "outputs": [],
   "source": [
    "msc_jobs = msc_jobs[msc_jobs.index.isin(common_jobs)].rename(columns={'Salary':'Москва'})\n",
    "kazan_jobs = kazan_jobs[kazan_jobs.index.isin(common_jobs)].rename(columns={'Salary':'Казань'})\n",
    "novosib_jobs = novosib_jobs[novosib_jobs.index.isin(common_jobs)].rename(columns={'Salary':'Новосибирск'})\n",
    "ekb_jobs = ekb_jobs[ekb_jobs.index.isin(common_jobs)].rename(columns={'Salary':'Екатеринбург'})\n",
    "spb_jobs = spb_jobs[spb_jobs.index.isin(common_jobs)].rename(columns={'Salary':'Санкт-Петербург'})"
   ]
  },
  {
   "cell_type": "code",
   "execution_count": 145,
   "metadata": {
    "collapsed": false
   },
   "outputs": [
    {
     "data": {
      "text/plain": [
       "Text(0.5,1,'Зарплата в зависимости от региона')"
      ]
     },
     "execution_count": 145,
     "metadata": {},
     "output_type": "execute_result"
    },
    {
     "data": {
      "text/plain": [
       "<matplotlib.figure.Figure at 0x1a17c38278>"
      ]
     },
     "metadata": {},
     "output_type": "display_data"
    },
    {
     "data": {
      "image/png": "[encoded data removed]",
      "text/plain": [
       "<matplotlib.figure.Figure at 0x1a17c4c630>"
      ]
     },
     "metadata": {},
     "output_type": "display_data"
    }
   ],
   "source": [
    "fig = plt.figure(figsize=(15, 8))\n",
    "msc_jobs.merge(spb_jobs, left_index=True, right_index=True).merge(kazan_jobs, left_index=True, right_index=True).merge(novosib_jobs, left_index=True, right_index=True).merge(ekb_jobs, left_index=True, right_index=True).plot(kind='bar')\n",
    "plt.title('Зарплата в зависимости от региона')"
   ]
  },
  {
   "cell_type": "markdown",
   "metadata": {},
   "source": [
    "Как видно, в Москве и Спб на тех же должностях зарплаты выше, чем в регионах"
   ]
  },
  {
   "cell_type": "markdown",
   "metadata": {},
   "source": [
    "Сравним зараплаты одного и того же работодателя (Пятерочка) и одной и той же вакансии (продавец-консультант) в зависимости от региона:"
   ]
  },
  {
   "cell_type": "code",
   "execution_count": 161,
   "metadata": {
    "collapsed": true
   },
   "outputs": [],
   "source": [
    "magaz = df[df.company_name == 'Пятерочка'].copy()"
   ]
  },
  {
   "cell_type": "code",
   "execution_count": 171,
   "metadata": {
    "collapsed": true
   },
   "outputs": [],
   "source": [
    "magaz['name'] = magaz.name.apply(lambda x: x.split('(')[0].strip())"
   ]
  },
  {
   "cell_type": "code",
   "execution_count": 190,
   "metadata": {
    "collapsed": false
   },
   "outputs": [
    {
     "data": {
      "text/plain": [
       "<matplotlib.axes._subplots.AxesSubplot at 0x1a1b8c3b00>"
      ]
     },
     "execution_count": 190,
     "metadata": {},
     "output_type": "execute_result"
    },
    {
     "data": {
      "image/png": "[encoded data removed]",
      "text/plain": [
       "<matplotlib.figure.Figure at 0x1a1c7f55f8>"
      ]
     },
     "metadata": {},
     "output_type": "display_data"
    }
   ],
   "source": [
    "magaz[magaz.area.isin(magaz[magaz['name'] == 'Продавец-кассир'].area.value_counts()[magaz[magaz['name'] == 'Продавец-кассир'].area.value_counts() > 20].index)].groupby('area')[['Salary']].median().sort_values('Salary', ascending=False).plot(kind='bar', title='Зарплата продавца-консультанта в Пятерочке в зависимости от города')"
   ]
  },
  {
   "cell_type": "code",
   "execution_count": null,
   "metadata": {
    "collapsed": true
   },
   "outputs": [],
   "source": []
  }
 ],
 "metadata": {
  "kernelspec": {
   "display_name": "Python [default]",
   "language": "python",
   "name": "python3"
  },
  "language_info": {
   "codemirror_mode": {
    "name": "ipython",
    "version": 3
   },
   "file_extension": ".py",
   "mimetype": "text/x-python",
   "name": "python",
   "nbconvert_exporter": "python",
   "pygments_lexer": "ipython3",
   "version": "3.5.2"
  }
 },
 "nbformat": 4,
 "nbformat_minor": 2
}
