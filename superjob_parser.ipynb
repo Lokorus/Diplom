{
 "cells": [
  {
   "cell_type": "code",
   "execution_count": null,
   "metadata": {
    "collapsed": true
   },
   "outputs": [],
   "source": [
    "import requests\n",
    "import json\n",
    "import itertools\n",
    "import socks\n",
    "import socket\n",
    "import logging\n",
    "import pandas as pd\n",
    "import sys\n",
    "\n",
    "from bs4 import BeautifulSoup\n",
    "from fake_useragent import UserAgent"
   ]
  },
  {
   "cell_type": "code",
   "execution_count": null,
   "metadata": {
    "collapsed": true
   },
   "outputs": [],
   "source": [
    "logging.basicConfig(stream=sys.stdout)\n",
    "logger = logging.Logger('parser')\n",
    "logger.setLevel(logging.DEBUG)\n",
    "socks.set_default_proxy(socks.SOCKS5, \"localhost\", 9150)\n",
    "socket.socket = socks.socksocket"
   ]
  },
  {
   "cell_type": "code",
   "execution_count": null,
   "metadata": {
    "collapsed": true
   },
   "outputs": [],
   "source": [
    "UserAgent().chrome"
   ]
  },
  {
   "cell_type": "code",
   "execution_count": null,
   "metadata": {
    "collapsed": true
   },
   "outputs": [],
   "source": [
    "class Parser:\n",
    "    def __init__(self,base_url='https://api.superjob.ru/2.0):\n",
    "        time.sleep(1)\n",
    "        self.base_url = base_url\n",
    "        self.parsed_vacancies = []\n",
    "    \n",
    "    def get_areas(self):\n",
    "        res = []\n",
    "        for i in json.loads(requests.get(self.base_url + 'towns').text)[0]['towns']:\n",
    "            res.append((i['id'], i['name']))\n",
    "        return res\n",
    "    \n",
    "    def get_vacancies(self):\n",
    "        self.parsed_vacancies = []\n",
    "        experience = ['1', '2', '3', '4']\n",
    "        for area, area_name in self.get_areas():\n",
    "            logger.warning('current area: {}'.format(area_name))\n",
    "            for exp, ind in itertools.product(experience, [i for i in range(100)]):\n",
    "                for i in range(20):\n",
    "                    time.sleep(60)\n",
    "                    r = requests.get(self.base_url + 'vacancies', \n",
    "                                     params={'text': '', 'per_page': 100, 'page': i, 'area': area, 'industry': ind, 'experience': exp},\n",
    "                                     headers={'User-Agent': UserAgent().chrome})\n",
    "                    if not r.ok:\n",
    "                        logger.warning('page error resp code: {}'.format(r.status_code))\n",
    "                        logger.warning(r.text)\n",
    "                    parsed = json.loads(r.text)\n",
    "                    if parsed.get('items'):\n",
    "                        self.parsed_vacancies.extend(parsed.get('items'))\n",
    "                        logger.warning('parsed: {}'.format(len(parsed.get('items'))))\n",
    "                    else:\n",
    "                        break\n",
    "                    if len(parsed.get('items')) < 100:\n",
    "                        break\n",
    "        return self.parsed_vacancies\n",
    "    \n",
    "    def to_pandas(self):\n",
    "        conv = []\n",
    "        for vacancy in self.parsed_vacancies:\n",
    "            conv.append(\n",
    "                [vacancy['town']['name'],\n",
    "                 vacancy['firm_name'],\n",
    "                 vacancy['salary'],\n",
    "                 vacancy['name'],\n",
    "                 vacancy['snippet'].get('requirement', ''),\n",
    "                 vacancy['snippet'].get('responsibility', '')]\n",
    "            )\n",
    "        return pd.DataFrame(data=conv, columns=['area', 'company_name', 'salary', 'name', 'req', 'resp'])\n",
    "\n"
   ]
  }
 ],
 "metadata": {
  "anaconda-cloud": {},
  "kernelspec": {
   "display_name": "Python [default]",
   "language": "python",
   "name": "python3"
  },
  "language_info": {
   "codemirror_mode": {
    "name": "ipython",
    "version": 3
   },
   "file_extension": ".py",
   "mimetype": "text/x-python",
   "name": "python",
   "nbconvert_exporter": "python",
   "pygments_lexer": "ipython3",
   "version": "3.5.2"
  }
 },
 "nbformat": 4,
 "nbformat_minor": 1
}
