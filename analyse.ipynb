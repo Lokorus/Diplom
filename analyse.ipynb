{
 "cells": [
  {
   "cell_type": "code",
   "execution_count": 20,
   "metadata": {
    "collapsed": true
   },
   "outputs": [],
   "source": [
    "import json\n",
    "import os\n",
    "import pandas as pd\n",
    "import matplotlib.pyplot as plt\n",
    "import requests\n",
    "import numpy as np\n",
    "import datetime\n",
    "import sys\n",
    "import time\n",
    "import nltk\n",
    "import re"
   ]
  },
  {
   "cell_type": "markdown",
   "metadata": {},
   "source": [
    "Открываю файл с регионами (curl -o areas.txt 'https://api.hh.ru/areas/113')"
   ]
  },
  {
   "cell_type": "code",
   "execution_count": 21,
   "metadata": {
    "collapsed": true
   },
   "outputs": [],
   "source": [
    "f = open('areas_json.txt')\n",
    "areas = f.read()\n",
    "f.close()\n",
    "json_areas = json.loads(areas)\n",
    "\n",
    "def region_print(place, list_of_areas, level):\n",
    "    for i in place['areas']:\n",
    "        list_of_areas.append([i['name'], int(i['id']), int(i['parent_id']), level])\n",
    "        if i['areas']:\n",
    "            region_print(i, list_of_areas, level + 1)\n",
    "\n",
    "list_of_areas = []\n",
    "list_of_areas.append([json_areas['name'], json_areas['id'], 0, 0])\n",
    "region_print(json_areas, list_of_areas, 1)\n",
    "\n",
    "table_area = pd.DataFrame(list_of_areas, columns = ['Name', 'Area_id', 'Parent_id', 'Level'])"
   ]
  },
  {
   "cell_type": "code",
   "execution_count": 22,
   "metadata": {
    "collapsed": false,
    "scrolled": true
   },
   "outputs": [
    {
     "name": "stdout",
     "output_type": "stream",
     "text": [
      "Количетсво субъектов:  3852\n"
     ]
    }
   ],
   "source": [
    "print('Количетсво субъектов: ', table_area.shape[0])"
   ]
  },
  {
   "cell_type": "markdown",
   "metadata": {},
   "source": [
    "В таблице представлено 3812 разных 'района'. И 84 регионов России."
   ]
  },
  {
   "cell_type": "code",
   "execution_count": 23,
   "metadata": {
    "collapsed": false
   },
   "outputs": [
    {
     "data": {
      "text/html": [
       "<div>\n",
       "<table border=\"1\" class=\"dataframe\">\n",
       "  <thead>\n",
       "    <tr style=\"text-align: right;\">\n",
       "      <th></th>\n",
       "      <th>Name</th>\n",
       "      <th>Area_id</th>\n",
       "      <th>Parent_id</th>\n",
       "      <th>Level</th>\n",
       "    </tr>\n",
       "  </thead>\n",
       "  <tbody>\n",
       "    <tr>\n",
       "      <th>1</th>\n",
       "      <td>Республика Марий Эл</td>\n",
       "      <td>1620</td>\n",
       "      <td>113</td>\n",
       "      <td>1</td>\n",
       "    </tr>\n",
       "    <tr>\n",
       "      <th>23</th>\n",
       "      <td>Республика Татарстан</td>\n",
       "      <td>1624</td>\n",
       "      <td>113</td>\n",
       "      <td>1</td>\n",
       "    </tr>\n",
       "    <tr>\n",
       "      <th>83</th>\n",
       "      <td>Удмуртская Республика</td>\n",
       "      <td>1646</td>\n",
       "      <td>113</td>\n",
       "      <td>1</td>\n",
       "    </tr>\n",
       "    <tr>\n",
       "      <th>117</th>\n",
       "      <td>Чувашская Республика</td>\n",
       "      <td>1652</td>\n",
       "      <td>113</td>\n",
       "      <td>1</td>\n",
       "    </tr>\n",
       "    <tr>\n",
       "      <th>148</th>\n",
       "      <td>Забайкальский край</td>\n",
       "      <td>1192</td>\n",
       "      <td>113</td>\n",
       "      <td>1</td>\n",
       "    </tr>\n",
       "  </tbody>\n",
       "</table>\n",
       "</div>"
      ],
      "text/plain": [
       "                      Name Area_id  Parent_id  Level\n",
       "1      Республика Марий Эл    1620        113      1\n",
       "23    Республика Татарстан    1624        113      1\n",
       "83   Удмуртская Республика    1646        113      1\n",
       "117   Чувашская Республика    1652        113      1\n",
       "148     Забайкальский край    1192        113      1"
      ]
     },
     "execution_count": 23,
     "metadata": {},
     "output_type": "execute_result"
    }
   ],
   "source": [
    "table_area[table_area['Level'] == 1].head()"
   ]
  },
  {
   "cell_type": "markdown",
   "metadata": {},
   "source": [
    "Скачаю одну вакансию https://career.ru/vacancy/22157723"
   ]
  },
  {
   "cell_type": "markdown",
   "metadata": {},
   "source": [
    "Автоматизируем"
   ]
  },
  {
   "cell_type": "code",
   "execution_count": 24,
   "metadata": {
    "collapsed": true
   },
   "outputs": [],
   "source": [
    "headers = {\"User-Agent\": \"hh-recommender\"}\n",
    "r = requests.get(\"https://api.hh.ru/areas113\", headers=headers)\n",
    "areas_json = json.loads(r.text)"
   ]
  },
  {
   "cell_type": "code",
   "execution_count": 25,
   "metadata": {
    "collapsed": true
   },
   "outputs": [],
   "source": [
    "list_of_areas = []\n",
    "list_of_areas.append([json_areas['name'], json_areas['id'], 0, 0])\n",
    "region_print(json_areas, list_of_areas, 1)"
   ]
  },
  {
   "cell_type": "code",
   "execution_count": 26,
   "metadata": {
    "collapsed": true
   },
   "outputs": [],
   "source": [
    "table_area = pd.DataFrame(list_of_areas, columns = ['Name', 'Area_id', 'Parent_id', 'Level'])"
   ]
  },
  {
   "cell_type": "code",
   "execution_count": 27,
   "metadata": {
    "collapsed": false,
    "scrolled": true
   },
   "outputs": [
    {
     "data": {
      "text/html": [
       "<div>\n",
       "<table border=\"1\" class=\"dataframe\">\n",
       "  <thead>\n",
       "    <tr style=\"text-align: right;\">\n",
       "      <th></th>\n",
       "      <th>Name</th>\n",
       "      <th>Area_id</th>\n",
       "      <th>Parent_id</th>\n",
       "      <th>Level</th>\n",
       "    </tr>\n",
       "  </thead>\n",
       "  <tbody>\n",
       "    <tr>\n",
       "      <th>0</th>\n",
       "      <td>Россия</td>\n",
       "      <td>113</td>\n",
       "      <td>0</td>\n",
       "      <td>0</td>\n",
       "    </tr>\n",
       "    <tr>\n",
       "      <th>1</th>\n",
       "      <td>Республика Марий Эл</td>\n",
       "      <td>1620</td>\n",
       "      <td>113</td>\n",
       "      <td>1</td>\n",
       "    </tr>\n",
       "    <tr>\n",
       "      <th>2</th>\n",
       "      <td>Виловатово</td>\n",
       "      <td>4228</td>\n",
       "      <td>1620</td>\n",
       "      <td>2</td>\n",
       "    </tr>\n",
       "    <tr>\n",
       "      <th>3</th>\n",
       "      <td>Волжск</td>\n",
       "      <td>1621</td>\n",
       "      <td>1620</td>\n",
       "      <td>2</td>\n",
       "    </tr>\n",
       "    <tr>\n",
       "      <th>4</th>\n",
       "      <td>Звенигово</td>\n",
       "      <td>1622</td>\n",
       "      <td>1620</td>\n",
       "      <td>2</td>\n",
       "    </tr>\n",
       "  </tbody>\n",
       "</table>\n",
       "</div>"
      ],
      "text/plain": [
       "                  Name Area_id  Parent_id  Level\n",
       "0               Россия     113          0      0\n",
       "1  Республика Марий Эл    1620        113      1\n",
       "2           Виловатово    4228       1620      2\n",
       "3               Волжск    1621       1620      2\n",
       "4            Звенигово    1622       1620      2"
      ]
     },
     "execution_count": 27,
     "metadata": {},
     "output_type": "execute_result"
    }
   ],
   "source": [
    "table_area.head()"
   ]
  },
  {
   "cell_type": "code",
   "execution_count": 28,
   "metadata": {
    "collapsed": true
   },
   "outputs": [],
   "source": [
    "def find_all_vacancy_found(Area_id):\n",
    "    r = requests.get(\"https://api.hh.ru/vacancies?per_page=5&specialization=1&specialization=25.381&specialization=3.26&specialization=3.48&specialization=9.94&specialization=12.5&specialization=12.92&specialization=15.93&specialization=14.91&specialization=17.112&area=\" + str(Area_id), headers=headers)\n",
    "    data_json = json.loads(r.text)\n",
    "    return data_json['found']\n",
    "\n",
    "def find_salary_vacancy_found(Area_id):\n",
    "    r = requests.get(\"https://api.hh.ru/vacancies?per_page=5&specialization=1&specialization=25.381&specialization=3.26&specialization=3.48&specialization=9.94&specialization=12.5&specialization=12.92&specialization=15.93&specialization=14.91&specialization=17.112&only_with_salary=True&area=\" + str(Area_id), headers=headers)\n",
    "    data_json = json.loads(r.text)\n",
    "    return data_json['found']"
   ]
  },
  {
   "cell_type": "code",
   "execution_count": null,
   "metadata": {
    "collapsed": true
   },
   "outputs": [],
   "source": [
    "table_area['Vacancies'] = table_area['Area_id'].apply(find_all_vacancy_found)\n",
    "table_area['Vacancies_with_salary'] = table_area['Area_id'].apply(find_salary_vacancy_found)"
   ]
  },
  {
   "cell_type": "code",
   "execution_count": 29,
   "metadata": {
    "collapsed": true
   },
   "outputs": [],
   "source": [
    "table_area.to_csv('table_area.csv')"
   ]
  },
  {
   "cell_type": "code",
   "execution_count": 30,
   "metadata": {
    "collapsed": false
   },
   "outputs": [],
   "source": [
    "table_area = pd.read_csv('table_area.csv', index_col = 'Unnamed: 0')"
   ]
  },
  {
   "cell_type": "markdown",
   "metadata": {},
   "source": [
    "Выделю таблицу по регионам России."
   ]
  },
  {
   "cell_type": "code",
   "execution_count": 31,
   "metadata": {
    "collapsed": true
   },
   "outputs": [],
   "source": [
    "small_table_area = table_area[table_area['Level'] == 1] # 1 - уровень верхние регионы"
   ]
  },
  {
   "cell_type": "code",
   "execution_count": 32,
   "metadata": {
    "collapsed": false
   },
   "outputs": [],
   "source": [
    "small_table_area = pd.read_csv('table_area.csv', index_col = 'Unnamed: 0')"
   ]
  },
  {
   "cell_type": "markdown",
   "metadata": {},
   "source": [
    "Добавлю количество вакансий с зарплатой и без."
   ]
  },
  {
   "cell_type": "code",
   "execution_count": 34,
   "metadata": {
    "collapsed": false
   },
   "outputs": [
    {
     "ename": "KeyboardInterrupt",
     "evalue": "",
     "output_type": "error",
     "traceback": [
      "\u001b[0;31m---------------------------------------------------------------------------\u001b[0m",
      "\u001b[0;31mTypeError\u001b[0m                                 Traceback (most recent call last)",
      "\u001b[0;32m/home/lokorus/anaconda3/lib/python3.5/site-packages/requests/packages/urllib3/connectionpool.py\u001b[0m in \u001b[0;36m_make_request\u001b[0;34m(self, conn, method, url, timeout, chunked, **httplib_request_kw)\u001b[0m\n\u001b[1;32m    383\u001b[0m             \u001b[0;32mtry\u001b[0m\u001b[0;34m:\u001b[0m  \u001b[0;31m# Python 2.7, use buffering of HTTP responses\u001b[0m\u001b[0;34m\u001b[0m\u001b[0m\n\u001b[0;32m--> 384\u001b[0;31m                 \u001b[0mhttplib_response\u001b[0m \u001b[0;34m=\u001b[0m \u001b[0mconn\u001b[0m\u001b[0;34m.\u001b[0m\u001b[0mgetresponse\u001b[0m\u001b[0;34m(\u001b[0m\u001b[0mbuffering\u001b[0m\u001b[0;34m=\u001b[0m\u001b[0;32mTrue\u001b[0m\u001b[0;34m)\u001b[0m\u001b[0;34m\u001b[0m\u001b[0m\n\u001b[0m\u001b[1;32m    385\u001b[0m             \u001b[0;32mexcept\u001b[0m \u001b[0mTypeError\u001b[0m\u001b[0;34m:\u001b[0m  \u001b[0;31m# Python 2.6 and older, Python 3\u001b[0m\u001b[0;34m\u001b[0m\u001b[0m\n",
      "\u001b[0;31mTypeError\u001b[0m: getresponse() got an unexpected keyword argument 'buffering'",
      "\nDuring handling of the above exception, another exception occurred:\n",
      "\u001b[0;31mKeyboardInterrupt\u001b[0m                         Traceback (most recent call last)",
      "\u001b[0;32m<ipython-input-34-55ef1d227129>\u001b[0m in \u001b[0;36m<module>\u001b[0;34m()\u001b[0m\n\u001b[0;32m----> 1\u001b[0;31m \u001b[0msmall_table_area\u001b[0m\u001b[0;34m[\u001b[0m\u001b[0;34m'Vacancies'\u001b[0m\u001b[0;34m]\u001b[0m \u001b[0;34m=\u001b[0m \u001b[0msmall_table_area\u001b[0m\u001b[0;34m[\u001b[0m\u001b[0;34m'Area_id'\u001b[0m\u001b[0;34m]\u001b[0m\u001b[0;34m.\u001b[0m\u001b[0mapply\u001b[0m\u001b[0;34m(\u001b[0m\u001b[0mfind_all_vacancy_found\u001b[0m\u001b[0;34m)\u001b[0m\u001b[0;34m\u001b[0m\u001b[0m\n\u001b[0m\u001b[1;32m      2\u001b[0m \u001b[0msmall_table_area\u001b[0m\u001b[0;34m[\u001b[0m\u001b[0;34m'Vacancies_with_salary'\u001b[0m\u001b[0;34m]\u001b[0m \u001b[0;34m=\u001b[0m \u001b[0msmall_table_area\u001b[0m\u001b[0;34m[\u001b[0m\u001b[0;34m'Area_id'\u001b[0m\u001b[0;34m]\u001b[0m\u001b[0;34m.\u001b[0m\u001b[0mapply\u001b[0m\u001b[0;34m(\u001b[0m\u001b[0mfind_salary_vacancy_found\u001b[0m\u001b[0;34m)\u001b[0m\u001b[0;34m\u001b[0m\u001b[0m\n",
      "\u001b[0;32m/home/lokorus/anaconda3/lib/python3.5/site-packages/pandas/core/series.py\u001b[0m in \u001b[0;36mapply\u001b[0;34m(self, func, convert_dtype, args, **kwds)\u001b[0m\n\u001b[1;32m   2218\u001b[0m         \u001b[0;32melse\u001b[0m\u001b[0;34m:\u001b[0m\u001b[0;34m\u001b[0m\u001b[0m\n\u001b[1;32m   2219\u001b[0m             \u001b[0mvalues\u001b[0m \u001b[0;34m=\u001b[0m \u001b[0mself\u001b[0m\u001b[0;34m.\u001b[0m\u001b[0masobject\u001b[0m\u001b[0;34m\u001b[0m\u001b[0m\n\u001b[0;32m-> 2220\u001b[0;31m             \u001b[0mmapped\u001b[0m \u001b[0;34m=\u001b[0m \u001b[0mlib\u001b[0m\u001b[0;34m.\u001b[0m\u001b[0mmap_infer\u001b[0m\u001b[0;34m(\u001b[0m\u001b[0mvalues\u001b[0m\u001b[0;34m,\u001b[0m \u001b[0mf\u001b[0m\u001b[0;34m,\u001b[0m \u001b[0mconvert\u001b[0m\u001b[0;34m=\u001b[0m\u001b[0mconvert_dtype\u001b[0m\u001b[0;34m)\u001b[0m\u001b[0;34m\u001b[0m\u001b[0m\n\u001b[0m\u001b[1;32m   2221\u001b[0m \u001b[0;34m\u001b[0m\u001b[0m\n\u001b[1;32m   2222\u001b[0m         \u001b[0;32mif\u001b[0m \u001b[0mlen\u001b[0m\u001b[0;34m(\u001b[0m\u001b[0mmapped\u001b[0m\u001b[0;34m)\u001b[0m \u001b[0;32mand\u001b[0m \u001b[0misinstance\u001b[0m\u001b[0;34m(\u001b[0m\u001b[0mmapped\u001b[0m\u001b[0;34m[\u001b[0m\u001b[0;36m0\u001b[0m\u001b[0;34m]\u001b[0m\u001b[0;34m,\u001b[0m \u001b[0mSeries\u001b[0m\u001b[0;34m)\u001b[0m\u001b[0;34m:\u001b[0m\u001b[0;34m\u001b[0m\u001b[0m\n",
      "\u001b[0;32mpandas/src/inference.pyx\u001b[0m in \u001b[0;36mpandas.lib.map_infer (pandas/lib.c:62658)\u001b[0;34m()\u001b[0m\n",
      "\u001b[0;32m<ipython-input-28-1930a70ceb88>\u001b[0m in \u001b[0;36mfind_all_vacancy_found\u001b[0;34m(Area_id)\u001b[0m\n\u001b[1;32m      1\u001b[0m \u001b[0;32mdef\u001b[0m \u001b[0mfind_all_vacancy_found\u001b[0m\u001b[0;34m(\u001b[0m\u001b[0mArea_id\u001b[0m\u001b[0;34m)\u001b[0m\u001b[0;34m:\u001b[0m\u001b[0;34m\u001b[0m\u001b[0m\n\u001b[0;32m----> 2\u001b[0;31m     \u001b[0mr\u001b[0m \u001b[0;34m=\u001b[0m \u001b[0mrequests\u001b[0m\u001b[0;34m.\u001b[0m\u001b[0mget\u001b[0m\u001b[0;34m(\u001b[0m\u001b[0;34m\"https://api.hh.ru/vacancies?per_page=5&specialization=1&specialization=25.381&specialization=3.26&specialization=3.48&specialization=9.94&specialization=12.5&specialization=12.92&specialization=15.93&specialization=14.91&specialization=17.112&area=\"\u001b[0m \u001b[0;34m+\u001b[0m \u001b[0mstr\u001b[0m\u001b[0;34m(\u001b[0m\u001b[0mArea_id\u001b[0m\u001b[0;34m)\u001b[0m\u001b[0;34m,\u001b[0m \u001b[0mheaders\u001b[0m\u001b[0;34m=\u001b[0m\u001b[0mheaders\u001b[0m\u001b[0;34m)\u001b[0m\u001b[0;34m\u001b[0m\u001b[0m\n\u001b[0m\u001b[1;32m      3\u001b[0m     \u001b[0mdata_json\u001b[0m \u001b[0;34m=\u001b[0m \u001b[0mjson\u001b[0m\u001b[0;34m.\u001b[0m\u001b[0mloads\u001b[0m\u001b[0;34m(\u001b[0m\u001b[0mr\u001b[0m\u001b[0;34m.\u001b[0m\u001b[0mtext\u001b[0m\u001b[0;34m)\u001b[0m\u001b[0;34m\u001b[0m\u001b[0m\n\u001b[1;32m      4\u001b[0m     \u001b[0;32mreturn\u001b[0m \u001b[0mdata_json\u001b[0m\u001b[0;34m[\u001b[0m\u001b[0;34m'found'\u001b[0m\u001b[0;34m]\u001b[0m\u001b[0;34m\u001b[0m\u001b[0m\n\u001b[1;32m      5\u001b[0m \u001b[0;34m\u001b[0m\u001b[0m\n",
      "\u001b[0;32m/home/lokorus/anaconda3/lib/python3.5/site-packages/requests/api.py\u001b[0m in \u001b[0;36mget\u001b[0;34m(url, params, **kwargs)\u001b[0m\n\u001b[1;32m     68\u001b[0m \u001b[0;34m\u001b[0m\u001b[0m\n\u001b[1;32m     69\u001b[0m     \u001b[0mkwargs\u001b[0m\u001b[0;34m.\u001b[0m\u001b[0msetdefault\u001b[0m\u001b[0;34m(\u001b[0m\u001b[0;34m'allow_redirects'\u001b[0m\u001b[0;34m,\u001b[0m \u001b[0;32mTrue\u001b[0m\u001b[0;34m)\u001b[0m\u001b[0;34m\u001b[0m\u001b[0m\n\u001b[0;32m---> 70\u001b[0;31m     \u001b[0;32mreturn\u001b[0m \u001b[0mrequest\u001b[0m\u001b[0;34m(\u001b[0m\u001b[0;34m'get'\u001b[0m\u001b[0;34m,\u001b[0m \u001b[0murl\u001b[0m\u001b[0;34m,\u001b[0m \u001b[0mparams\u001b[0m\u001b[0;34m=\u001b[0m\u001b[0mparams\u001b[0m\u001b[0;34m,\u001b[0m \u001b[0;34m**\u001b[0m\u001b[0mkwargs\u001b[0m\u001b[0;34m)\u001b[0m\u001b[0;34m\u001b[0m\u001b[0m\n\u001b[0m\u001b[1;32m     71\u001b[0m \u001b[0;34m\u001b[0m\u001b[0m\n\u001b[1;32m     72\u001b[0m \u001b[0;34m\u001b[0m\u001b[0m\n",
      "\u001b[0;32m/home/lokorus/anaconda3/lib/python3.5/site-packages/requests/api.py\u001b[0m in \u001b[0;36mrequest\u001b[0;34m(method, url, **kwargs)\u001b[0m\n\u001b[1;32m     54\u001b[0m     \u001b[0;31m# cases, and look like a memory leak in others.\u001b[0m\u001b[0;34m\u001b[0m\u001b[0;34m\u001b[0m\u001b[0m\n\u001b[1;32m     55\u001b[0m     \u001b[0;32mwith\u001b[0m \u001b[0msessions\u001b[0m\u001b[0;34m.\u001b[0m\u001b[0mSession\u001b[0m\u001b[0;34m(\u001b[0m\u001b[0;34m)\u001b[0m \u001b[0;32mas\u001b[0m \u001b[0msession\u001b[0m\u001b[0;34m:\u001b[0m\u001b[0;34m\u001b[0m\u001b[0m\n\u001b[0;32m---> 56\u001b[0;31m         \u001b[0;32mreturn\u001b[0m \u001b[0msession\u001b[0m\u001b[0;34m.\u001b[0m\u001b[0mrequest\u001b[0m\u001b[0;34m(\u001b[0m\u001b[0mmethod\u001b[0m\u001b[0;34m=\u001b[0m\u001b[0mmethod\u001b[0m\u001b[0;34m,\u001b[0m \u001b[0murl\u001b[0m\u001b[0;34m=\u001b[0m\u001b[0murl\u001b[0m\u001b[0;34m,\u001b[0m \u001b[0;34m**\u001b[0m\u001b[0mkwargs\u001b[0m\u001b[0;34m)\u001b[0m\u001b[0;34m\u001b[0m\u001b[0m\n\u001b[0m\u001b[1;32m     57\u001b[0m \u001b[0;34m\u001b[0m\u001b[0m\n\u001b[1;32m     58\u001b[0m \u001b[0;34m\u001b[0m\u001b[0m\n",
      "\u001b[0;32m/home/lokorus/anaconda3/lib/python3.5/site-packages/requests/sessions.py\u001b[0m in \u001b[0;36mrequest\u001b[0;34m(self, method, url, params, data, headers, cookies, files, auth, timeout, allow_redirects, proxies, hooks, stream, verify, cert, json)\u001b[0m\n\u001b[1;32m    486\u001b[0m         }\n\u001b[1;32m    487\u001b[0m         \u001b[0msend_kwargs\u001b[0m\u001b[0;34m.\u001b[0m\u001b[0mupdate\u001b[0m\u001b[0;34m(\u001b[0m\u001b[0msettings\u001b[0m\u001b[0;34m)\u001b[0m\u001b[0;34m\u001b[0m\u001b[0m\n\u001b[0;32m--> 488\u001b[0;31m         \u001b[0mresp\u001b[0m \u001b[0;34m=\u001b[0m \u001b[0mself\u001b[0m\u001b[0;34m.\u001b[0m\u001b[0msend\u001b[0m\u001b[0;34m(\u001b[0m\u001b[0mprep\u001b[0m\u001b[0;34m,\u001b[0m \u001b[0;34m**\u001b[0m\u001b[0msend_kwargs\u001b[0m\u001b[0;34m)\u001b[0m\u001b[0;34m\u001b[0m\u001b[0m\n\u001b[0m\u001b[1;32m    489\u001b[0m \u001b[0;34m\u001b[0m\u001b[0m\n\u001b[1;32m    490\u001b[0m         \u001b[0;32mreturn\u001b[0m \u001b[0mresp\u001b[0m\u001b[0;34m\u001b[0m\u001b[0m\n",
      "\u001b[0;32m/home/lokorus/anaconda3/lib/python3.5/site-packages/requests/sessions.py\u001b[0m in \u001b[0;36msend\u001b[0;34m(self, request, **kwargs)\u001b[0m\n\u001b[1;32m    607\u001b[0m \u001b[0;34m\u001b[0m\u001b[0m\n\u001b[1;32m    608\u001b[0m         \u001b[0;31m# Send the request\u001b[0m\u001b[0;34m\u001b[0m\u001b[0;34m\u001b[0m\u001b[0m\n\u001b[0;32m--> 609\u001b[0;31m         \u001b[0mr\u001b[0m \u001b[0;34m=\u001b[0m \u001b[0madapter\u001b[0m\u001b[0;34m.\u001b[0m\u001b[0msend\u001b[0m\u001b[0;34m(\u001b[0m\u001b[0mrequest\u001b[0m\u001b[0;34m,\u001b[0m \u001b[0;34m**\u001b[0m\u001b[0mkwargs\u001b[0m\u001b[0;34m)\u001b[0m\u001b[0;34m\u001b[0m\u001b[0m\n\u001b[0m\u001b[1;32m    610\u001b[0m \u001b[0;34m\u001b[0m\u001b[0m\n\u001b[1;32m    611\u001b[0m         \u001b[0;31m# Total elapsed time of the request (approximately)\u001b[0m\u001b[0;34m\u001b[0m\u001b[0;34m\u001b[0m\u001b[0m\n",
      "\u001b[0;32m/home/lokorus/anaconda3/lib/python3.5/site-packages/requests/adapters.py\u001b[0m in \u001b[0;36msend\u001b[0;34m(self, request, stream, timeout, verify, cert, proxies)\u001b[0m\n\u001b[1;32m    421\u001b[0m                     \u001b[0mdecode_content\u001b[0m\u001b[0;34m=\u001b[0m\u001b[0;32mFalse\u001b[0m\u001b[0;34m,\u001b[0m\u001b[0;34m\u001b[0m\u001b[0m\n\u001b[1;32m    422\u001b[0m                     \u001b[0mretries\u001b[0m\u001b[0;34m=\u001b[0m\u001b[0mself\u001b[0m\u001b[0;34m.\u001b[0m\u001b[0mmax_retries\u001b[0m\u001b[0;34m,\u001b[0m\u001b[0;34m\u001b[0m\u001b[0m\n\u001b[0;32m--> 423\u001b[0;31m                     \u001b[0mtimeout\u001b[0m\u001b[0;34m=\u001b[0m\u001b[0mtimeout\u001b[0m\u001b[0;34m\u001b[0m\u001b[0m\n\u001b[0m\u001b[1;32m    424\u001b[0m                 )\n\u001b[1;32m    425\u001b[0m \u001b[0;34m\u001b[0m\u001b[0m\n",
      "\u001b[0;32m/home/lokorus/anaconda3/lib/python3.5/site-packages/requests/packages/urllib3/connectionpool.py\u001b[0m in \u001b[0;36murlopen\u001b[0;34m(self, method, url, body, headers, retries, redirect, assert_same_host, timeout, pool_timeout, release_conn, chunked, **response_kw)\u001b[0m\n\u001b[1;32m    592\u001b[0m                                                   \u001b[0mtimeout\u001b[0m\u001b[0;34m=\u001b[0m\u001b[0mtimeout_obj\u001b[0m\u001b[0;34m,\u001b[0m\u001b[0;34m\u001b[0m\u001b[0m\n\u001b[1;32m    593\u001b[0m                                                   \u001b[0mbody\u001b[0m\u001b[0;34m=\u001b[0m\u001b[0mbody\u001b[0m\u001b[0;34m,\u001b[0m \u001b[0mheaders\u001b[0m\u001b[0;34m=\u001b[0m\u001b[0mheaders\u001b[0m\u001b[0;34m,\u001b[0m\u001b[0;34m\u001b[0m\u001b[0m\n\u001b[0;32m--> 594\u001b[0;31m                                                   chunked=chunked)\n\u001b[0m\u001b[1;32m    595\u001b[0m \u001b[0;34m\u001b[0m\u001b[0m\n\u001b[1;32m    596\u001b[0m             \u001b[0;31m# If we're going to release the connection in ``finally:``, then\u001b[0m\u001b[0;34m\u001b[0m\u001b[0;34m\u001b[0m\u001b[0m\n",
      "\u001b[0;32m/home/lokorus/anaconda3/lib/python3.5/site-packages/requests/packages/urllib3/connectionpool.py\u001b[0m in \u001b[0;36m_make_request\u001b[0;34m(self, conn, method, url, timeout, chunked, **httplib_request_kw)\u001b[0m\n\u001b[1;32m    385\u001b[0m             \u001b[0;32mexcept\u001b[0m \u001b[0mTypeError\u001b[0m\u001b[0;34m:\u001b[0m  \u001b[0;31m# Python 2.6 and older, Python 3\u001b[0m\u001b[0;34m\u001b[0m\u001b[0m\n\u001b[1;32m    386\u001b[0m                 \u001b[0;32mtry\u001b[0m\u001b[0;34m:\u001b[0m\u001b[0;34m\u001b[0m\u001b[0m\n\u001b[0;32m--> 387\u001b[0;31m                     \u001b[0mhttplib_response\u001b[0m \u001b[0;34m=\u001b[0m \u001b[0mconn\u001b[0m\u001b[0;34m.\u001b[0m\u001b[0mgetresponse\u001b[0m\u001b[0;34m(\u001b[0m\u001b[0;34m)\u001b[0m\u001b[0;34m\u001b[0m\u001b[0m\n\u001b[0m\u001b[1;32m    388\u001b[0m                 \u001b[0;32mexcept\u001b[0m \u001b[0mException\u001b[0m \u001b[0;32mas\u001b[0m \u001b[0me\u001b[0m\u001b[0;34m:\u001b[0m\u001b[0;34m\u001b[0m\u001b[0m\n\u001b[1;32m    389\u001b[0m                     \u001b[0;31m# Remove the TypeError from the exception chain in Python 3;\u001b[0m\u001b[0;34m\u001b[0m\u001b[0;34m\u001b[0m\u001b[0m\n",
      "\u001b[0;32m/home/lokorus/anaconda3/lib/python3.5/http/client.py\u001b[0m in \u001b[0;36mgetresponse\u001b[0;34m(self)\u001b[0m\n\u001b[1;32m   1195\u001b[0m         \u001b[0;32mtry\u001b[0m\u001b[0;34m:\u001b[0m\u001b[0;34m\u001b[0m\u001b[0m\n\u001b[1;32m   1196\u001b[0m             \u001b[0;32mtry\u001b[0m\u001b[0;34m:\u001b[0m\u001b[0;34m\u001b[0m\u001b[0m\n\u001b[0;32m-> 1197\u001b[0;31m                 \u001b[0mresponse\u001b[0m\u001b[0;34m.\u001b[0m\u001b[0mbegin\u001b[0m\u001b[0;34m(\u001b[0m\u001b[0;34m)\u001b[0m\u001b[0;34m\u001b[0m\u001b[0m\n\u001b[0m\u001b[1;32m   1198\u001b[0m             \u001b[0;32mexcept\u001b[0m \u001b[0mConnectionError\u001b[0m\u001b[0;34m:\u001b[0m\u001b[0;34m\u001b[0m\u001b[0m\n\u001b[1;32m   1199\u001b[0m                 \u001b[0mself\u001b[0m\u001b[0;34m.\u001b[0m\u001b[0mclose\u001b[0m\u001b[0;34m(\u001b[0m\u001b[0;34m)\u001b[0m\u001b[0;34m\u001b[0m\u001b[0m\n",
      "\u001b[0;32m/home/lokorus/anaconda3/lib/python3.5/http/client.py\u001b[0m in \u001b[0;36mbegin\u001b[0;34m(self)\u001b[0m\n\u001b[1;32m    295\u001b[0m         \u001b[0;31m# read until we get a non-100 response\u001b[0m\u001b[0;34m\u001b[0m\u001b[0;34m\u001b[0m\u001b[0m\n\u001b[1;32m    296\u001b[0m         \u001b[0;32mwhile\u001b[0m \u001b[0;32mTrue\u001b[0m\u001b[0;34m:\u001b[0m\u001b[0;34m\u001b[0m\u001b[0m\n\u001b[0;32m--> 297\u001b[0;31m             \u001b[0mversion\u001b[0m\u001b[0;34m,\u001b[0m \u001b[0mstatus\u001b[0m\u001b[0;34m,\u001b[0m \u001b[0mreason\u001b[0m \u001b[0;34m=\u001b[0m \u001b[0mself\u001b[0m\u001b[0;34m.\u001b[0m\u001b[0m_read_status\u001b[0m\u001b[0;34m(\u001b[0m\u001b[0;34m)\u001b[0m\u001b[0;34m\u001b[0m\u001b[0m\n\u001b[0m\u001b[1;32m    298\u001b[0m             \u001b[0;32mif\u001b[0m \u001b[0mstatus\u001b[0m \u001b[0;34m!=\u001b[0m \u001b[0mCONTINUE\u001b[0m\u001b[0;34m:\u001b[0m\u001b[0;34m\u001b[0m\u001b[0m\n\u001b[1;32m    299\u001b[0m                 \u001b[0;32mbreak\u001b[0m\u001b[0;34m\u001b[0m\u001b[0m\n",
      "\u001b[0;32m/home/lokorus/anaconda3/lib/python3.5/http/client.py\u001b[0m in \u001b[0;36m_read_status\u001b[0;34m(self)\u001b[0m\n\u001b[1;32m    256\u001b[0m \u001b[0;34m\u001b[0m\u001b[0m\n\u001b[1;32m    257\u001b[0m     \u001b[0;32mdef\u001b[0m \u001b[0m_read_status\u001b[0m\u001b[0;34m(\u001b[0m\u001b[0mself\u001b[0m\u001b[0;34m)\u001b[0m\u001b[0;34m:\u001b[0m\u001b[0;34m\u001b[0m\u001b[0m\n\u001b[0;32m--> 258\u001b[0;31m         \u001b[0mline\u001b[0m \u001b[0;34m=\u001b[0m \u001b[0mstr\u001b[0m\u001b[0;34m(\u001b[0m\u001b[0mself\u001b[0m\u001b[0;34m.\u001b[0m\u001b[0mfp\u001b[0m\u001b[0;34m.\u001b[0m\u001b[0mreadline\u001b[0m\u001b[0;34m(\u001b[0m\u001b[0m_MAXLINE\u001b[0m \u001b[0;34m+\u001b[0m \u001b[0;36m1\u001b[0m\u001b[0;34m)\u001b[0m\u001b[0;34m,\u001b[0m \u001b[0;34m\"iso-8859-1\"\u001b[0m\u001b[0;34m)\u001b[0m\u001b[0;34m\u001b[0m\u001b[0m\n\u001b[0m\u001b[1;32m    259\u001b[0m         \u001b[0;32mif\u001b[0m \u001b[0mlen\u001b[0m\u001b[0;34m(\u001b[0m\u001b[0mline\u001b[0m\u001b[0;34m)\u001b[0m \u001b[0;34m>\u001b[0m \u001b[0m_MAXLINE\u001b[0m\u001b[0;34m:\u001b[0m\u001b[0;34m\u001b[0m\u001b[0m\n\u001b[1;32m    260\u001b[0m             \u001b[0;32mraise\u001b[0m \u001b[0mLineTooLong\u001b[0m\u001b[0;34m(\u001b[0m\u001b[0;34m\"status line\"\u001b[0m\u001b[0;34m)\u001b[0m\u001b[0;34m\u001b[0m\u001b[0m\n",
      "\u001b[0;32m/home/lokorus/anaconda3/lib/python3.5/socket.py\u001b[0m in \u001b[0;36mreadinto\u001b[0;34m(self, b)\u001b[0m\n\u001b[1;32m    573\u001b[0m         \u001b[0;32mwhile\u001b[0m \u001b[0;32mTrue\u001b[0m\u001b[0;34m:\u001b[0m\u001b[0;34m\u001b[0m\u001b[0m\n\u001b[1;32m    574\u001b[0m             \u001b[0;32mtry\u001b[0m\u001b[0;34m:\u001b[0m\u001b[0;34m\u001b[0m\u001b[0m\n\u001b[0;32m--> 575\u001b[0;31m                 \u001b[0;32mreturn\u001b[0m \u001b[0mself\u001b[0m\u001b[0;34m.\u001b[0m\u001b[0m_sock\u001b[0m\u001b[0;34m.\u001b[0m\u001b[0mrecv_into\u001b[0m\u001b[0;34m(\u001b[0m\u001b[0mb\u001b[0m\u001b[0;34m)\u001b[0m\u001b[0;34m\u001b[0m\u001b[0m\n\u001b[0m\u001b[1;32m    576\u001b[0m             \u001b[0;32mexcept\u001b[0m \u001b[0mtimeout\u001b[0m\u001b[0;34m:\u001b[0m\u001b[0;34m\u001b[0m\u001b[0m\n\u001b[1;32m    577\u001b[0m                 \u001b[0mself\u001b[0m\u001b[0;34m.\u001b[0m\u001b[0m_timeout_occurred\u001b[0m \u001b[0;34m=\u001b[0m \u001b[0;32mTrue\u001b[0m\u001b[0;34m\u001b[0m\u001b[0m\n",
      "\u001b[0;32m/home/lokorus/anaconda3/lib/python3.5/site-packages/requests/packages/urllib3/contrib/pyopenssl.py\u001b[0m in \u001b[0;36mrecv_into\u001b[0;34m(self, *args, **kwargs)\u001b[0m\n\u001b[1;32m    254\u001b[0m     \u001b[0;32mdef\u001b[0m \u001b[0mrecv_into\u001b[0m\u001b[0;34m(\u001b[0m\u001b[0mself\u001b[0m\u001b[0;34m,\u001b[0m \u001b[0;34m*\u001b[0m\u001b[0margs\u001b[0m\u001b[0;34m,\u001b[0m \u001b[0;34m**\u001b[0m\u001b[0mkwargs\u001b[0m\u001b[0;34m)\u001b[0m\u001b[0;34m:\u001b[0m\u001b[0;34m\u001b[0m\u001b[0m\n\u001b[1;32m    255\u001b[0m         \u001b[0;32mtry\u001b[0m\u001b[0;34m:\u001b[0m\u001b[0;34m\u001b[0m\u001b[0m\n\u001b[0;32m--> 256\u001b[0;31m             \u001b[0;32mreturn\u001b[0m \u001b[0mself\u001b[0m\u001b[0;34m.\u001b[0m\u001b[0mconnection\u001b[0m\u001b[0;34m.\u001b[0m\u001b[0mrecv_into\u001b[0m\u001b[0;34m(\u001b[0m\u001b[0;34m*\u001b[0m\u001b[0margs\u001b[0m\u001b[0;34m,\u001b[0m \u001b[0;34m**\u001b[0m\u001b[0mkwargs\u001b[0m\u001b[0;34m)\u001b[0m\u001b[0;34m\u001b[0m\u001b[0m\n\u001b[0m\u001b[1;32m    257\u001b[0m         \u001b[0;32mexcept\u001b[0m \u001b[0mOpenSSL\u001b[0m\u001b[0;34m.\u001b[0m\u001b[0mSSL\u001b[0m\u001b[0;34m.\u001b[0m\u001b[0mSysCallError\u001b[0m \u001b[0;32mas\u001b[0m \u001b[0me\u001b[0m\u001b[0;34m:\u001b[0m\u001b[0;34m\u001b[0m\u001b[0m\n\u001b[1;32m    258\u001b[0m             \u001b[0;32mif\u001b[0m \u001b[0mself\u001b[0m\u001b[0;34m.\u001b[0m\u001b[0msuppress_ragged_eofs\u001b[0m \u001b[0;32mand\u001b[0m \u001b[0me\u001b[0m\u001b[0;34m.\u001b[0m\u001b[0margs\u001b[0m \u001b[0;34m==\u001b[0m \u001b[0;34m(\u001b[0m\u001b[0;34m-\u001b[0m\u001b[0;36m1\u001b[0m\u001b[0;34m,\u001b[0m \u001b[0;34m'Unexpected EOF'\u001b[0m\u001b[0;34m)\u001b[0m\u001b[0;34m:\u001b[0m\u001b[0;34m\u001b[0m\u001b[0m\n",
      "\u001b[0;32m/home/lokorus/anaconda3/lib/python3.5/site-packages/OpenSSL/SSL.py\u001b[0m in \u001b[0;36mrecv_into\u001b[0;34m(self, buffer, nbytes, flags)\u001b[0m\n\u001b[1;32m   1349\u001b[0m             \u001b[0mresult\u001b[0m \u001b[0;34m=\u001b[0m \u001b[0m_lib\u001b[0m\u001b[0;34m.\u001b[0m\u001b[0mSSL_peek\u001b[0m\u001b[0;34m(\u001b[0m\u001b[0mself\u001b[0m\u001b[0;34m.\u001b[0m\u001b[0m_ssl\u001b[0m\u001b[0;34m,\u001b[0m \u001b[0mbuf\u001b[0m\u001b[0;34m,\u001b[0m \u001b[0mnbytes\u001b[0m\u001b[0;34m)\u001b[0m\u001b[0;34m\u001b[0m\u001b[0m\n\u001b[1;32m   1350\u001b[0m         \u001b[0;32melse\u001b[0m\u001b[0;34m:\u001b[0m\u001b[0;34m\u001b[0m\u001b[0m\n\u001b[0;32m-> 1351\u001b[0;31m             \u001b[0mresult\u001b[0m \u001b[0;34m=\u001b[0m \u001b[0m_lib\u001b[0m\u001b[0;34m.\u001b[0m\u001b[0mSSL_read\u001b[0m\u001b[0;34m(\u001b[0m\u001b[0mself\u001b[0m\u001b[0;34m.\u001b[0m\u001b[0m_ssl\u001b[0m\u001b[0;34m,\u001b[0m \u001b[0mbuf\u001b[0m\u001b[0;34m,\u001b[0m \u001b[0mnbytes\u001b[0m\u001b[0;34m)\u001b[0m\u001b[0;34m\u001b[0m\u001b[0m\n\u001b[0m\u001b[1;32m   1352\u001b[0m         \u001b[0mself\u001b[0m\u001b[0;34m.\u001b[0m\u001b[0m_raise_ssl_error\u001b[0m\u001b[0;34m(\u001b[0m\u001b[0mself\u001b[0m\u001b[0;34m.\u001b[0m\u001b[0m_ssl\u001b[0m\u001b[0;34m,\u001b[0m \u001b[0mresult\u001b[0m\u001b[0;34m)\u001b[0m\u001b[0;34m\u001b[0m\u001b[0m\n\u001b[1;32m   1353\u001b[0m \u001b[0;34m\u001b[0m\u001b[0m\n",
      "\u001b[0;31mKeyboardInterrupt\u001b[0m: "
     ]
    }
   ],
   "source": [
    "small_table_area['Vacancies'] = small_table_area['Area_id'].apply(find_all_vacancy_found)\n",
    "small_table_area['Vacancies_with_salary'] = small_table_area['Area_id'].apply(find_salary_vacancy_found)"
   ]
  },
  {
   "cell_type": "code",
   "execution_count": 33,
   "metadata": {
    "collapsed": false
   },
   "outputs": [
    {
     "ename": "KeyError",
     "evalue": "'Vacancies_with_salary'",
     "output_type": "error",
     "traceback": [
      "\u001b[0;31m---------------------------------------------------------------------------\u001b[0m",
      "\u001b[0;31mKeyError\u001b[0m                                  Traceback (most recent call last)",
      "\u001b[0;32m/home/lokorus/anaconda3/lib/python3.5/site-packages/pandas/indexes/base.py\u001b[0m in \u001b[0;36mget_loc\u001b[0;34m(self, key, method, tolerance)\u001b[0m\n\u001b[1;32m   1944\u001b[0m             \u001b[0;32mtry\u001b[0m\u001b[0;34m:\u001b[0m\u001b[0;34m\u001b[0m\u001b[0m\n\u001b[0;32m-> 1945\u001b[0;31m                 \u001b[0;32mreturn\u001b[0m \u001b[0mself\u001b[0m\u001b[0;34m.\u001b[0m\u001b[0m_engine\u001b[0m\u001b[0;34m.\u001b[0m\u001b[0mget_loc\u001b[0m\u001b[0;34m(\u001b[0m\u001b[0mkey\u001b[0m\u001b[0;34m)\u001b[0m\u001b[0;34m\u001b[0m\u001b[0m\n\u001b[0m\u001b[1;32m   1946\u001b[0m             \u001b[0;32mexcept\u001b[0m \u001b[0mKeyError\u001b[0m\u001b[0;34m:\u001b[0m\u001b[0;34m\u001b[0m\u001b[0m\n",
      "\u001b[0;32mpandas/index.pyx\u001b[0m in \u001b[0;36mpandas.index.IndexEngine.get_loc (pandas/index.c:4154)\u001b[0;34m()\u001b[0m\n",
      "\u001b[0;32mpandas/index.pyx\u001b[0m in \u001b[0;36mpandas.index.IndexEngine.get_loc (pandas/index.c:4018)\u001b[0;34m()\u001b[0m\n",
      "\u001b[0;32mpandas/hashtable.pyx\u001b[0m in \u001b[0;36mpandas.hashtable.PyObjectHashTable.get_item (pandas/hashtable.c:12368)\u001b[0;34m()\u001b[0m\n",
      "\u001b[0;32mpandas/hashtable.pyx\u001b[0m in \u001b[0;36mpandas.hashtable.PyObjectHashTable.get_item (pandas/hashtable.c:12322)\u001b[0;34m()\u001b[0m\n",
      "\u001b[0;31mKeyError\u001b[0m: 'Vacancies_with_salary'",
      "\nDuring handling of the above exception, another exception occurred:\n",
      "\u001b[0;31mKeyError\u001b[0m                                  Traceback (most recent call last)",
      "\u001b[0;32m<ipython-input-33-6ef1d4223c6a>\u001b[0m in \u001b[0;36m<module>\u001b[0;34m()\u001b[0m\n\u001b[0;32m----> 1\u001b[0;31m \u001b[0msmall_table_area\u001b[0m\u001b[0;34m.\u001b[0m\u001b[0msort_values\u001b[0m\u001b[0;34m(\u001b[0m\u001b[0mby\u001b[0m\u001b[0;34m=\u001b[0m\u001b[0;34m'Vacancies_with_salary'\u001b[0m\u001b[0;34m,\u001b[0m \u001b[0mascending\u001b[0m\u001b[0;34m=\u001b[0m\u001b[0;32mFalse\u001b[0m\u001b[0;34m)\u001b[0m\u001b[0;34m.\u001b[0m\u001b[0mhead\u001b[0m\u001b[0;34m(\u001b[0m\u001b[0;36m10\u001b[0m\u001b[0;34m)\u001b[0m\u001b[0;34m\u001b[0m\u001b[0m\n\u001b[0m",
      "\u001b[0;32m/home/lokorus/anaconda3/lib/python3.5/site-packages/pandas/core/frame.py\u001b[0m in \u001b[0;36msort_values\u001b[0;34m(self, by, axis, ascending, inplace, kind, na_position)\u001b[0m\n\u001b[1;32m   3149\u001b[0m \u001b[0;34m\u001b[0m\u001b[0m\n\u001b[1;32m   3150\u001b[0m             \u001b[0mby\u001b[0m \u001b[0;34m=\u001b[0m \u001b[0mby\u001b[0m\u001b[0;34m[\u001b[0m\u001b[0;36m0\u001b[0m\u001b[0;34m]\u001b[0m\u001b[0;34m\u001b[0m\u001b[0m\n\u001b[0;32m-> 3151\u001b[0;31m             \u001b[0mk\u001b[0m \u001b[0;34m=\u001b[0m \u001b[0mself\u001b[0m\u001b[0;34m[\u001b[0m\u001b[0mby\u001b[0m\u001b[0;34m]\u001b[0m\u001b[0;34m.\u001b[0m\u001b[0mvalues\u001b[0m\u001b[0;34m\u001b[0m\u001b[0m\n\u001b[0m\u001b[1;32m   3152\u001b[0m             \u001b[0;32mif\u001b[0m \u001b[0mk\u001b[0m\u001b[0;34m.\u001b[0m\u001b[0mndim\u001b[0m \u001b[0;34m==\u001b[0m \u001b[0;36m2\u001b[0m\u001b[0;34m:\u001b[0m\u001b[0;34m\u001b[0m\u001b[0m\n\u001b[1;32m   3153\u001b[0m \u001b[0;34m\u001b[0m\u001b[0m\n",
      "\u001b[0;32m/home/lokorus/anaconda3/lib/python3.5/site-packages/pandas/core/frame.py\u001b[0m in \u001b[0;36m__getitem__\u001b[0;34m(self, key)\u001b[0m\n\u001b[1;32m   1995\u001b[0m             \u001b[0;32mreturn\u001b[0m \u001b[0mself\u001b[0m\u001b[0;34m.\u001b[0m\u001b[0m_getitem_multilevel\u001b[0m\u001b[0;34m(\u001b[0m\u001b[0mkey\u001b[0m\u001b[0;34m)\u001b[0m\u001b[0;34m\u001b[0m\u001b[0m\n\u001b[1;32m   1996\u001b[0m         \u001b[0;32melse\u001b[0m\u001b[0;34m:\u001b[0m\u001b[0;34m\u001b[0m\u001b[0m\n\u001b[0;32m-> 1997\u001b[0;31m             \u001b[0;32mreturn\u001b[0m \u001b[0mself\u001b[0m\u001b[0;34m.\u001b[0m\u001b[0m_getitem_column\u001b[0m\u001b[0;34m(\u001b[0m\u001b[0mkey\u001b[0m\u001b[0;34m)\u001b[0m\u001b[0;34m\u001b[0m\u001b[0m\n\u001b[0m\u001b[1;32m   1998\u001b[0m \u001b[0;34m\u001b[0m\u001b[0m\n\u001b[1;32m   1999\u001b[0m     \u001b[0;32mdef\u001b[0m \u001b[0m_getitem_column\u001b[0m\u001b[0;34m(\u001b[0m\u001b[0mself\u001b[0m\u001b[0;34m,\u001b[0m \u001b[0mkey\u001b[0m\u001b[0;34m)\u001b[0m\u001b[0;34m:\u001b[0m\u001b[0;34m\u001b[0m\u001b[0m\n",
      "\u001b[0;32m/home/lokorus/anaconda3/lib/python3.5/site-packages/pandas/core/frame.py\u001b[0m in \u001b[0;36m_getitem_column\u001b[0;34m(self, key)\u001b[0m\n\u001b[1;32m   2002\u001b[0m         \u001b[0;31m# get column\u001b[0m\u001b[0;34m\u001b[0m\u001b[0;34m\u001b[0m\u001b[0m\n\u001b[1;32m   2003\u001b[0m         \u001b[0;32mif\u001b[0m \u001b[0mself\u001b[0m\u001b[0;34m.\u001b[0m\u001b[0mcolumns\u001b[0m\u001b[0;34m.\u001b[0m\u001b[0mis_unique\u001b[0m\u001b[0;34m:\u001b[0m\u001b[0;34m\u001b[0m\u001b[0m\n\u001b[0;32m-> 2004\u001b[0;31m             \u001b[0;32mreturn\u001b[0m \u001b[0mself\u001b[0m\u001b[0;34m.\u001b[0m\u001b[0m_get_item_cache\u001b[0m\u001b[0;34m(\u001b[0m\u001b[0mkey\u001b[0m\u001b[0;34m)\u001b[0m\u001b[0;34m\u001b[0m\u001b[0m\n\u001b[0m\u001b[1;32m   2005\u001b[0m \u001b[0;34m\u001b[0m\u001b[0m\n\u001b[1;32m   2006\u001b[0m         \u001b[0;31m# duplicate columns & possible reduce dimensionality\u001b[0m\u001b[0;34m\u001b[0m\u001b[0;34m\u001b[0m\u001b[0m\n",
      "\u001b[0;32m/home/lokorus/anaconda3/lib/python3.5/site-packages/pandas/core/generic.py\u001b[0m in \u001b[0;36m_get_item_cache\u001b[0;34m(self, item)\u001b[0m\n\u001b[1;32m   1348\u001b[0m         \u001b[0mres\u001b[0m \u001b[0;34m=\u001b[0m \u001b[0mcache\u001b[0m\u001b[0;34m.\u001b[0m\u001b[0mget\u001b[0m\u001b[0;34m(\u001b[0m\u001b[0mitem\u001b[0m\u001b[0;34m)\u001b[0m\u001b[0;34m\u001b[0m\u001b[0m\n\u001b[1;32m   1349\u001b[0m         \u001b[0;32mif\u001b[0m \u001b[0mres\u001b[0m \u001b[0;32mis\u001b[0m \u001b[0;32mNone\u001b[0m\u001b[0;34m:\u001b[0m\u001b[0;34m\u001b[0m\u001b[0m\n\u001b[0;32m-> 1350\u001b[0;31m             \u001b[0mvalues\u001b[0m \u001b[0;34m=\u001b[0m \u001b[0mself\u001b[0m\u001b[0;34m.\u001b[0m\u001b[0m_data\u001b[0m\u001b[0;34m.\u001b[0m\u001b[0mget\u001b[0m\u001b[0;34m(\u001b[0m\u001b[0mitem\u001b[0m\u001b[0;34m)\u001b[0m\u001b[0;34m\u001b[0m\u001b[0m\n\u001b[0m\u001b[1;32m   1351\u001b[0m             \u001b[0mres\u001b[0m \u001b[0;34m=\u001b[0m \u001b[0mself\u001b[0m\u001b[0;34m.\u001b[0m\u001b[0m_box_item_values\u001b[0m\u001b[0;34m(\u001b[0m\u001b[0mitem\u001b[0m\u001b[0;34m,\u001b[0m \u001b[0mvalues\u001b[0m\u001b[0;34m)\u001b[0m\u001b[0;34m\u001b[0m\u001b[0m\n\u001b[1;32m   1352\u001b[0m             \u001b[0mcache\u001b[0m\u001b[0;34m[\u001b[0m\u001b[0mitem\u001b[0m\u001b[0;34m]\u001b[0m \u001b[0;34m=\u001b[0m \u001b[0mres\u001b[0m\u001b[0;34m\u001b[0m\u001b[0m\n",
      "\u001b[0;32m/home/lokorus/anaconda3/lib/python3.5/site-packages/pandas/core/internals.py\u001b[0m in \u001b[0;36mget\u001b[0;34m(self, item, fastpath)\u001b[0m\n\u001b[1;32m   3288\u001b[0m \u001b[0;34m\u001b[0m\u001b[0m\n\u001b[1;32m   3289\u001b[0m             \u001b[0;32mif\u001b[0m \u001b[0;32mnot\u001b[0m \u001b[0misnull\u001b[0m\u001b[0;34m(\u001b[0m\u001b[0mitem\u001b[0m\u001b[0;34m)\u001b[0m\u001b[0;34m:\u001b[0m\u001b[0;34m\u001b[0m\u001b[0m\n\u001b[0;32m-> 3290\u001b[0;31m                 \u001b[0mloc\u001b[0m \u001b[0;34m=\u001b[0m \u001b[0mself\u001b[0m\u001b[0;34m.\u001b[0m\u001b[0mitems\u001b[0m\u001b[0;34m.\u001b[0m\u001b[0mget_loc\u001b[0m\u001b[0;34m(\u001b[0m\u001b[0mitem\u001b[0m\u001b[0;34m)\u001b[0m\u001b[0;34m\u001b[0m\u001b[0m\n\u001b[0m\u001b[1;32m   3291\u001b[0m             \u001b[0;32melse\u001b[0m\u001b[0;34m:\u001b[0m\u001b[0;34m\u001b[0m\u001b[0m\n\u001b[1;32m   3292\u001b[0m                 \u001b[0mindexer\u001b[0m \u001b[0;34m=\u001b[0m \u001b[0mnp\u001b[0m\u001b[0;34m.\u001b[0m\u001b[0marange\u001b[0m\u001b[0;34m(\u001b[0m\u001b[0mlen\u001b[0m\u001b[0;34m(\u001b[0m\u001b[0mself\u001b[0m\u001b[0;34m.\u001b[0m\u001b[0mitems\u001b[0m\u001b[0;34m)\u001b[0m\u001b[0;34m)\u001b[0m\u001b[0;34m[\u001b[0m\u001b[0misnull\u001b[0m\u001b[0;34m(\u001b[0m\u001b[0mself\u001b[0m\u001b[0;34m.\u001b[0m\u001b[0mitems\u001b[0m\u001b[0;34m)\u001b[0m\u001b[0;34m]\u001b[0m\u001b[0;34m\u001b[0m\u001b[0m\n",
      "\u001b[0;32m/home/lokorus/anaconda3/lib/python3.5/site-packages/pandas/indexes/base.py\u001b[0m in \u001b[0;36mget_loc\u001b[0;34m(self, key, method, tolerance)\u001b[0m\n\u001b[1;32m   1945\u001b[0m                 \u001b[0;32mreturn\u001b[0m \u001b[0mself\u001b[0m\u001b[0;34m.\u001b[0m\u001b[0m_engine\u001b[0m\u001b[0;34m.\u001b[0m\u001b[0mget_loc\u001b[0m\u001b[0;34m(\u001b[0m\u001b[0mkey\u001b[0m\u001b[0;34m)\u001b[0m\u001b[0;34m\u001b[0m\u001b[0m\n\u001b[1;32m   1946\u001b[0m             \u001b[0;32mexcept\u001b[0m \u001b[0mKeyError\u001b[0m\u001b[0;34m:\u001b[0m\u001b[0;34m\u001b[0m\u001b[0m\n\u001b[0;32m-> 1947\u001b[0;31m                 \u001b[0;32mreturn\u001b[0m \u001b[0mself\u001b[0m\u001b[0;34m.\u001b[0m\u001b[0m_engine\u001b[0m\u001b[0;34m.\u001b[0m\u001b[0mget_loc\u001b[0m\u001b[0;34m(\u001b[0m\u001b[0mself\u001b[0m\u001b[0;34m.\u001b[0m\u001b[0m_maybe_cast_indexer\u001b[0m\u001b[0;34m(\u001b[0m\u001b[0mkey\u001b[0m\u001b[0;34m)\u001b[0m\u001b[0;34m)\u001b[0m\u001b[0;34m\u001b[0m\u001b[0m\n\u001b[0m\u001b[1;32m   1948\u001b[0m \u001b[0;34m\u001b[0m\u001b[0m\n\u001b[1;32m   1949\u001b[0m         \u001b[0mindexer\u001b[0m \u001b[0;34m=\u001b[0m \u001b[0mself\u001b[0m\u001b[0;34m.\u001b[0m\u001b[0mget_indexer\u001b[0m\u001b[0;34m(\u001b[0m\u001b[0;34m[\u001b[0m\u001b[0mkey\u001b[0m\u001b[0;34m]\u001b[0m\u001b[0;34m,\u001b[0m \u001b[0mmethod\u001b[0m\u001b[0;34m=\u001b[0m\u001b[0mmethod\u001b[0m\u001b[0;34m,\u001b[0m \u001b[0mtolerance\u001b[0m\u001b[0;34m=\u001b[0m\u001b[0mtolerance\u001b[0m\u001b[0;34m)\u001b[0m\u001b[0;34m\u001b[0m\u001b[0m\n",
      "\u001b[0;32mpandas/index.pyx\u001b[0m in \u001b[0;36mpandas.index.IndexEngine.get_loc (pandas/index.c:4154)\u001b[0;34m()\u001b[0m\n",
      "\u001b[0;32mpandas/index.pyx\u001b[0m in \u001b[0;36mpandas.index.IndexEngine.get_loc (pandas/index.c:4018)\u001b[0;34m()\u001b[0m\n",
      "\u001b[0;32mpandas/hashtable.pyx\u001b[0m in \u001b[0;36mpandas.hashtable.PyObjectHashTable.get_item (pandas/hashtable.c:12368)\u001b[0;34m()\u001b[0m\n",
      "\u001b[0;32mpandas/hashtable.pyx\u001b[0m in \u001b[0;36mpandas.hashtable.PyObjectHashTable.get_item (pandas/hashtable.c:12322)\u001b[0;34m()\u001b[0m\n",
      "\u001b[0;31mKeyError\u001b[0m: 'Vacancies_with_salary'"
     ]
    }
   ],
   "source": [
    "small_table_area.sort_values(by='Vacancies_with_salary', ascending=False).head(10)"
   ]
  },
  {
   "cell_type": "markdown",
   "metadata": {},
   "source": [
    "Экспортирую таблицу в экселевский файл"
   ]
  },
  {
   "cell_type": "code",
   "execution_count": 23,
   "metadata": {
    "collapsed": true
   },
   "outputs": [],
   "source": [
    "small_table_area[['Name','Vacancies','Vacancies_with_salary']].to_excel('small_table_area_140117.xlsx',index=False)\n",
    "small_table_area[['Name','Vacancies','Vacancies_with_salary']].to_csv('small_table_area_140117.csv',index=False)"
   ]
  },
  {
   "cell_type": "code",
   "execution_count": null,
   "metadata": {
    "collapsed": true
   },
   "outputs": [],
   "source": [
    "small_table_area[['Name','Vacancies','Vacancies_with_salary']].to_excel('small_table_area.xlsx',index=False)"
   ]
  },
  {
   "cell_type": "code",
   "execution_count": 18,
   "metadata": {
    "collapsed": false,
    "scrolled": false
   },
   "outputs": [
    {
     "data": {
      "text/html": [
       "<div>\n",
       "<style>\n",
       "    .dataframe thead tr:only-child th {\n",
       "        text-align: right;\n",
       "    }\n",
       "\n",
       "    .dataframe thead th {\n",
       "        text-align: left;\n",
       "    }\n",
       "\n",
       "    .dataframe tbody tr th {\n",
       "        vertical-align: top;\n",
       "    }\n",
       "</style>\n",
       "<table border=\"1\" class=\"dataframe\">\n",
       "  <thead>\n",
       "    <tr style=\"text-align: right;\">\n",
       "      <th></th>\n",
       "      <th>Name</th>\n",
       "      <th>Vacancies_with_salary</th>\n",
       "    </tr>\n",
       "  </thead>\n",
       "  <tbody>\n",
       "    <tr>\n",
       "      <th>906</th>\n",
       "      <td>Москва</td>\n",
       "      <td>8347</td>\n",
       "    </tr>\n",
       "    <tr>\n",
       "      <th>1613</th>\n",
       "      <td>Санкт-Петербург</td>\n",
       "      <td>3459</td>\n",
       "    </tr>\n",
       "    <tr>\n",
       "      <th>23</th>\n",
       "      <td>Республика Татарстан</td>\n",
       "      <td>957</td>\n",
       "    </tr>\n",
       "    <tr>\n",
       "      <th>764</th>\n",
       "      <td>Новосибирская область</td>\n",
       "      <td>918</td>\n",
       "    </tr>\n",
       "    <tr>\n",
       "      <th>2178</th>\n",
       "      <td>Свердловская область</td>\n",
       "      <td>836</td>\n",
       "    </tr>\n",
       "  </tbody>\n",
       "</table>\n",
       "</div>"
      ],
      "text/plain": [
       "                       Name  Vacancies_with_salary\n",
       "906                  Москва                   8347\n",
       "1613        Санкт-Петербург                   3459\n",
       "23     Республика Татарстан                    957\n",
       "764   Новосибирская область                    918\n",
       "2178   Свердловская область                    836"
      ]
     },
     "execution_count": 18,
     "metadata": {},
     "output_type": "execute_result"
    }
   ],
   "source": [
    "small_table_area.sort_values(by = 'Vacancies_with_salary', ascending = False)[['Name', 'Vacancies_with_salary']].head()"
   ]
  },
  {
   "cell_type": "code",
   "execution_count": 35,
   "metadata": {
    "collapsed": false,
    "scrolled": true
   },
   "outputs": [
    {
     "ename": "KeyError",
     "evalue": "'Vacancies_with_salary'",
     "output_type": "error",
     "traceback": [
      "\u001b[0;31m---------------------------------------------------------------------------\u001b[0m",
      "\u001b[0;31mKeyError\u001b[0m                                  Traceback (most recent call last)",
      "\u001b[0;32m/home/lokorus/anaconda3/lib/python3.5/site-packages/pandas/indexes/base.py\u001b[0m in \u001b[0;36mget_loc\u001b[0;34m(self, key, method, tolerance)\u001b[0m\n\u001b[1;32m   1944\u001b[0m             \u001b[0;32mtry\u001b[0m\u001b[0;34m:\u001b[0m\u001b[0;34m\u001b[0m\u001b[0m\n\u001b[0;32m-> 1945\u001b[0;31m                 \u001b[0;32mreturn\u001b[0m \u001b[0mself\u001b[0m\u001b[0;34m.\u001b[0m\u001b[0m_engine\u001b[0m\u001b[0;34m.\u001b[0m\u001b[0mget_loc\u001b[0m\u001b[0;34m(\u001b[0m\u001b[0mkey\u001b[0m\u001b[0;34m)\u001b[0m\u001b[0;34m\u001b[0m\u001b[0m\n\u001b[0m\u001b[1;32m   1946\u001b[0m             \u001b[0;32mexcept\u001b[0m \u001b[0mKeyError\u001b[0m\u001b[0;34m:\u001b[0m\u001b[0;34m\u001b[0m\u001b[0m\n",
      "\u001b[0;32mpandas/index.pyx\u001b[0m in \u001b[0;36mpandas.index.IndexEngine.get_loc (pandas/index.c:4154)\u001b[0;34m()\u001b[0m\n",
      "\u001b[0;32mpandas/index.pyx\u001b[0m in \u001b[0;36mpandas.index.IndexEngine.get_loc (pandas/index.c:4018)\u001b[0;34m()\u001b[0m\n",
      "\u001b[0;32mpandas/hashtable.pyx\u001b[0m in \u001b[0;36mpandas.hashtable.PyObjectHashTable.get_item (pandas/hashtable.c:12368)\u001b[0;34m()\u001b[0m\n",
      "\u001b[0;32mpandas/hashtable.pyx\u001b[0m in \u001b[0;36mpandas.hashtable.PyObjectHashTable.get_item (pandas/hashtable.c:12322)\u001b[0;34m()\u001b[0m\n",
      "\u001b[0;31mKeyError\u001b[0m: 'Vacancies_with_salary'",
      "\nDuring handling of the above exception, another exception occurred:\n",
      "\u001b[0;31mKeyError\u001b[0m                                  Traceback (most recent call last)",
      "\u001b[0;32m<ipython-input-35-cdfe1ed1018c>\u001b[0m in \u001b[0;36m<module>\u001b[0;34m()\u001b[0m\n\u001b[1;32m      1\u001b[0m \u001b[0mget_ipython\u001b[0m\u001b[0;34m(\u001b[0m\u001b[0;34m)\u001b[0m\u001b[0;34m.\u001b[0m\u001b[0mmagic\u001b[0m\u001b[0;34m(\u001b[0m\u001b[0;34m'matplotlib inline'\u001b[0m\u001b[0;34m)\u001b[0m\u001b[0;34m\u001b[0m\u001b[0m\n\u001b[1;32m      2\u001b[0m \u001b[0;34m\u001b[0m\u001b[0m\n\u001b[0;32m----> 3\u001b[0;31m \u001b[0mtop_15_areas\u001b[0m \u001b[0;34m=\u001b[0m \u001b[0msmall_table_area\u001b[0m\u001b[0;34m.\u001b[0m\u001b[0msort_values\u001b[0m\u001b[0;34m(\u001b[0m\u001b[0mby\u001b[0m \u001b[0;34m=\u001b[0m \u001b[0;34m'Vacancies_with_salary'\u001b[0m\u001b[0;34m,\u001b[0m \u001b[0mascending\u001b[0m \u001b[0;34m=\u001b[0m \u001b[0;32mFalse\u001b[0m\u001b[0;34m)\u001b[0m\u001b[0;34m[\u001b[0m\u001b[0;34m'Name'\u001b[0m\u001b[0;34m]\u001b[0m\u001b[0;34m[\u001b[0m\u001b[0;36m0\u001b[0m\u001b[0;34m:\u001b[0m\u001b[0;36m15\u001b[0m\u001b[0;34m]\u001b[0m\u001b[0;34m.\u001b[0m\u001b[0mvalues\u001b[0m\u001b[0;34m\u001b[0m\u001b[0m\n\u001b[0m\u001b[1;32m      4\u001b[0m \u001b[0mtop_15_areas_amount\u001b[0m \u001b[0;34m=\u001b[0m \u001b[0msmall_table_area\u001b[0m\u001b[0;34m.\u001b[0m\u001b[0msort_values\u001b[0m\u001b[0;34m(\u001b[0m\u001b[0mby\u001b[0m \u001b[0;34m=\u001b[0m \u001b[0;34m'Vacancies_with_salary'\u001b[0m\u001b[0;34m,\u001b[0m \u001b[0mascending\u001b[0m \u001b[0;34m=\u001b[0m \u001b[0;32mFalse\u001b[0m\u001b[0;34m)\u001b[0m\u001b[0;34m[\u001b[0m\u001b[0;34m'Vacancies_with_salary'\u001b[0m\u001b[0;34m]\u001b[0m\u001b[0;34m[\u001b[0m\u001b[0;36m0\u001b[0m\u001b[0;34m:\u001b[0m\u001b[0;36m15\u001b[0m\u001b[0;34m]\u001b[0m\u001b[0;34m.\u001b[0m\u001b[0mvalues\u001b[0m\u001b[0;34m\u001b[0m\u001b[0m\n\u001b[1;32m      5\u001b[0m \u001b[0my_pos\u001b[0m \u001b[0;34m=\u001b[0m \u001b[0mnp\u001b[0m\u001b[0;34m.\u001b[0m\u001b[0marange\u001b[0m\u001b[0;34m(\u001b[0m\u001b[0mlen\u001b[0m\u001b[0;34m(\u001b[0m\u001b[0mtop_15_areas\u001b[0m\u001b[0;34m)\u001b[0m\u001b[0;34m)\u001b[0m\u001b[0;34m\u001b[0m\u001b[0m\n",
      "\u001b[0;32m/home/lokorus/anaconda3/lib/python3.5/site-packages/pandas/core/frame.py\u001b[0m in \u001b[0;36msort_values\u001b[0;34m(self, by, axis, ascending, inplace, kind, na_position)\u001b[0m\n\u001b[1;32m   3149\u001b[0m \u001b[0;34m\u001b[0m\u001b[0m\n\u001b[1;32m   3150\u001b[0m             \u001b[0mby\u001b[0m \u001b[0;34m=\u001b[0m \u001b[0mby\u001b[0m\u001b[0;34m[\u001b[0m\u001b[0;36m0\u001b[0m\u001b[0;34m]\u001b[0m\u001b[0;34m\u001b[0m\u001b[0m\n\u001b[0;32m-> 3151\u001b[0;31m             \u001b[0mk\u001b[0m \u001b[0;34m=\u001b[0m \u001b[0mself\u001b[0m\u001b[0;34m[\u001b[0m\u001b[0mby\u001b[0m\u001b[0;34m]\u001b[0m\u001b[0;34m.\u001b[0m\u001b[0mvalues\u001b[0m\u001b[0;34m\u001b[0m\u001b[0m\n\u001b[0m\u001b[1;32m   3152\u001b[0m             \u001b[0;32mif\u001b[0m \u001b[0mk\u001b[0m\u001b[0;34m.\u001b[0m\u001b[0mndim\u001b[0m \u001b[0;34m==\u001b[0m \u001b[0;36m2\u001b[0m\u001b[0;34m:\u001b[0m\u001b[0;34m\u001b[0m\u001b[0m\n\u001b[1;32m   3153\u001b[0m \u001b[0;34m\u001b[0m\u001b[0m\n",
      "\u001b[0;32m/home/lokorus/anaconda3/lib/python3.5/site-packages/pandas/core/frame.py\u001b[0m in \u001b[0;36m__getitem__\u001b[0;34m(self, key)\u001b[0m\n\u001b[1;32m   1995\u001b[0m             \u001b[0;32mreturn\u001b[0m \u001b[0mself\u001b[0m\u001b[0;34m.\u001b[0m\u001b[0m_getitem_multilevel\u001b[0m\u001b[0;34m(\u001b[0m\u001b[0mkey\u001b[0m\u001b[0;34m)\u001b[0m\u001b[0;34m\u001b[0m\u001b[0m\n\u001b[1;32m   1996\u001b[0m         \u001b[0;32melse\u001b[0m\u001b[0;34m:\u001b[0m\u001b[0;34m\u001b[0m\u001b[0m\n\u001b[0;32m-> 1997\u001b[0;31m             \u001b[0;32mreturn\u001b[0m \u001b[0mself\u001b[0m\u001b[0;34m.\u001b[0m\u001b[0m_getitem_column\u001b[0m\u001b[0;34m(\u001b[0m\u001b[0mkey\u001b[0m\u001b[0;34m)\u001b[0m\u001b[0;34m\u001b[0m\u001b[0m\n\u001b[0m\u001b[1;32m   1998\u001b[0m \u001b[0;34m\u001b[0m\u001b[0m\n\u001b[1;32m   1999\u001b[0m     \u001b[0;32mdef\u001b[0m \u001b[0m_getitem_column\u001b[0m\u001b[0;34m(\u001b[0m\u001b[0mself\u001b[0m\u001b[0;34m,\u001b[0m \u001b[0mkey\u001b[0m\u001b[0;34m)\u001b[0m\u001b[0;34m:\u001b[0m\u001b[0;34m\u001b[0m\u001b[0m\n",
      "\u001b[0;32m/home/lokorus/anaconda3/lib/python3.5/site-packages/pandas/core/frame.py\u001b[0m in \u001b[0;36m_getitem_column\u001b[0;34m(self, key)\u001b[0m\n\u001b[1;32m   2002\u001b[0m         \u001b[0;31m# get column\u001b[0m\u001b[0;34m\u001b[0m\u001b[0;34m\u001b[0m\u001b[0m\n\u001b[1;32m   2003\u001b[0m         \u001b[0;32mif\u001b[0m \u001b[0mself\u001b[0m\u001b[0;34m.\u001b[0m\u001b[0mcolumns\u001b[0m\u001b[0;34m.\u001b[0m\u001b[0mis_unique\u001b[0m\u001b[0;34m:\u001b[0m\u001b[0;34m\u001b[0m\u001b[0m\n\u001b[0;32m-> 2004\u001b[0;31m             \u001b[0;32mreturn\u001b[0m \u001b[0mself\u001b[0m\u001b[0;34m.\u001b[0m\u001b[0m_get_item_cache\u001b[0m\u001b[0;34m(\u001b[0m\u001b[0mkey\u001b[0m\u001b[0;34m)\u001b[0m\u001b[0;34m\u001b[0m\u001b[0m\n\u001b[0m\u001b[1;32m   2005\u001b[0m \u001b[0;34m\u001b[0m\u001b[0m\n\u001b[1;32m   2006\u001b[0m         \u001b[0;31m# duplicate columns & possible reduce dimensionality\u001b[0m\u001b[0;34m\u001b[0m\u001b[0;34m\u001b[0m\u001b[0m\n",
      "\u001b[0;32m/home/lokorus/anaconda3/lib/python3.5/site-packages/pandas/core/generic.py\u001b[0m in \u001b[0;36m_get_item_cache\u001b[0;34m(self, item)\u001b[0m\n\u001b[1;32m   1348\u001b[0m         \u001b[0mres\u001b[0m \u001b[0;34m=\u001b[0m \u001b[0mcache\u001b[0m\u001b[0;34m.\u001b[0m\u001b[0mget\u001b[0m\u001b[0;34m(\u001b[0m\u001b[0mitem\u001b[0m\u001b[0;34m)\u001b[0m\u001b[0;34m\u001b[0m\u001b[0m\n\u001b[1;32m   1349\u001b[0m         \u001b[0;32mif\u001b[0m \u001b[0mres\u001b[0m \u001b[0;32mis\u001b[0m \u001b[0;32mNone\u001b[0m\u001b[0;34m:\u001b[0m\u001b[0;34m\u001b[0m\u001b[0m\n\u001b[0;32m-> 1350\u001b[0;31m             \u001b[0mvalues\u001b[0m \u001b[0;34m=\u001b[0m \u001b[0mself\u001b[0m\u001b[0;34m.\u001b[0m\u001b[0m_data\u001b[0m\u001b[0;34m.\u001b[0m\u001b[0mget\u001b[0m\u001b[0;34m(\u001b[0m\u001b[0mitem\u001b[0m\u001b[0;34m)\u001b[0m\u001b[0;34m\u001b[0m\u001b[0m\n\u001b[0m\u001b[1;32m   1351\u001b[0m             \u001b[0mres\u001b[0m \u001b[0;34m=\u001b[0m \u001b[0mself\u001b[0m\u001b[0;34m.\u001b[0m\u001b[0m_box_item_values\u001b[0m\u001b[0;34m(\u001b[0m\u001b[0mitem\u001b[0m\u001b[0;34m,\u001b[0m \u001b[0mvalues\u001b[0m\u001b[0;34m)\u001b[0m\u001b[0;34m\u001b[0m\u001b[0m\n\u001b[1;32m   1352\u001b[0m             \u001b[0mcache\u001b[0m\u001b[0;34m[\u001b[0m\u001b[0mitem\u001b[0m\u001b[0;34m]\u001b[0m \u001b[0;34m=\u001b[0m \u001b[0mres\u001b[0m\u001b[0;34m\u001b[0m\u001b[0m\n",
      "\u001b[0;32m/home/lokorus/anaconda3/lib/python3.5/site-packages/pandas/core/internals.py\u001b[0m in \u001b[0;36mget\u001b[0;34m(self, item, fastpath)\u001b[0m\n\u001b[1;32m   3288\u001b[0m \u001b[0;34m\u001b[0m\u001b[0m\n\u001b[1;32m   3289\u001b[0m             \u001b[0;32mif\u001b[0m \u001b[0;32mnot\u001b[0m \u001b[0misnull\u001b[0m\u001b[0;34m(\u001b[0m\u001b[0mitem\u001b[0m\u001b[0;34m)\u001b[0m\u001b[0;34m:\u001b[0m\u001b[0;34m\u001b[0m\u001b[0m\n\u001b[0;32m-> 3290\u001b[0;31m                 \u001b[0mloc\u001b[0m \u001b[0;34m=\u001b[0m \u001b[0mself\u001b[0m\u001b[0;34m.\u001b[0m\u001b[0mitems\u001b[0m\u001b[0;34m.\u001b[0m\u001b[0mget_loc\u001b[0m\u001b[0;34m(\u001b[0m\u001b[0mitem\u001b[0m\u001b[0;34m)\u001b[0m\u001b[0;34m\u001b[0m\u001b[0m\n\u001b[0m\u001b[1;32m   3291\u001b[0m             \u001b[0;32melse\u001b[0m\u001b[0;34m:\u001b[0m\u001b[0;34m\u001b[0m\u001b[0m\n\u001b[1;32m   3292\u001b[0m                 \u001b[0mindexer\u001b[0m \u001b[0;34m=\u001b[0m \u001b[0mnp\u001b[0m\u001b[0;34m.\u001b[0m\u001b[0marange\u001b[0m\u001b[0;34m(\u001b[0m\u001b[0mlen\u001b[0m\u001b[0;34m(\u001b[0m\u001b[0mself\u001b[0m\u001b[0;34m.\u001b[0m\u001b[0mitems\u001b[0m\u001b[0;34m)\u001b[0m\u001b[0;34m)\u001b[0m\u001b[0;34m[\u001b[0m\u001b[0misnull\u001b[0m\u001b[0;34m(\u001b[0m\u001b[0mself\u001b[0m\u001b[0;34m.\u001b[0m\u001b[0mitems\u001b[0m\u001b[0;34m)\u001b[0m\u001b[0;34m]\u001b[0m\u001b[0;34m\u001b[0m\u001b[0m\n",
      "\u001b[0;32m/home/lokorus/anaconda3/lib/python3.5/site-packages/pandas/indexes/base.py\u001b[0m in \u001b[0;36mget_loc\u001b[0;34m(self, key, method, tolerance)\u001b[0m\n\u001b[1;32m   1945\u001b[0m                 \u001b[0;32mreturn\u001b[0m \u001b[0mself\u001b[0m\u001b[0;34m.\u001b[0m\u001b[0m_engine\u001b[0m\u001b[0;34m.\u001b[0m\u001b[0mget_loc\u001b[0m\u001b[0;34m(\u001b[0m\u001b[0mkey\u001b[0m\u001b[0;34m)\u001b[0m\u001b[0;34m\u001b[0m\u001b[0m\n\u001b[1;32m   1946\u001b[0m             \u001b[0;32mexcept\u001b[0m \u001b[0mKeyError\u001b[0m\u001b[0;34m:\u001b[0m\u001b[0;34m\u001b[0m\u001b[0m\n\u001b[0;32m-> 1947\u001b[0;31m                 \u001b[0;32mreturn\u001b[0m \u001b[0mself\u001b[0m\u001b[0;34m.\u001b[0m\u001b[0m_engine\u001b[0m\u001b[0;34m.\u001b[0m\u001b[0mget_loc\u001b[0m\u001b[0;34m(\u001b[0m\u001b[0mself\u001b[0m\u001b[0;34m.\u001b[0m\u001b[0m_maybe_cast_indexer\u001b[0m\u001b[0;34m(\u001b[0m\u001b[0mkey\u001b[0m\u001b[0;34m)\u001b[0m\u001b[0;34m)\u001b[0m\u001b[0;34m\u001b[0m\u001b[0m\n\u001b[0m\u001b[1;32m   1948\u001b[0m \u001b[0;34m\u001b[0m\u001b[0m\n\u001b[1;32m   1949\u001b[0m         \u001b[0mindexer\u001b[0m \u001b[0;34m=\u001b[0m \u001b[0mself\u001b[0m\u001b[0;34m.\u001b[0m\u001b[0mget_indexer\u001b[0m\u001b[0;34m(\u001b[0m\u001b[0;34m[\u001b[0m\u001b[0mkey\u001b[0m\u001b[0;34m]\u001b[0m\u001b[0;34m,\u001b[0m \u001b[0mmethod\u001b[0m\u001b[0;34m=\u001b[0m\u001b[0mmethod\u001b[0m\u001b[0;34m,\u001b[0m \u001b[0mtolerance\u001b[0m\u001b[0;34m=\u001b[0m\u001b[0mtolerance\u001b[0m\u001b[0;34m)\u001b[0m\u001b[0;34m\u001b[0m\u001b[0m\n",
      "\u001b[0;32mpandas/index.pyx\u001b[0m in \u001b[0;36mpandas.index.IndexEngine.get_loc (pandas/index.c:4154)\u001b[0;34m()\u001b[0m\n",
      "\u001b[0;32mpandas/index.pyx\u001b[0m in \u001b[0;36mpandas.index.IndexEngine.get_loc (pandas/index.c:4018)\u001b[0;34m()\u001b[0m\n",
      "\u001b[0;32mpandas/hashtable.pyx\u001b[0m in \u001b[0;36mpandas.hashtable.PyObjectHashTable.get_item (pandas/hashtable.c:12368)\u001b[0;34m()\u001b[0m\n",
      "\u001b[0;32mpandas/hashtable.pyx\u001b[0m in \u001b[0;36mpandas.hashtable.PyObjectHashTable.get_item (pandas/hashtable.c:12322)\u001b[0;34m()\u001b[0m\n",
      "\u001b[0;31mKeyError\u001b[0m: 'Vacancies_with_salary'"
     ]
    }
   ],
   "source": [
    "%matplotlib inline\n",
    "\n",
    "top_15_areas = small_table_area.sort_values(by = 'Vacancies_with_salary', ascending = False)['Name'][0:15].values\n",
    "top_15_areas_amount = small_table_area.sort_values(by = 'Vacancies_with_salary', ascending = False)['Vacancies_with_salary'][0:15].values\n",
    "y_pos = np.arange(len(top_15_areas))\n",
    "plt.figure()\n",
    "plt.barh(y_pos, top_15_areas_amount,align='center', alpha=0.5)\n",
    "plt.yticks(y_pos, top_15_areas)\n",
    "plt.xlabel('Количество вакансий')\n",
    "plt.title('Топ 15 регионов')\n",
    "plt.show()"
   ]
  },
  {
   "cell_type": "code",
   "execution_count": 25,
   "metadata": {
    "collapsed": false
   },
   "outputs": [
    {
     "data": {
      "image/png": "[encoded data removed]",
      "text/plain": [
       "<matplotlib.figure.Figure at 0x7f87e2ca6668>"
      ]
     },
     "metadata": {},
     "output_type": "display_data"
    }
   ],
   "source": [
    "plt.figure()\n",
    "\n",
    "labels = ['Вакансии без зарплаты', 'Вакансии с зарплатой']\n",
    "sizes = [small_table_area['Vacancies'].sum() - small_table_area['Vacancies_with_salary'].sum(), small_table_area['Vacancies_with_salary'].sum()]\n",
    "colors = ['lightcoral', 'lightskyblue']\n",
    "\n",
    "plt.pie(sizes, labels=labels, colors=colors, autopct='%1.1f%%', shadow=True, startangle=50)\n",
    "plt.title('Вакансии')\n",
    "plt.axis('equal')\n",
    "plt.show()"
   ]
  },
  {
   "cell_type": "code",
   "execution_count": 10,
   "metadata": {
    "collapsed": true
   },
   "outputs": [],
   "source": [
    "r = requests.get(\"https://api.hh.ru/vacancies?per_page=5&area=1&specialization=1&specialization=25.381&specialization=3.26&specialization=3.48&specialization=9.94&specialization=12.5&specialization=12.92&specialization=15.93&specialization=14.91&specialization=17.112\", headers=headers)\n",
    "test_json = json.loads(r.text)"
   ]
  },
  {
   "cell_type": "markdown",
   "metadata": {},
   "source": [
    "Массив вакансий, для создания дата фрэйма потом"
   ]
  },
  {
   "cell_type": "markdown",
   "metadata": {},
   "source": [
    "Функция поиска текущих id вакансий."
   ]
  },
  {
   "cell_type": "code",
   "execution_count": 56,
   "metadata": {
    "collapsed": true
   },
   "outputs": [],
   "source": [
    "last_update = str(datetime.date(2017, 9, 10))"
   ]
  },
  {
   "cell_type": "markdown",
   "metadata": {},
   "source": [
    "заебался"
   ]
  },
  {
   "cell_type": "code",
   "execution_count": 26,
   "metadata": {
    "collapsed": true
   },
   "outputs": [],
   "source": [
    "today = str( (datetime.datetime.today() - datetime.timedelta(days=1)).date()) "
   ]
  },
  {
   "cell_type": "code",
   "execution_count": 27,
   "metadata": {
    "collapsed": true
   },
   "outputs": [],
   "source": [
    "def find_new_vacanacies(date_from, date_to, area_id, num_page=0):\n",
    "    start = 'https://api.hh.ru/vacancies?per_page=100' + '&only_with_salary=True'\n",
    "    spec_it = '&specialization=1&specialization=25.381&specialization=3.26&specialization=3.48&specialization=9.94&specialization=12.5&specialization=12.92&specialization=15.93&specialization=14.91&specialization=17.112'\n",
    "    area = '&area=' + str(area_id)\n",
    "    dfrom = '&date_from=' + date_from\n",
    "    dto = '&date_to=' + date_to\n",
    "    page = '&page=' + str(num_page)\n",
    "    r = requests.get(start + spec_it + area + dfrom + dto + page, headers=headers)\n",
    "    r_json = json.loads(r.text)\n",
    "    return r_json"
   ]
  },
  {
   "cell_type": "code",
   "execution_count": 28,
   "metadata": {
    "collapsed": true
   },
   "outputs": [],
   "source": [
    "def middle_day(last_update, today):\n",
    "    year_today, month_today, day_today = map(int, today.split('-'))\n",
    "    year_last, month_las, day_last = map(int, last_update.split('-')) \n",
    "    dif = datetime.date(year_today, month_today, day_today) - datetime.date(year_last, month_las, day_last)\n",
    "    dif = datetime.timedelta(days= (dif/2).days)\n",
    "    mid_day = dif + datetime.date(year_last, month_las, day_last)\n",
    "    return str(mid_day)"
   ]
  },
  {
   "cell_type": "code",
   "execution_count": 29,
   "metadata": {
    "collapsed": true
   },
   "outputs": [],
   "source": [
    "def find_id_in_json(json_items, new_vac_id):\n",
    "    for item in json_items:\n",
    "        new_vac_id.add(item['id'])\n",
    "    return 0"
   ]
  },
  {
   "cell_type": "code",
   "execution_count": 30,
   "metadata": {
    "collapsed": true
   },
   "outputs": [],
   "source": [
    "def update_area_vacancy(last_update, today, area, new_vac_id):\n",
    "    limit_views = 2000\n",
    "    first_area_json = find_new_vacanacies(last_update, today, area) #стартовая страница для субъекта\n",
    "    if first_area_json['found'] >= limit_views: #hh не позволяет скачать больше, сделать проверку вдруг это изменится\n",
    "        mid_day = middle_day(last_update, today)\n",
    "        if mid_day != last_update:\n",
    "            update_area_vacancy(last_update, mid_day, area, new_vac_id)\n",
    "            update_area_vacancy(mid_day, today, area, new_vac_id)\n",
    "            return 0\n",
    "        else:\n",
    "            update_area_vacancy(last_update, mid_day, area, new_vac_id)\n",
    "            update_area_vacancy(today, today, area, new_vac_id)\n",
    "            return 0\n",
    "    find_id_in_json(first_area_json['items'], new_vac_id)\n",
    "    for num_page in range(1, first_area_json['pages']):\n",
    "        vac_area_json = find_new_vacanacies(last_update, today, area, num_page) #стартовая страница для субъекта\n",
    "        find_id_in_json(vac_area_json['items'], new_vac_id)\n",
    "    return 0"
   ]
  },
  {
   "cell_type": "code",
   "execution_count": 31,
   "metadata": {
    "collapsed": true
   },
   "outputs": [],
   "source": [
    "def update_table(vacancies, small_table_area, last_update, today):\n",
    "    all_new_vac_id = {}\n",
    "    len_area = small_table_area.shape[0]\n",
    "    i = 0\n",
    "    for area_id in small_table_area['Area_id']: # пробегает по всем субъектам\n",
    "        print( round(100*i/len_area, 1), end = '% ')\n",
    "        i += 1\n",
    "        all_new_vac_id[area_id] = set()\n",
    "        update_area_vacancy(last_update, today, area_id, all_new_vac_id[area_id])\n",
    "        all_new_vac_id[area_id] = list(all_new_vac_id[area_id])\n",
    "    return all_new_vac_id"
   ]
  },
  {
   "cell_type": "code",
   "execution_count": 205,
   "metadata": {
    "collapsed": true
   },
   "outputs": [],
   "source": [
    "r_json = find_new_vacanacies('2017-09-11', '2017-10-12', 1) # первый пробник 13 октября"
   ]
  },
  {
   "cell_type": "code",
   "execution_count": 33,
   "metadata": {
    "collapsed": true
   },
   "outputs": [],
   "source": [
    "r_json = find_new_vacanacies('2017-10-12', today, 1) # второй пробник 14 ноября, не нужно, проверка"
   ]
  },
  {
   "cell_type": "code",
   "execution_count": 35,
   "metadata": {
    "collapsed": false
   },
   "outputs": [
    {
     "name": "stdout",
     "output_type": "stream",
     "text": [
      "0.0% 1.2% 2.4% 3.6% 4.8% 6.0% 7.1% 8.3% 9.5% 10.7% 11.9% 13.1% 14.3% 15.5% 16.7% 17.9% 19.0% 20.2% 21.4% 22.6% 23.8% 25.0% 26.2% 27.4% 28.6% 29.8% 31.0% 32.1% 33.3% 34.5% 35.7% 36.9% 38.1% 39.3% 40.5% 41.7% 42.9% 44.0% 45.2% 46.4% 47.6% 48.8% 50.0% 51.2% 52.4% 53.6% 54.8% 56.0% 57.1% 58.3% 59.5% 60.7% 61.9% 63.1% 64.3% 65.5% 66.7% 67.9% 69.0% 70.2% 71.4% 72.6% 73.8% 75.0% 76.2% 77.4% 78.6% 79.8% 81.0% 82.1% 83.3% 84.5% 85.7% 86.9% 88.1% 89.3% 90.5% 91.7% 92.9% 94.0% 95.2% 96.4% 97.6% 98.8% "
     ]
    }
   ],
   "source": [
    "#второй пробник 14 ноября\n",
    "vacancies = []#id, area_id, name, salary_from, salary_to, salary_cur, data, url, experience, company_name, company_id description, employment, schedule, key_skills, specialisation, arhived \n",
    "all_new_vac_id = update_table(vacancies, small_table_area.sort_values(by = 'Vacancies_with_salary', ascending = False), '2017-10-12', today)"
   ]
  },
  {
   "cell_type": "code",
   "execution_count": 207,
   "metadata": {
    "collapsed": false
   },
   "outputs": [
    {
     "name": "stdout",
     "output_type": "stream",
     "text": [
      "0.0% 1.2% 2.4% 3.6% 4.8% 6.0% 7.1% 8.3% 9.5% 10.7% 11.9% 13.1% 14.3% 15.5% 16.7% 17.9% 19.0% 20.2% 21.4% 22.6% 23.8% 25.0% 26.2% 27.4% 28.6% 29.8% 31.0% 32.1% 33.3% 34.5% 35.7% 36.9% 38.1% 39.3% 40.5% 41.7% 42.9% 44.0% 45.2% 46.4% 47.6% 48.8% 50.0% 51.2% 52.4% 53.6% 54.8% 56.0% 57.1% 58.3% 59.5% 60.7% 61.9% 63.1% 64.3% 65.5% 66.7% 67.9% 69.0% 70.2% 71.4% 72.6% 73.8% 75.0% 76.2% 77.4% 78.6% 79.8% 81.0% 82.1% 83.3% 84.5% 85.7% 86.9% 88.1% 89.3% 90.5% 91.7% 92.9% 94.0% 95.2% 96.4% 97.6% 98.8% "
     ]
    }
   ],
   "source": [
    "all_new_vac_id = update_table(vacancies, small_table_area.sort_values(by = 'Vacancies_with_salary', ascending = False), '2017-09-11', '2017-10-12')"
   ]
  },
  {
   "cell_type": "code",
   "execution_count": 36,
   "metadata": {
    "collapsed": true
   },
   "outputs": [],
   "source": [
    "def get_vacancy(vac_id):\n",
    "    r_vac = requests.get('https://api.hh.ru/vacancies/' + str(vac_id), headers=headers)\n",
    "    vac_json = json.loads(r_vac.text)\n",
    "    return vac_json"
   ]
  },
  {
   "cell_type": "code",
   "execution_count": 37,
   "metadata": {
    "collapsed": true
   },
   "outputs": [],
   "source": [
    "def description_filter(text):\n",
    "    while True:\n",
    "        left = text.find('<')\n",
    "        right = text.find('>')\n",
    "        if left != -1 and right != -1:\n",
    "            text = text[:left] + text[right + 1:]\n",
    "        else:\n",
    "            return text\n",
    "    return 0"
   ]
  },
  {
   "cell_type": "code",
   "execution_count": 38,
   "metadata": {
    "collapsed": true
   },
   "outputs": [],
   "source": [
    "def key_skills_get(key_skills):\n",
    "    answer_skills = []\n",
    "    if key_skills:\n",
    "        for skills in key_skills:\n",
    "            answer_skills.append(skills['name'])\n",
    "    return answer_skills"
   ]
  },
  {
   "cell_type": "code",
   "execution_count": 39,
   "metadata": {
    "collapsed": true
   },
   "outputs": [],
   "source": [
    "def specializations_get(specializations):\n",
    "    answer_specializations = []\n",
    "    for spec in specializations:\n",
    "        answer_specializations.append(spec['id'])\n",
    "    return answer_specializations"
   ]
  },
  {
   "cell_type": "code",
   "execution_count": 40,
   "metadata": {
    "collapsed": true
   },
   "outputs": [],
   "source": [
    "def check_key_in_dict(key, _dict):\n",
    "    return key in _dict"
   ]
  },
  {
   "cell_type": "code",
   "execution_count": 41,
   "metadata": {
    "collapsed": true
   },
   "outputs": [],
   "source": [
    "def check_add_info_from_json(key, _dict, fail_value='nan'):\n",
    "    if check_key_in_dict(key, _dict):\n",
    "        return _dict[key]\n",
    "    else:\n",
    "        return fail_value\n",
    "    return 0"
   ]
  },
  {
   "cell_type": "code",
   "execution_count": 42,
   "metadata": {
    "collapsed": true
   },
   "outputs": [],
   "source": [
    "def resume_analysis(vac_json): #Анализ скаченного резюме\n",
    "    vac = [] # cоздание листа с данными\n",
    "    vac.append(vac_json['name']) #имя вакансии\n",
    "    vac.append(check_add_info_from_json('from', vac_json['salary']))\n",
    "    vac.append(check_add_info_from_json('to', vac_json['salary']))\n",
    "    vac.append(check_add_info_from_json('currency', vac_json['salary'], 'RUR'))\n",
    "    vac.append(vac_json['published_at'][0:10])\n",
    "    vac.append(vac_json['alternate_url'])\n",
    "    vac.append(check_add_info_from_json('id', vac_json['experience']))\n",
    "    vac.append(check_add_info_from_json('name', vac_json['employer']))\n",
    "    vac.append(check_add_info_from_json('id', vac_json['employer']))\n",
    "    vac_description = description_filter(vac_json['description'])\n",
    "    vac.append(vac_description)\n",
    "    vac.append(check_add_info_from_json('name', vac_json['employment']))\n",
    "    vac.append(check_add_info_from_json('name', vac_json['schedule']))\n",
    "    vac.append(key_skills_get(vac_json['key_skills']))\n",
    "    vac.append(specializations_get(vac_json['specializations']))\n",
    "    vac.append(vac_json['archived'])\n",
    "    return vac"
   ]
  },
  {
   "cell_type": "code",
   "execution_count": 8,
   "metadata": {
    "collapsed": true
   },
   "outputs": [],
   "source": [
    "vacancies = []#id, area_id, name, salary_from, salary_to, salary_cur, data, url, experience, company_name, company_id description, employment, schedule, key_skills, specialisation, arhived "
   ]
  },
  {
   "cell_type": "code",
   "execution_count": 52,
   "metadata": {
    "collapsed": true
   },
   "outputs": [],
   "source": [
    "def take_vacancies(all_new_vac_id, vacancies = [], ignore_vac = [], bad_vac = 0, abort = 0):\n",
    "    vacancies = vacancies\n",
    "    try:\n",
    "        amount = 0\n",
    "        for area in all_new_vac_id:\n",
    "            for new_id in all_new_vac_id[area]:\n",
    "                amount+= 1\n",
    "                if amount % 1000 == 0:\n",
    "                    print(amount, end=' ')\n",
    "                    time.sleep(2)\n",
    "                if str(new_id) in ignore_vac:\n",
    "                    continue\n",
    "                new_vacancy = [new_id, area]\n",
    "                ignore_vac.append(str(new_id))\n",
    "                try:\n",
    "                    vac_json = get_vacancy(new_id)\n",
    "                except ConnectionError:\n",
    "                    print('Слишком много запросов при обновлении.')\n",
    "                    abort += 1\n",
    "                    time.sleep(5)\n",
    "                    if abort == 6:\n",
    "                        return vacancies\n",
    "                    continue\n",
    "                try:\n",
    "                    new_vacancy.extend(resume_analysis(vac_json))\n",
    "                    vacancies.append(new_vacancy)\n",
    "                except:\n",
    "                    bad_vac += 1\n",
    "                    vacancies.append(new_vacancy)\n",
    "        return vacancies\n",
    "    except:\n",
    "        print('Неизвестная ошибка')\n",
    "        abort += 1\n",
    "        time.sleep(5)\n",
    "        if abort == 6:\n",
    "            return vacancies\n",
    "        print(sys.exc_info())\n",
    "        #vacancies = take_vacancies(all_new_vac_id, vacancies, vacancies, 0, abort)\n",
    "        return vacancies\n",
    "    return vacancies"
   ]
  },
  {
   "cell_type": "code",
   "execution_count": 54,
   "metadata": {
    "collapsed": false
   },
   "outputs": [
    {
     "name": "stdout",
     "output_type": "stream",
     "text": [
      "1000 2000 3000 4000 5000 6000 7000 8000 9000 10000 11000 12000 13000 14000 15000 16000 17000 18000 19000 20000 21000 22000 23000 24000 25000 26000 "
     ]
    }
   ],
   "source": [
    "vacancies = take_vacancies(all_new_vac_id, vacancies, list(table_vacancies141117['Id'].values))"
   ]
  },
  {
   "cell_type": "code",
   "execution_count": 14,
   "metadata": {
    "collapsed": true
   },
   "outputs": [],
   "source": [
    "# не помню зачем\n",
    "r_professional_areas = requests.get('https://api.hh.ru/salary_statistics/dictionaries/professional_areas', headers=headers)\n",
    "professional_areas = json.loads(r_professional_areas.text)"
   ]
  },
  {
   "cell_type": "code",
   "execution_count": 55,
   "metadata": {
    "collapsed": true
   },
   "outputs": [],
   "source": [
    "table_vacancies141117 = pd.DataFrame(vacancies, columns = ['Id', 'Area_id', 'Name', 'Salary_from', 'Salary_to',\n",
    "                                                     'Salary_cur', 'Data', 'Url', 'Experience', 'Company_name',\n",
    "                                                     'Company_id', 'Description', 'Employment', 'Schedule',\n",
    "                                                     'Key_skills', 'Specialisation', 'Arhived' ])"
   ]
  },
  {
   "cell_type": "code",
   "execution_count": 47,
   "metadata": {
    "collapsed": true
   },
   "outputs": [],
   "source": [
    "#первый заход 13 октября\n",
    "table_vacancies = pd.DataFrame(vacancies, columns = ['Id', 'Area_id', 'Name', 'Salary_from', 'Salary_to',\n",
    "                                                     'Salary_cur', 'Data', 'Url', 'Experience', 'Company_name',\n",
    "                                                     'Company_id', 'Description', 'Employment', 'Schedule',\n",
    "                                                     'Key_skills', 'Specialisation', 'Arhived' ])\n",
    "\n",
    "vacancies = take_vacancies(all_new_vac_id, vacancies, list(table_vacancies['Id'].values))\n",
    "\n",
    "table_vacancies = pd.DataFrame(vacancies, columns = ['Id', 'Area_id', 'Name', 'Salary_from', 'Salary_to',\n",
    "                                                     'Salary_cur', 'Data', 'Url', 'Experience', 'Company_name',\n",
    "                                                     'Company_id', 'Description', 'Employment', 'Schedule',\n",
    "                                                     'Key_skills', 'Specialisation', 'Arhived' ])"
   ]
  },
  {
   "cell_type": "code",
   "execution_count": 241,
   "metadata": {
    "collapsed": true
   },
   "outputs": [],
   "source": [
    "table_vacancies.to_csv('table_vacancies.csv')"
   ]
  },
  {
   "cell_type": "code",
   "execution_count": null,
   "metadata": {
    "collapsed": true
   },
   "outputs": [],
   "source": [
    "#второй заход 14 ноября\n",
    "table_vacancies141117 = pd.DataFrame(vacancies, columns = ['Id', 'Area_id', 'Name', 'Salary_from', 'Salary_to',\n",
    "                                                     'Salary_cur', 'Data', 'Url', 'Experience', 'Company_name',\n",
    "                                                     'Company_id', 'Description', 'Employment', 'Schedule',\n",
    "                                                     'Key_skills', 'Specialisation', 'Arhived' ])\n",
    "vacancies = take_vacancies(all_new_vac_id, vacancies, list(table_vacancies141117['Id'].values))#работает долго"
   ]
  },
  {
   "cell_type": "code",
   "execution_count": 56,
   "metadata": {
    "collapsed": true
   },
   "outputs": [],
   "source": [
    "#второй заход 14 ноября\n",
    "table_vacancies141117 = pd.DataFrame(vacancies, columns = ['Id', 'Area_id', 'Name', 'Salary_from', 'Salary_to',\n",
    "                                                     'Salary_cur', 'Data', 'Url', 'Experience', 'Company_name',\n",
    "                                                     'Company_id', 'Description', 'Employment', 'Schedule',\n",
    "                                                     'Key_skills', 'Specialisation', 'Arhived' ])\n",
    "table_vacancies141117.to_csv('table_vacancies141117.csv')"
   ]
  },
  {
   "cell_type": "code",
   "execution_count": 4,
   "metadata": {
    "collapsed": true
   },
   "outputs": [],
   "source": [
    "table_vacancies = pd.read_csv('table_vacancies.csv', index_col = 'Unnamed: 0')\n",
    "#table_vacancies = table_vacancies.rename(columns={'name' : 'Name'})"
   ]
  },
  {
   "cell_type": "code",
   "execution_count": 5,
   "metadata": {
    "collapsed": true
   },
   "outputs": [],
   "source": [
    "def experience_exp(Experience):\n",
    "    if Experience == 'moreThan6':\n",
    "        return 'senior'\n",
    "    elif Experience == 'between3And6':\n",
    "        return 'senior'\n",
    "    elif Experience == 'between1And3':\n",
    "        return 'middle'\n",
    "    elif Experience == 'noExperience':\n",
    "        return 'junior'\n",
    "    return None\n",
    "\n",
    "\n",
    "def experience_name(Name):\n",
    "    text = Name.lower()\n",
    "    sen_exp = ['senior', 'главный', 'ведущий', 'сеньор']\n",
    "    mid_exp = ['middle', 'мидл', 'developer',]\n",
    "    jun_exp = ['junior', 'младший', 'стажер', 'джуниор']\n",
    "    for word in jun_exp:\n",
    "        if text.find(word) + 1:\n",
    "            return 'junior'\n",
    "    for word in mid_exp:\n",
    "        if text.find(word) + 1:\n",
    "            return 'middle'\n",
    "    for word in sen_exp:\n",
    "        if text.find(word) + 1:\n",
    "            return 'senior'\n",
    "    return None\n",
    "\n"
   ]
  },
  {
   "cell_type": "code",
   "execution_count": 19,
   "metadata": {
    "collapsed": true
   },
   "outputs": [],
   "source": [
    "qualification_exp = table_vacancies['Experience'].apply(experience_exp)#первый анализ\n",
    "qualification_name = table_vacancies['Name'].apply(experience_name)"
   ]
  },
  {
   "cell_type": "code",
   "execution_count": 71,
   "metadata": {
    "collapsed": true
   },
   "outputs": [],
   "source": [
    "table_vacancies141117.drop(21523, axis=0, inplace=True) #удаляю нулевые значения"
   ]
  },
  {
   "cell_type": "code",
   "execution_count": 73,
   "metadata": {
    "collapsed": true
   },
   "outputs": [],
   "source": [
    "qualification_exp141117 = table_vacancies141117['Experience'].apply(experience_exp)#второй анализ\n",
    "qualification_name141117 = table_vacancies141117['Name'].apply(experience_name)"
   ]
  },
  {
   "cell_type": "code",
   "execution_count": 20,
   "metadata": {
    "collapsed": true
   },
   "outputs": [],
   "source": [
    "table_vacancies['qualification'] = qualification_name#первый анализ\n",
    "table_vacancies['qualification'] = table_vacancies['qualification'].combine_first(qualification_exp)"
   ]
  },
  {
   "cell_type": "code",
   "execution_count": 74,
   "metadata": {
    "collapsed": true
   },
   "outputs": [],
   "source": [
    "table_vacancies141117['qualification'] = qualification_name141117#второй анализ\n",
    "table_vacancies141117['qualification'] = table_vacancies141117['qualification'].combine_first(qualification_exp141117)"
   ]
  },
  {
   "cell_type": "code",
   "execution_count": 29,
   "metadata": {
    "collapsed": true
   },
   "outputs": [],
   "source": [
    "#бля "
   ]
  },
  {
   "cell_type": "code",
   "execution_count": 3,
   "metadata": {
    "collapsed": false
   },
   "outputs": [
    {
     "ename": "NameError",
     "evalue": "name 'table_vacancies141117' is not defined",
     "output_type": "error",
     "traceback": [
      "\u001b[0;31m---------------------------------------------------------------------------\u001b[0m",
      "\u001b[0;31mNameError\u001b[0m                                 Traceback (most recent call last)",
      "\u001b[0;32m<ipython-input-3-b82c89778e2a>\u001b[0m in \u001b[0;36m<module>\u001b[0;34m()\u001b[0m\n\u001b[0;32m----> 1\u001b[0;31m \u001b[0mtable_vacancies141117\u001b[0m\u001b[0;34m[\u001b[0m\u001b[0;34m'qualification'\u001b[0m\u001b[0;34m]\u001b[0m\u001b[0;34m.\u001b[0m\u001b[0mvalue_counts\u001b[0m\u001b[0;34m(\u001b[0m\u001b[0;34m)\u001b[0m\u001b[0;34m\u001b[0m\u001b[0m\n\u001b[0m",
      "\u001b[0;31mNameError\u001b[0m: name 'table_vacancies141117' is not defined"
     ]
    }
   ],
   "source": [
    "table_vacancies141117['qualification'].value_counts()"
   ]
  },
  {
   "cell_type": "code",
   "execution_count": 76,
   "metadata": {
    "collapsed": false,
    "scrolled": true
   },
   "outputs": [
    {
     "data": {
      "text/plain": [
       "middle    14118\n",
       "junior     6682\n",
       "senior     6054\n",
       "Name: qualification, dtype: int64"
      ]
     },
     "execution_count": 76,
     "metadata": {},
     "output_type": "execute_result"
    }
   ],
   "source": [
    "table_vacancies['qualification'].value_counts()"
   ]
  },
  {
   "cell_type": "code",
   "execution_count": 128,
   "metadata": {
    "collapsed": false
   },
   "outputs": [
    {
     "data": {
      "image/png": "[encoded data removed]",
      "text/plain": [
       "<matplotlib.figure.Figure at 0x7f87dff33978>"
      ]
     },
     "metadata": {},
     "output_type": "display_data"
    }
   ],
   "source": [
    "plt.figure() #первый анализ октября -сентябрь\n",
    "\n",
    "labels = table_vacancies['qualification'].value_counts().index.tolist()\n",
    "sizes = table_vacancies['qualification'].value_counts().values.tolist()\n",
    "colors = ['#b5c6e8', '#ebf1fb', '#6780b3']\n",
    "\n",
    "plt.pie(sizes, labels=labels, colors=colors, autopct='%1.1f%%', shadow=True, startangle=90)\n",
    "plt.title('Опыт')\n",
    "plt.axis('equal')\n",
    "plt.show()"
   ]
  },
  {
   "cell_type": "code",
   "execution_count": 181,
   "metadata": {
    "collapsed": false
   },
   "outputs": [
    {
     "data": {
      "image/png": "[encoded data removed]",
      "text/plain": [
       "<matplotlib.figure.Figure at 0x7f87e01df0b8>"
      ]
     },
     "metadata": {},
     "output_type": "display_data"
    }
   ],
   "source": [
    "plt.figure() #второй анализ ноябрь-октябрь\n",
    "\n",
    "labels = table_vacancies141117['qualification'].value_counts().index.tolist()\n",
    "sizes = table_vacancies141117['qualification'].value_counts().values.tolist()\n",
    "colors = ['#b5c6e8', '#ebf1fb', '#6780b3']\n",
    "explode = (0, 0, 0)  # explode slice\n",
    "\n",
    "plt.rcParams.update({'font.size': 10})\n",
    "plt.pie(sizes, labels=labels, explode=explode, colors=colors, autopct='%1.1f%%', shadow=True, startangle=90)\n",
    "\n",
    "plt.title('Опыт')\n",
    "plt.axis('equal')\n",
    "plt.show()"
   ]
  },
  {
   "cell_type": "code",
   "execution_count": 7,
   "metadata": {
    "collapsed": true
   },
   "outputs": [],
   "source": [
    "def find_word(Description, words = search_words[language]):\n",
    "    text = Description.lower()\n",
    "    for word in words:\n",
    "        if text.find(word) + 1:\n",
    "            return 1\n",
    "    return None\n",
    "\n",
    "def find_word_name(Name, words = search_words[language]):\n",
    "    text = Name.lower()\n",
    "    for word in words:\n",
    "        if text.find(word) + 1:\n",
    "            return 1\n",
    "    return None\n",
    "\n",
    "def hard_find_word(Description, word = 'java'):\n",
    "    s = Description\n",
    "    for bad_word in ['javascript', 'java-script', '-', '(', ')']:\n",
    "        s = s.replace(bad_word, ' ')\n",
    "    prog = re.compile('[А-Яа-яA-Za-z\\-]+')\n",
    "    l1 = prog.findall(s.lower())\n",
    "    d1 = nltk.FreqDist(l1)\n",
    "    if bool(d1[word]):\n",
    "        return 1\n",
    "    return None\n"
   ]
  },
  {
   "cell_type": "code",
   "execution_count": 6,
   "metadata": {
    "collapsed": true
   },
   "outputs": [],
   "source": [
    "search_words = {'Python' : ['питон', 'python'], 'C++': ['c++', ' си ', 'с++', '(си)'],\n",
    "                'PHP': ['php', 'пхп'], 'C#': ['c#', 'с#'], 'SQL':['sql'], 'HTML': ['html'],\n",
    "                'CSS': ['css'], 'Javascript': [' js', 'javascript', 'java-script'],\n",
    "                'Swift': ['swift', 'свифт'], 'Ruby': ['ruby'], 'Postgres': ['postgres', 'постгрес'],\n",
    "                'IOS': ['ios'], 'Android': ['android'],\n",
    "                'Go': ['golang', '/go', ' go,', ' go.', '(go)', ' go-', ' go разработ⁢чик', 'на go '],\n",
    "                'Oracle': ['oracle']}\n",
    "languages = ['Python', 'C++', 'PHP', 'C#', 'SQL', 'HTML', 'CSS', 'Javascript',\n",
    "             'Swift', 'Ruby', 'Postgres', 'IOS', 'Android', 'Go', 'Oracle']\n",
    "language = 'Python'"
   ]
  },
  {
   "cell_type": "code",
   "execution_count": 10,
   "metadata": {
    "collapsed": true
   },
   "outputs": [],
   "source": [
    "Java = table_vacancies141117['Description'].apply(hard_find_word)"
   ]
  },
  {
   "cell_type": "code",
   "execution_count": 11,
   "metadata": {
    "collapsed": true
   },
   "outputs": [],
   "source": [
    "Java_name = table_vacancies141117['Name'].apply(hard_find_word)"
   ]
  },
  {
   "cell_type": "code",
   "execution_count": 12,
   "metadata": {
    "collapsed": true
   },
   "outputs": [],
   "source": [
    "table_vacancies141117['Java'] = Java\n",
    "table_vacancies141117['Java_name'] = Java_name"
   ]
  },
  {
   "cell_type": "code",
   "execution_count": 110,
   "metadata": {
    "collapsed": true
   },
   "outputs": [],
   "source": [
    "for i in range(len(languages)):# второй заход\n",
    "    language = languages[i]\n",
    "    def find_word(Description, words = search_words[language]):\n",
    "        text = Description.lower()\n",
    "        for word in words:\n",
    "            if text.find(word) + 1:\n",
    "                return 1\n",
    "        return None\n",
    "\n",
    "    def find_word_name(Name, words = search_words[language]):\n",
    "        text = Name.lower()\n",
    "        for word in words:\n",
    "            if text.find(word) + 1:\n",
    "                return 1\n",
    "        return None\n",
    "\n",
    "    table_vacancies141117[languages[i]] = table_vacancies141117['Description'].apply(find_word)\n",
    "    table_vacancies141117[languages[i] + '_name'] = table_vacancies141117['Name'].apply(find_word_name)"
   ]
  },
  {
   "cell_type": "code",
   "execution_count": 14,
   "metadata": {
    "collapsed": true
   },
   "outputs": [],
   "source": [
    "table_vacancies141117.to_csv('table_vacancies141117.csv')"
   ]
  },
  {
   "cell_type": "code",
   "execution_count": 116,
   "metadata": {
    "collapsed": true
   },
   "outputs": [],
   "source": [
    "table_vacancies141117 = pd.read_csv('table_vacancies141117.csv', index_col = 'Unnamed: 0')"
   ]
  },
  {
   "cell_type": "code",
   "execution_count": 117,
   "metadata": {
    "collapsed": false
   },
   "outputs": [
    {
     "data": {
      "text/html": [
       "<div>\n",
       "<style>\n",
       "    .dataframe thead tr:only-child th {\n",
       "        text-align: right;\n",
       "    }\n",
       "\n",
       "    .dataframe thead th {\n",
       "        text-align: left;\n",
       "    }\n",
       "\n",
       "    .dataframe tbody tr th {\n",
       "        vertical-align: top;\n",
       "    }\n",
       "</style>\n",
       "<table border=\"1\" class=\"dataframe\">\n",
       "  <thead>\n",
       "    <tr style=\"text-align: right;\">\n",
       "      <th></th>\n",
       "      <th>Id</th>\n",
       "      <th>Area_id</th>\n",
       "      <th>Name</th>\n",
       "      <th>Salary_from</th>\n",
       "      <th>Salary_to</th>\n",
       "      <th>Salary_cur</th>\n",
       "      <th>Data</th>\n",
       "      <th>Url</th>\n",
       "      <th>Experience</th>\n",
       "      <th>Company_name</th>\n",
       "      <th>...</th>\n",
       "      <th>IOS</th>\n",
       "      <th>IOS_name</th>\n",
       "      <th>Android</th>\n",
       "      <th>Android_name</th>\n",
       "      <th>Go</th>\n",
       "      <th>Go_name</th>\n",
       "      <th>Oracle</th>\n",
       "      <th>Oracle_name</th>\n",
       "      <th>Java</th>\n",
       "      <th>Java_name</th>\n",
       "    </tr>\n",
       "  </thead>\n",
       "  <tbody>\n",
       "    <tr>\n",
       "      <th>0</th>\n",
       "      <td>23233819</td>\n",
       "      <td>1</td>\n",
       "      <td>Руководитель группы продаж (digital, интернет-...</td>\n",
       "      <td>80000.0</td>\n",
       "      <td>NaN</td>\n",
       "      <td>RUR</td>\n",
       "      <td>2017-10-25</td>\n",
       "      <td>https://hh.ru/vacancy/23233819</td>\n",
       "      <td>between1And3</td>\n",
       "      <td>Элемент, РА</td>\n",
       "      <td>...</td>\n",
       "      <td>NaN</td>\n",
       "      <td>NaN</td>\n",
       "      <td>NaN</td>\n",
       "      <td>NaN</td>\n",
       "      <td>NaN</td>\n",
       "      <td>NaN</td>\n",
       "      <td>NaN</td>\n",
       "      <td>NaN</td>\n",
       "      <td>NaN</td>\n",
       "      <td>NaN</td>\n",
       "    </tr>\n",
       "    <tr>\n",
       "      <th>1</th>\n",
       "      <td>23408155</td>\n",
       "      <td>1</td>\n",
       "      <td>Тестировщик (QA)</td>\n",
       "      <td>NaN</td>\n",
       "      <td>60000.0</td>\n",
       "      <td>RUR</td>\n",
       "      <td>2017-11-09</td>\n",
       "      <td>https://career.ru/vacancy/23408155</td>\n",
       "      <td>between1And3</td>\n",
       "      <td>Performance Lab (Перфоманс Лаб)</td>\n",
       "      <td>...</td>\n",
       "      <td>NaN</td>\n",
       "      <td>NaN</td>\n",
       "      <td>NaN</td>\n",
       "      <td>NaN</td>\n",
       "      <td>NaN</td>\n",
       "      <td>NaN</td>\n",
       "      <td>NaN</td>\n",
       "      <td>NaN</td>\n",
       "      <td>1.0</td>\n",
       "      <td>NaN</td>\n",
       "    </tr>\n",
       "    <tr>\n",
       "      <th>2</th>\n",
       "      <td>22724239</td>\n",
       "      <td>1</td>\n",
       "      <td>Web-программист/HTML-верстальщик</td>\n",
       "      <td>NaN</td>\n",
       "      <td>120000.0</td>\n",
       "      <td>RUR</td>\n",
       "      <td>2017-11-10</td>\n",
       "      <td>https://hh.ru/vacancy/22724239</td>\n",
       "      <td>between1And3</td>\n",
       "      <td>DigitalHR</td>\n",
       "      <td>...</td>\n",
       "      <td>NaN</td>\n",
       "      <td>NaN</td>\n",
       "      <td>NaN</td>\n",
       "      <td>NaN</td>\n",
       "      <td>NaN</td>\n",
       "      <td>NaN</td>\n",
       "      <td>NaN</td>\n",
       "      <td>NaN</td>\n",
       "      <td>NaN</td>\n",
       "      <td>NaN</td>\n",
       "    </tr>\n",
       "    <tr>\n",
       "      <th>3</th>\n",
       "      <td>23103201</td>\n",
       "      <td>1</td>\n",
       "      <td>Ведущий менеджер по продажам</td>\n",
       "      <td>60000.0</td>\n",
       "      <td>150000.0</td>\n",
       "      <td>RUR</td>\n",
       "      <td>2017-11-12</td>\n",
       "      <td>https://hh.ru/vacancy/23103201</td>\n",
       "      <td>between1And3</td>\n",
       "      <td>е.Ком</td>\n",
       "      <td>...</td>\n",
       "      <td>NaN</td>\n",
       "      <td>NaN</td>\n",
       "      <td>NaN</td>\n",
       "      <td>NaN</td>\n",
       "      <td>NaN</td>\n",
       "      <td>NaN</td>\n",
       "      <td>NaN</td>\n",
       "      <td>NaN</td>\n",
       "      <td>NaN</td>\n",
       "      <td>NaN</td>\n",
       "    </tr>\n",
       "    <tr>\n",
       "      <th>4</th>\n",
       "      <td>23202651</td>\n",
       "      <td>1</td>\n",
       "      <td>Директор по маркетингу (Университет)</td>\n",
       "      <td>250000.0</td>\n",
       "      <td>NaN</td>\n",
       "      <td>RUR</td>\n",
       "      <td>2017-10-23</td>\n",
       "      <td>https://hh.ru/vacancy/23202651</td>\n",
       "      <td>moreThan6</td>\n",
       "      <td>Университет Туро</td>\n",
       "      <td>...</td>\n",
       "      <td>NaN</td>\n",
       "      <td>NaN</td>\n",
       "      <td>NaN</td>\n",
       "      <td>NaN</td>\n",
       "      <td>NaN</td>\n",
       "      <td>NaN</td>\n",
       "      <td>NaN</td>\n",
       "      <td>NaN</td>\n",
       "      <td>NaN</td>\n",
       "      <td>NaN</td>\n",
       "    </tr>\n",
       "  </tbody>\n",
       "</table>\n",
       "<p>5 rows × 50 columns</p>\n",
       "</div>"
      ],
      "text/plain": [
       "         Id  Area_id                                               Name  \\\n",
       "0  23233819        1  Руководитель группы продаж (digital, интернет-...   \n",
       "1  23408155        1                                   Тестировщик (QA)   \n",
       "2  22724239        1                   Web-программист/HTML-верстальщик   \n",
       "3  23103201        1                       Ведущий менеджер по продажам   \n",
       "4  23202651        1               Директор по маркетингу (Университет)   \n",
       "\n",
       "   Salary_from  Salary_to Salary_cur        Data  \\\n",
       "0      80000.0        NaN        RUR  2017-10-25   \n",
       "1          NaN    60000.0        RUR  2017-11-09   \n",
       "2          NaN   120000.0        RUR  2017-11-10   \n",
       "3      60000.0   150000.0        RUR  2017-11-12   \n",
       "4     250000.0        NaN        RUR  2017-10-23   \n",
       "\n",
       "                                  Url    Experience  \\\n",
       "0      https://hh.ru/vacancy/23233819  between1And3   \n",
       "1  https://career.ru/vacancy/23408155  between1And3   \n",
       "2      https://hh.ru/vacancy/22724239  between1And3   \n",
       "3      https://hh.ru/vacancy/23103201  between1And3   \n",
       "4      https://hh.ru/vacancy/23202651     moreThan6   \n",
       "\n",
       "                      Company_name    ...      IOS IOS_name Android  \\\n",
       "0                      Элемент, РА    ...      NaN      NaN     NaN   \n",
       "1  Performance Lab (Перфоманс Лаб)    ...      NaN      NaN     NaN   \n",
       "2                        DigitalHR    ...      NaN      NaN     NaN   \n",
       "3                            е.Ком    ...      NaN      NaN     NaN   \n",
       "4                 Университет Туро    ...      NaN      NaN     NaN   \n",
       "\n",
       "  Android_name  Go Go_name  Oracle Oracle_name  Java  Java_name  \n",
       "0          NaN NaN     NaN     NaN         NaN   NaN        NaN  \n",
       "1          NaN NaN     NaN     NaN         NaN   1.0        NaN  \n",
       "2          NaN NaN     NaN     NaN         NaN   NaN        NaN  \n",
       "3          NaN NaN     NaN     NaN         NaN   NaN        NaN  \n",
       "4          NaN NaN     NaN     NaN         NaN   NaN        NaN  \n",
       "\n",
       "[5 rows x 50 columns]"
      ]
     },
     "execution_count": 117,
     "metadata": {},
     "output_type": "execute_result"
    }
   ],
   "source": [
    "table_vacancies141117.head()"
   ]
  },
  {
   "cell_type": "code",
   "execution_count": 53,
   "metadata": {
    "collapsed": true
   },
   "outputs": [],
   "source": [
    "areas_bot = {'Москва': 1,\n",
    "             'Санкт-Петербург': 2,\n",
    "             'Казань': 1624,\n",
    "             #'Иннополис': 2734,\n",
    "             'Нижний Новгород': 1679,\n",
    "             'Новосибирск': 1202,\n",
    "             'Воронеж': 1844,\n",
    "             'Самара': 1586,\n",
    "             'Екатеринбург': 1261,\n",
    "             'Томск': 1255,\n",
    "             'Рязань': 1704,\n",
    "             'Уфа': 1347,\n",
    "             'Красноярск': 1146}"
   ]
  },
  {
   "cell_type": "code",
   "execution_count": 54,
   "metadata": {
    "collapsed": true
   },
   "outputs": [],
   "source": [
    "levels_bot = {'Junior': 'junior',\n",
    "              'Middle': 'middle',\n",
    "              'Senior': 'senior'}"
   ]
  },
  {
   "cell_type": "code",
   "execution_count": 50,
   "metadata": {
    "collapsed": true
   },
   "outputs": [],
   "source": [
    "abilities_bot = ['Java', 'Javascript', 'Python', 'C++', 'C#', 'IOS', 'Android',\n",
    "                 'PHP', 'Go', 'Ruby', 'SQL', 'Oracle', 'Postgres', 'HTML', 'CSS']"
   ]
  },
  {
   "cell_type": "markdown",
   "metadata": {},
   "source": [
    "## Полная таблица вакансий"
   ]
  },
  {
   "cell_type": "code",
   "execution_count": 129,
   "metadata": {
    "collapsed": true
   },
   "outputs": [],
   "source": [
    "info_all = []#area, level, ability, mean_from, min_from, max_from, median_from, standard deviation_from\n",
    "#mean_to, min_to, max_to, median_to, standard deviation_to\n",
    "#mean, min, max, median, standart deviation"
   ]
  },
  {
   "cell_type": "code",
   "execution_count": 130,
   "metadata": {
    "collapsed": false
   },
   "outputs": [
    {
     "name": "stdout",
     "output_type": "stream",
     "text": [
      "0.0% 7.69% 15.38% 23.08% 30.77% 38.46% 46.15% 53.85% 61.54% 69.23% 76.92% 84.62% "
     ]
    }
   ],
   "source": [
    "num = 0\n",
    "for name_area in areas_bot:\n",
    "    area = areas_bot[name_area]\n",
    "    print(str(round(num/13*100, 2)) +  '%', end=' ')\n",
    "    num += 1\n",
    "    for abil in abilities_bot:\n",
    "        for in_name in ['']:\n",
    "            ability = abil + in_name\n",
    "            for lev in levels_bot:\n",
    "                level = levels_bot[lev]\n",
    "                answer = [name_area, ability, level]\n",
    "                answer_from_mean = table_vacancies141117[((table_vacancies141117[ability] == 1) \n",
    "                    & (table_vacancies141117['Area_id'] == area)\n",
    "                    & (table_vacancies141117['Salary_cur'] == 'RUR')\n",
    "                    & (table_vacancies141117['qualification'] == level)\n",
    "                    & (table_vacancies141117['Salary_from']))]['Salary_from'].mean()\n",
    "                answer_from_min = table_vacancies141117[((table_vacancies141117[ability] == 1) \n",
    "                    & (table_vacancies141117['Area_id'] == area)\n",
    "                    & (table_vacancies141117['Salary_cur'] == 'RUR')\n",
    "                    & (table_vacancies141117['qualification'] == level)\n",
    "                    & (table_vacancies141117['Salary_from']))]['Salary_from'].min()\n",
    "                answer_from_max = table_vacancies141117[((table_vacancies141117[ability] == 1) \n",
    "                    & (table_vacancies141117['Area_id'] == area)\n",
    "                    & (table_vacancies141117['Salary_cur'] == 'RUR')\n",
    "                    & (table_vacancies141117['qualification'] == level))]['Salary_from'].max()\n",
    "                answer_from_median = table_vacancies141117[((table_vacancies141117[ability] == 1) \n",
    "                    & (table_vacancies141117['Area_id'] == area)\n",
    "                    & (table_vacancies141117['Salary_cur'] == 'RUR')\n",
    "                    & (table_vacancies141117['qualification'] == level))]['Salary_from'].median()\n",
    "                answer_from_std = table_vacancies141117[((table_vacancies141117[ability] == 1) \n",
    "                    & (table_vacancies141117['Area_id'] == area)\n",
    "                    & (table_vacancies141117['Salary_cur'] == 'RUR')\n",
    "                    & (table_vacancies141117['qualification'] == level))]['Salary_from'].std()\n",
    "\n",
    "                answer_to_mean = table_vacancies141117[((table_vacancies141117[ability] == 1) \n",
    "                    & (table_vacancies141117['Area_id'] == area)\n",
    "                    & (table_vacancies141117['Salary_cur'] == 'RUR')\n",
    "                    & (table_vacancies141117['qualification'] == level))]['Salary_to'].mean()\n",
    "                answer_to_min = table_vacancies141117[((table_vacancies141117[ability] == 1) \n",
    "                    & (table_vacancies141117['Area_id'] == area)\n",
    "                    & (table_vacancies141117['Salary_cur'] == 'RUR')\n",
    "                    & (table_vacancies141117['qualification'] == level))]['Salary_to'].min()\n",
    "                answer_to_max = table_vacancies141117[((table_vacancies141117[ability] == 1) \n",
    "                    & (table_vacancies141117['Area_id'] == area)\n",
    "                    & (table_vacancies141117['Salary_cur'] == 'RUR')\n",
    "                    & (table_vacancies141117['qualification'] == level))]['Salary_to'].max()\n",
    "                answer_to_median = table_vacancies141117[((table_vacancies141117[ability] == 1) \n",
    "                    & (table_vacancies141117['Area_id'] == area)\n",
    "                    & (table_vacancies141117['Salary_cur'] == 'RUR')\n",
    "                    & (table_vacancies141117['qualification'] == level))]['Salary_to'].median()\n",
    "                answer_to_std = table_vacancies141117[((table_vacancies141117[ability] == 1) \n",
    "                    & (table_vacancies141117['Area_id'] == area)\n",
    "                    & (table_vacancies141117['Salary_cur'] == 'RUR')\n",
    "                    & (table_vacancies141117['qualification'] == level))]['Salary_to'].std()\n",
    "                helper = ((table_vacancies141117[((table_vacancies141117[ability] == 1) \n",
    "        & (table_vacancies141117['Area_id'] == area)\n",
    "        & (table_vacancies141117['Salary_cur'] == 'RUR')\n",
    "        & (table_vacancies141117['qualification'] == level))]['Salary_from'] + table_vacancies141117[((table_vacancies141117[ability] == 1) \n",
    "        & (table_vacancies141117['Area_id'] == area)\n",
    "        & (table_vacancies141117['Salary_cur'] == 'RUR')\n",
    "        & (table_vacancies141117['qualification'] == level))]['Salary_to'])/2).combine_first(table_vacancies141117[((table_vacancies141117[ability] == 1) \n",
    "        & (table_vacancies141117['Area_id'] == area)\n",
    "        & (table_vacancies141117['Salary_cur'] == 'RUR')\n",
    "        & (table_vacancies141117['qualification'] == level))]['Salary_from']).combine_first(table_vacancies141117[((table_vacancies141117[ability] == 1) \n",
    "        & (table_vacancies141117['Area_id'] == area)\n",
    "        & (table_vacancies141117['Salary_cur'] == 'RUR')\n",
    "        & (table_vacancies141117['qualification'] == level))]['Salary_to'])\n",
    "                helper = helper[helper > 10000]\n",
    "                answer_min = helper.min()\n",
    "                answer_max = helper.max()\n",
    "                answer_mean = helper.mean()\n",
    "                answer_median =helper.median()\n",
    "                answer_std = helper.std()\n",
    "                if answer_min < 1000: #\n",
    "                    answer_min = 1000 #\n",
    "                answer.append(len(helper))\n",
    "                answer.extend([answer_mean, answer_min, answer_max, answer_median, answer_std])\n",
    "                answer.extend([answer_from_mean, answer_from_min, answer_from_max, answer_from_median, answer_from_std])\n",
    "                answer.extend([answer_to_mean, answer_to_min, answer_to_max, answer_to_median, answer_to_std])\n",
    "                info_all.append(answer)"
   ]
  },
  {
   "cell_type": "code",
   "execution_count": 131,
   "metadata": {
    "collapsed": true
   },
   "outputs": [],
   "source": [
    "table_info141117 = pd.DataFrame(info_all, columns = ['Name_area', 'Ability', 'Level', 'Amount',\n",
    "                                                          'answer_mean', 'answer_min', 'answer_max', 'answer_median',\n",
    "                                                           'answer_std', 'answer_from_mean', 'answer_from_min', 'answer_from_max',\n",
    "                                                           'answer_from_median', 'answer_from_std', 'answer_to_mean', 'answer_to_min',\n",
    "                                                           'answer_to_max', 'answer_to_median', 'answer_to_std'])"
   ]
  },
  {
   "cell_type": "code",
   "execution_count": 132,
   "metadata": {
    "collapsed": true
   },
   "outputs": [],
   "source": [
    "table_info141117.to_excel('table_info141117_10.xlsx')"
   ]
  },
  {
   "cell_type": "code",
   "execution_count": 8,
   "metadata": {
    "collapsed": true
   },
   "outputs": [],
   "source": [
    "table_need = pd.read_excel('./botGetIt/vacancies_10.xlsx')"
   ]
  },
  {
   "cell_type": "code",
   "execution_count": 9,
   "metadata": {
    "collapsed": true
   },
   "outputs": [],
   "source": [
    "table_vacancies141117 = table_need"
   ]
  },
  {
   "cell_type": "markdown",
   "metadata": {},
   "source": [
    "## Краткая табилца вакансий"
   ]
  },
  {
   "cell_type": "code",
   "execution_count": 114,
   "metadata": {
    "collapsed": false,
    "scrolled": true
   },
   "outputs": [
    {
     "name": "stdout",
     "output_type": "stream",
     "text": [
      "0.0% "
     ]
    },
    {
     "ename": "KeyError",
     "evalue": "'Java'",
     "output_type": "error",
     "traceback": [
      "\u001b[0;31m---------------------------------------------------------------------------\u001b[0m",
      "\u001b[0;31mKeyError\u001b[0m                                  Traceback (most recent call last)",
      "\u001b[0;32m~/anaconda3/lib/python3.6/site-packages/pandas/core/indexes/base.py\u001b[0m in \u001b[0;36mget_loc\u001b[0;34m(self, key, method, tolerance)\u001b[0m\n\u001b[1;32m   2441\u001b[0m             \u001b[0;32mtry\u001b[0m\u001b[0;34m:\u001b[0m\u001b[0;34m\u001b[0m\u001b[0m\n\u001b[0;32m-> 2442\u001b[0;31m                 \u001b[0;32mreturn\u001b[0m \u001b[0mself\u001b[0m\u001b[0;34m.\u001b[0m\u001b[0m_engine\u001b[0m\u001b[0;34m.\u001b[0m\u001b[0mget_loc\u001b[0m\u001b[0;34m(\u001b[0m\u001b[0mkey\u001b[0m\u001b[0;34m)\u001b[0m\u001b[0;34m\u001b[0m\u001b[0m\n\u001b[0m\u001b[1;32m   2443\u001b[0m             \u001b[0;32mexcept\u001b[0m \u001b[0mKeyError\u001b[0m\u001b[0;34m:\u001b[0m\u001b[0;34m\u001b[0m\u001b[0m\n",
      "\u001b[0;32mpandas/_libs/index.pyx\u001b[0m in \u001b[0;36mpandas._libs.index.IndexEngine.get_loc\u001b[0;34m()\u001b[0m\n",
      "\u001b[0;32mpandas/_libs/index.pyx\u001b[0m in \u001b[0;36mpandas._libs.index.IndexEngine.get_loc\u001b[0;34m()\u001b[0m\n",
      "\u001b[0;32mpandas/_libs/hashtable_class_helper.pxi\u001b[0m in \u001b[0;36mpandas._libs.hashtable.PyObjectHashTable.get_item\u001b[0;34m()\u001b[0m\n",
      "\u001b[0;32mpandas/_libs/hashtable_class_helper.pxi\u001b[0m in \u001b[0;36mpandas._libs.hashtable.PyObjectHashTable.get_item\u001b[0;34m()\u001b[0m\n",
      "\u001b[0;31mKeyError\u001b[0m: 'Java'",
      "\nDuring handling of the above exception, another exception occurred:\n",
      "\u001b[0;31mKeyError\u001b[0m                                  Traceback (most recent call last)",
      "\u001b[0;32m<ipython-input-114-40fffcc8c876>\u001b[0m in \u001b[0;36m<module>\u001b[0;34m()\u001b[0m\n\u001b[1;32m     15\u001b[0m         \u001b[0;34m&\u001b[0m \u001b[0;34m(\u001b[0m\u001b[0mtable_vacancies141117\u001b[0m\u001b[0;34m[\u001b[0m\u001b[0;34m'Area_id'\u001b[0m\u001b[0;34m]\u001b[0m \u001b[0;34m==\u001b[0m \u001b[0marea\u001b[0m\u001b[0;34m)\u001b[0m\u001b[0;34m\u001b[0m\u001b[0m\n\u001b[1;32m     16\u001b[0m         \u001b[0;34m&\u001b[0m \u001b[0;34m(\u001b[0m\u001b[0mtable_vacancies141117\u001b[0m\u001b[0;34m[\u001b[0m\u001b[0;34m'Salary_cur'\u001b[0m\u001b[0;34m]\u001b[0m \u001b[0;34m==\u001b[0m \u001b[0;34m'RUR'\u001b[0m\u001b[0;34m)\u001b[0m\u001b[0;34m\u001b[0m\u001b[0m\n\u001b[0;32m---> 17\u001b[0;31m         \u001b[0;34m&\u001b[0m \u001b[0;34m(\u001b[0m\u001b[0mtable_vacancies141117\u001b[0m\u001b[0;34m[\u001b[0m\u001b[0;34m'qualification'\u001b[0m\u001b[0;34m]\u001b[0m \u001b[0;34m==\u001b[0m \u001b[0mlevel\u001b[0m\u001b[0;34m)\u001b[0m\u001b[0;34m)\u001b[0m\u001b[0;34m]\u001b[0m\u001b[0;34m[\u001b[0m\u001b[0;34m'Salary_from'\u001b[0m\u001b[0;34m]\u001b[0m \u001b[0;34m+\u001b[0m \u001b[0mtable_vacancies141117\u001b[0m\u001b[0;34m[\u001b[0m\u001b[0;34m(\u001b[0m\u001b[0;34m(\u001b[0m\u001b[0mtable_vacancies141117\u001b[0m\u001b[0;34m[\u001b[0m\u001b[0mability\u001b[0m\u001b[0;34m]\u001b[0m \u001b[0;34m==\u001b[0m \u001b[0;36m1\u001b[0m\u001b[0;34m)\u001b[0m\u001b[0;34m\u001b[0m\u001b[0m\n\u001b[0m\u001b[1;32m     18\u001b[0m         \u001b[0;34m&\u001b[0m \u001b[0;34m(\u001b[0m\u001b[0mtable_vacancies141117\u001b[0m\u001b[0;34m[\u001b[0m\u001b[0;34m'Area_id'\u001b[0m\u001b[0;34m]\u001b[0m \u001b[0;34m==\u001b[0m \u001b[0marea\u001b[0m\u001b[0;34m)\u001b[0m\u001b[0;34m\u001b[0m\u001b[0m\n\u001b[1;32m     19\u001b[0m         \u001b[0;34m&\u001b[0m \u001b[0;34m(\u001b[0m\u001b[0mtable_vacancies141117\u001b[0m\u001b[0;34m[\u001b[0m\u001b[0;34m'Salary_cur'\u001b[0m\u001b[0;34m]\u001b[0m \u001b[0;34m==\u001b[0m \u001b[0;34m'RUR'\u001b[0m\u001b[0;34m)\u001b[0m\u001b[0;34m\u001b[0m\u001b[0m\n",
      "\u001b[0;32m~/anaconda3/lib/python3.6/site-packages/pandas/core/frame.py\u001b[0m in \u001b[0;36m__getitem__\u001b[0;34m(self, key)\u001b[0m\n\u001b[1;32m   1962\u001b[0m             \u001b[0;32mreturn\u001b[0m \u001b[0mself\u001b[0m\u001b[0;34m.\u001b[0m\u001b[0m_getitem_multilevel\u001b[0m\u001b[0;34m(\u001b[0m\u001b[0mkey\u001b[0m\u001b[0;34m)\u001b[0m\u001b[0;34m\u001b[0m\u001b[0m\n\u001b[1;32m   1963\u001b[0m         \u001b[0;32melse\u001b[0m\u001b[0;34m:\u001b[0m\u001b[0;34m\u001b[0m\u001b[0m\n\u001b[0;32m-> 1964\u001b[0;31m             \u001b[0;32mreturn\u001b[0m \u001b[0mself\u001b[0m\u001b[0;34m.\u001b[0m\u001b[0m_getitem_column\u001b[0m\u001b[0;34m(\u001b[0m\u001b[0mkey\u001b[0m\u001b[0;34m)\u001b[0m\u001b[0;34m\u001b[0m\u001b[0m\n\u001b[0m\u001b[1;32m   1965\u001b[0m \u001b[0;34m\u001b[0m\u001b[0m\n\u001b[1;32m   1966\u001b[0m     \u001b[0;32mdef\u001b[0m \u001b[0m_getitem_column\u001b[0m\u001b[0;34m(\u001b[0m\u001b[0mself\u001b[0m\u001b[0;34m,\u001b[0m \u001b[0mkey\u001b[0m\u001b[0;34m)\u001b[0m\u001b[0;34m:\u001b[0m\u001b[0;34m\u001b[0m\u001b[0m\n",
      "\u001b[0;32m~/anaconda3/lib/python3.6/site-packages/pandas/core/frame.py\u001b[0m in \u001b[0;36m_getitem_column\u001b[0;34m(self, key)\u001b[0m\n\u001b[1;32m   1969\u001b[0m         \u001b[0;31m# get column\u001b[0m\u001b[0;34m\u001b[0m\u001b[0;34m\u001b[0m\u001b[0m\n\u001b[1;32m   1970\u001b[0m         \u001b[0;32mif\u001b[0m \u001b[0mself\u001b[0m\u001b[0;34m.\u001b[0m\u001b[0mcolumns\u001b[0m\u001b[0;34m.\u001b[0m\u001b[0mis_unique\u001b[0m\u001b[0;34m:\u001b[0m\u001b[0;34m\u001b[0m\u001b[0m\n\u001b[0;32m-> 1971\u001b[0;31m             \u001b[0;32mreturn\u001b[0m \u001b[0mself\u001b[0m\u001b[0;34m.\u001b[0m\u001b[0m_get_item_cache\u001b[0m\u001b[0;34m(\u001b[0m\u001b[0mkey\u001b[0m\u001b[0;34m)\u001b[0m\u001b[0;34m\u001b[0m\u001b[0m\n\u001b[0m\u001b[1;32m   1972\u001b[0m \u001b[0;34m\u001b[0m\u001b[0m\n\u001b[1;32m   1973\u001b[0m         \u001b[0;31m# duplicate columns & possible reduce dimensionality\u001b[0m\u001b[0;34m\u001b[0m\u001b[0;34m\u001b[0m\u001b[0m\n",
      "\u001b[0;32m~/anaconda3/lib/python3.6/site-packages/pandas/core/generic.py\u001b[0m in \u001b[0;36m_get_item_cache\u001b[0;34m(self, item)\u001b[0m\n\u001b[1;32m   1643\u001b[0m         \u001b[0mres\u001b[0m \u001b[0;34m=\u001b[0m \u001b[0mcache\u001b[0m\u001b[0;34m.\u001b[0m\u001b[0mget\u001b[0m\u001b[0;34m(\u001b[0m\u001b[0mitem\u001b[0m\u001b[0;34m)\u001b[0m\u001b[0;34m\u001b[0m\u001b[0m\n\u001b[1;32m   1644\u001b[0m         \u001b[0;32mif\u001b[0m \u001b[0mres\u001b[0m \u001b[0;32mis\u001b[0m \u001b[0;32mNone\u001b[0m\u001b[0;34m:\u001b[0m\u001b[0;34m\u001b[0m\u001b[0m\n\u001b[0;32m-> 1645\u001b[0;31m             \u001b[0mvalues\u001b[0m \u001b[0;34m=\u001b[0m \u001b[0mself\u001b[0m\u001b[0;34m.\u001b[0m\u001b[0m_data\u001b[0m\u001b[0;34m.\u001b[0m\u001b[0mget\u001b[0m\u001b[0;34m(\u001b[0m\u001b[0mitem\u001b[0m\u001b[0;34m)\u001b[0m\u001b[0;34m\u001b[0m\u001b[0m\n\u001b[0m\u001b[1;32m   1646\u001b[0m             \u001b[0mres\u001b[0m \u001b[0;34m=\u001b[0m \u001b[0mself\u001b[0m\u001b[0;34m.\u001b[0m\u001b[0m_box_item_values\u001b[0m\u001b[0;34m(\u001b[0m\u001b[0mitem\u001b[0m\u001b[0;34m,\u001b[0m \u001b[0mvalues\u001b[0m\u001b[0;34m)\u001b[0m\u001b[0;34m\u001b[0m\u001b[0m\n\u001b[1;32m   1647\u001b[0m             \u001b[0mcache\u001b[0m\u001b[0;34m[\u001b[0m\u001b[0mitem\u001b[0m\u001b[0;34m]\u001b[0m \u001b[0;34m=\u001b[0m \u001b[0mres\u001b[0m\u001b[0;34m\u001b[0m\u001b[0m\n",
      "\u001b[0;32m~/anaconda3/lib/python3.6/site-packages/pandas/core/internals.py\u001b[0m in \u001b[0;36mget\u001b[0;34m(self, item, fastpath)\u001b[0m\n\u001b[1;32m   3588\u001b[0m \u001b[0;34m\u001b[0m\u001b[0m\n\u001b[1;32m   3589\u001b[0m             \u001b[0;32mif\u001b[0m \u001b[0;32mnot\u001b[0m \u001b[0misnull\u001b[0m\u001b[0;34m(\u001b[0m\u001b[0mitem\u001b[0m\u001b[0;34m)\u001b[0m\u001b[0;34m:\u001b[0m\u001b[0;34m\u001b[0m\u001b[0m\n\u001b[0;32m-> 3590\u001b[0;31m                 \u001b[0mloc\u001b[0m \u001b[0;34m=\u001b[0m \u001b[0mself\u001b[0m\u001b[0;34m.\u001b[0m\u001b[0mitems\u001b[0m\u001b[0;34m.\u001b[0m\u001b[0mget_loc\u001b[0m\u001b[0;34m(\u001b[0m\u001b[0mitem\u001b[0m\u001b[0;34m)\u001b[0m\u001b[0;34m\u001b[0m\u001b[0m\n\u001b[0m\u001b[1;32m   3591\u001b[0m             \u001b[0;32melse\u001b[0m\u001b[0;34m:\u001b[0m\u001b[0;34m\u001b[0m\u001b[0m\n\u001b[1;32m   3592\u001b[0m                 \u001b[0mindexer\u001b[0m \u001b[0;34m=\u001b[0m \u001b[0mnp\u001b[0m\u001b[0;34m.\u001b[0m\u001b[0marange\u001b[0m\u001b[0;34m(\u001b[0m\u001b[0mlen\u001b[0m\u001b[0;34m(\u001b[0m\u001b[0mself\u001b[0m\u001b[0;34m.\u001b[0m\u001b[0mitems\u001b[0m\u001b[0;34m)\u001b[0m\u001b[0;34m)\u001b[0m\u001b[0;34m[\u001b[0m\u001b[0misnull\u001b[0m\u001b[0;34m(\u001b[0m\u001b[0mself\u001b[0m\u001b[0;34m.\u001b[0m\u001b[0mitems\u001b[0m\u001b[0;34m)\u001b[0m\u001b[0;34m]\u001b[0m\u001b[0;34m\u001b[0m\u001b[0m\n",
      "\u001b[0;32m~/anaconda3/lib/python3.6/site-packages/pandas/core/indexes/base.py\u001b[0m in \u001b[0;36mget_loc\u001b[0;34m(self, key, method, tolerance)\u001b[0m\n\u001b[1;32m   2442\u001b[0m                 \u001b[0;32mreturn\u001b[0m \u001b[0mself\u001b[0m\u001b[0;34m.\u001b[0m\u001b[0m_engine\u001b[0m\u001b[0;34m.\u001b[0m\u001b[0mget_loc\u001b[0m\u001b[0;34m(\u001b[0m\u001b[0mkey\u001b[0m\u001b[0;34m)\u001b[0m\u001b[0;34m\u001b[0m\u001b[0m\n\u001b[1;32m   2443\u001b[0m             \u001b[0;32mexcept\u001b[0m \u001b[0mKeyError\u001b[0m\u001b[0;34m:\u001b[0m\u001b[0;34m\u001b[0m\u001b[0m\n\u001b[0;32m-> 2444\u001b[0;31m                 \u001b[0;32mreturn\u001b[0m \u001b[0mself\u001b[0m\u001b[0;34m.\u001b[0m\u001b[0m_engine\u001b[0m\u001b[0;34m.\u001b[0m\u001b[0mget_loc\u001b[0m\u001b[0;34m(\u001b[0m\u001b[0mself\u001b[0m\u001b[0;34m.\u001b[0m\u001b[0m_maybe_cast_indexer\u001b[0m\u001b[0;34m(\u001b[0m\u001b[0mkey\u001b[0m\u001b[0;34m)\u001b[0m\u001b[0;34m)\u001b[0m\u001b[0;34m\u001b[0m\u001b[0m\n\u001b[0m\u001b[1;32m   2445\u001b[0m \u001b[0;34m\u001b[0m\u001b[0m\n\u001b[1;32m   2446\u001b[0m         \u001b[0mindexer\u001b[0m \u001b[0;34m=\u001b[0m \u001b[0mself\u001b[0m\u001b[0;34m.\u001b[0m\u001b[0mget_indexer\u001b[0m\u001b[0;34m(\u001b[0m\u001b[0;34m[\u001b[0m\u001b[0mkey\u001b[0m\u001b[0;34m]\u001b[0m\u001b[0;34m,\u001b[0m \u001b[0mmethod\u001b[0m\u001b[0;34m=\u001b[0m\u001b[0mmethod\u001b[0m\u001b[0;34m,\u001b[0m \u001b[0mtolerance\u001b[0m\u001b[0;34m=\u001b[0m\u001b[0mtolerance\u001b[0m\u001b[0;34m)\u001b[0m\u001b[0;34m\u001b[0m\u001b[0m\n",
      "\u001b[0;32mpandas/_libs/index.pyx\u001b[0m in \u001b[0;36mpandas._libs.index.IndexEngine.get_loc\u001b[0;34m()\u001b[0m\n",
      "\u001b[0;32mpandas/_libs/index.pyx\u001b[0m in \u001b[0;36mpandas._libs.index.IndexEngine.get_loc\u001b[0;34m()\u001b[0m\n",
      "\u001b[0;32mpandas/_libs/hashtable_class_helper.pxi\u001b[0m in \u001b[0;36mpandas._libs.hashtable.PyObjectHashTable.get_item\u001b[0;34m()\u001b[0m\n",
      "\u001b[0;32mpandas/_libs/hashtable_class_helper.pxi\u001b[0m in \u001b[0;36mpandas._libs.hashtable.PyObjectHashTable.get_item\u001b[0;34m()\u001b[0m\n",
      "\u001b[0;31mKeyError\u001b[0m: 'Java'"
     ]
    }
   ],
   "source": [
    "info_need = []\n",
    "num = 0\n",
    "for name_area in areas_bot:\n",
    "    area = areas_bot[name_area]\n",
    "    print(str(round(num/len(areas_bot)*100, 2)) +  '%', end=' ')\n",
    "    num += 1\n",
    "    for abil in abilities_bot:\n",
    "        for in_name in ['']:\n",
    "            ability = abil + in_name\n",
    "            for lev in levels_bot:\n",
    "                level = levels_bot[lev]\n",
    "                answer = [name_area, ability, level]\n",
    "                \n",
    "                helper = ((table_vacancies141117[((table_vacancies141117[ability] == 1) \n",
    "        & (table_vacancies141117['Area_id'] == area)\n",
    "        & (table_vacancies141117['Salary_cur'] == 'RUR')\n",
    "        & (table_vacancies141117['qualification'] == level))]['Salary_from'] + table_vacancies141117[((table_vacancies141117[ability] == 1) \n",
    "        & (table_vacancies141117['Area_id'] == area)\n",
    "        & (table_vacancies141117['Salary_cur'] == 'RUR')\n",
    "        & (table_vacancies141117['qualification'] == level))]['Salary_to'])/2).combine_first(table_vacancies141117[((table_vacancies141117[ability] == 1) \n",
    "        & (table_vacancies141117['Area_id'] == area)\n",
    "        & (table_vacancies141117['Salary_cur'] == 'RUR')\n",
    "        & (table_vacancies141117['qualification'] == level))]['Salary_from']).combine_first(table_vacancies141117[((table_vacancies141117[ability] == 1) \n",
    "        & (table_vacancies141117['Area_id'] == area)\n",
    "        & (table_vacancies141117['Salary_cur'] == 'RUR')\n",
    "        & (table_vacancies141117['qualification'] == level))]['Salary_to'])\n",
    "                \n",
    "                answer_min = helper.min()\n",
    "                answer_max = helper.max()\n",
    "                if helper.any():\n",
    "                    answer_mean = int(round(helper.mean()/1000, 1)*1000)\n",
    "                else:\n",
    "                    answer_mean = helper.mean()\n",
    "                answer_median =helper.median()\n",
    "                answer_std = helper.std()\n",
    "                if answer_min < 1000: #\n",
    "                    answer_min = 1000 #\n",
    "                answer.append(len(helper))\n",
    "                answer.extend([answer_mean, answer_min, answer_max, answer_median, answer_std])\n",
    "                info_need.append(answer)"
   ]
  },
  {
   "cell_type": "code",
   "execution_count": 106,
   "metadata": {
    "collapsed": true
   },
   "outputs": [],
   "source": [
    "table_need141117 = pd.DataFrame(info_need, columns = ['Name_area', 'Ability', 'Level', 'Amount',\n",
    "                                                     'answer_mean', 'answer_min', 'answer_max',\n",
    "                                                     'answer_median', 'answer_std'])"
   ]
  },
  {
   "cell_type": "code",
   "execution_count": 83,
   "metadata": {
    "collapsed": true
   },
   "outputs": [],
   "source": [
    "analysis_vacancies = pd.DataFrame(info_need, columns = ['Name_area', 'Ability', 'Level', 'Amount',\n",
    "                                                     'answer_mean', 'answer_min', 'answer_max',\n",
    "                                                     'answer_median', 'answer_std'])"
   ]
  },
  {
   "cell_type": "code",
   "execution_count": 110,
   "metadata": {
    "collapsed": true
   },
   "outputs": [],
   "source": [
    "table_need141117.to_excel('table_need141117_3.xlsx')"
   ]
  },
  {
   "cell_type": "code",
   "execution_count": 315,
   "metadata": {
    "collapsed": true
   },
   "outputs": [],
   "source": [
    "table_need141117.to_csv('table_need141117.csv')"
   ]
  },
  {
   "cell_type": "code",
   "execution_count": 333,
   "metadata": {
    "collapsed": true
   },
   "outputs": [],
   "source": [
    "analysis_vacancies.to_excel('analysis_vacancies.xlsx')\n",
    "analysis_vacancies.to_csv('analysis_vacancies.csv')"
   ]
  },
  {
   "cell_type": "code",
   "execution_count": null,
   "metadata": {
    "collapsed": true
   },
   "outputs": [],
   "source": []
  },
  {
   "cell_type": "code",
   "execution_count": 109,
   "metadata": {
    "collapsed": true
   },
   "outputs": [],
   "source": [
    "table_need141117 = analysis_vacancies"
   ]
  },
  {
   "cell_type": "code",
   "execution_count": 171,
   "metadata": {
    "collapsed": true
   },
   "outputs": [],
   "source": [
    "#первый заход"
   ]
  },
  {
   "cell_type": "markdown",
   "metadata": {},
   "source": [
    "## Анализ резюме"
   ]
  },
  {
   "cell_type": "code",
   "execution_count": null,
   "metadata": {
    "collapsed": true
   },
   "outputs": [],
   "source": []
  },
  {
   "cell_type": "markdown",
   "metadata": {},
   "source": [
    "java обыкновенный поиск(area, text, )\n",
    "https://hh.ru/search/resume?area=1&clusters=true&text=java&pos=full_text&logic=normal&exp_period=all_time \n",
    "java поиск только в вакансиях\n",
    "https://hh.ru/search/resume?text=java&logic=normal&pos=position&exp_period=all_time&order_by=publication_time&area=1&clusters=true\n",
    "python по 100 на странице\n",
    "https://hh.ru/search/resume?text=python&logic=normal&pos=full_text&exp_period=all_time&area=23&relocation=living_or_relocation&salary_from=&salary_to=&currency_code=RUR&education=none&age_from=&age_to=&gender=unknown&order_by=publication_time&source=all&search_period=0&items_on_page=100\n",
    "java с зарплатами и только резюме\n",
    "https://hh.ru/search/resume?text=java&logic=normal&pos=full_text&exp_period=all_time&relocation=living_or_relocation&salary_from=&salary_to=&currency_code=RUR&label=only_with_salary&education=none&age_from=&age_to=&gender=unknown&order_by=publication_time&source=resumes&search_period=0&items_on_page=20\n",
    "\n",
    "кол-во на странице\n",
    "items_on_page=(20, 50, 100)\n",
    "где искать \n",
    "pos = (full text - везде, position - в названии)\n",
    "Текст поиска \n",
    "text = \n",
    "Зарплата в \n",
    "currency_code=RUR\n",
    "зарплата есть\n",
    "label=only_with_salary"
   ]
  },
  {
   "cell_type": "code",
   "execution_count": 36,
   "metadata": {
    "collapsed": true
   },
   "outputs": [],
   "source": [
    "def make_url(area,  text, page = 0, search_period = 30, pos = 'position', label='only_with_salary',\n",
    "             items_on_page = 100, currency_code='RUR'):\n",
    "    main_part_url = 'https://hh.ru/search/resume?'\n",
    "    area_url = 'area=' + str(area) + '&'\n",
    "    text_url = 'text=' + text + '&'\n",
    "    pos_url = 'pos=' + pos + '&'\n",
    "    page_url = 'page=' + str(page) + '&'\n",
    "    items_url = 'items_on_page=' + str(items_on_page) + '&'\n",
    "    label_url = 'label=' + label + '&'\n",
    "    search_url= 'search_period=' + str(search_period) + '&'\n",
    "    currency_url = 'currency_code=' + currency_code + '&'\n",
    "    add_url = 'logic=normal&exp_period=all_time&order_by=publication_time&clusters=true&source=resumes&'\n",
    "    url = main_part_url + area_url + text_url + pos_url + page_url + \\\n",
    "    items_url + label_url + search_url + currency_url + add_url\n",
    "    return url"
   ]
  },
  {
   "cell_type": "code",
   "execution_count": 37,
   "metadata": {
    "collapsed": false
   },
   "outputs": [
    {
     "data": {
      "text/plain": [
       "'https://hh.ru/search/resume?area=1&text=Java&pos=position&page=0&items_on_page=100&label=only_with_salary&search_period=30&currency_code=RUR&logic=normal&exp_period=all_time&order_by=publication_time&clusters=true&source=resumes&'"
      ]
     },
     "execution_count": 37,
     "metadata": {},
     "output_type": "execute_result"
    }
   ],
   "source": [
    "make_url(1, 'Java')"
   ]
  },
  {
   "cell_type": "code",
   "execution_count": 57,
   "metadata": {
    "collapsed": false
   },
   "outputs": [
    {
     "ename": "NameError",
     "evalue": "name 'cookies' is not defined",
     "output_type": "error",
     "traceback": [
      "\u001b[0;31m---------------------------------------------------------------------------\u001b[0m",
      "\u001b[0;31mNameError\u001b[0m                                 Traceback (most recent call last)",
      "\u001b[0;32m<ipython-input-57-fc0e22aa3922>\u001b[0m in \u001b[0;36m<module>\u001b[0;34m()\u001b[0m\n\u001b[0;32m----> 1\u001b[0;31m \u001b[0mget_page_summary\u001b[0m\u001b[0;34m(\u001b[0m\u001b[0mmake_url\u001b[0m\u001b[0;34m(\u001b[0m\u001b[0;36m1\u001b[0m\u001b[0;34m,\u001b[0m \u001b[0;34m'Java'\u001b[0m\u001b[0;34m)\u001b[0m\u001b[0;34m,\u001b[0m \u001b[0mcookies\u001b[0m\u001b[0;34m,\u001b[0m \u001b[0mheaders\u001b[0m\u001b[0;34m)\u001b[0m\u001b[0;34m\u001b[0m\u001b[0m\n\u001b[0m",
      "\u001b[0;31mNameError\u001b[0m: name 'cookies' is not defined"
     ]
    }
   ],
   "source": [
    "get_page_summary(make_url(1, 'Java'), cookies, headers)"
   ]
  },
  {
   "cell_type": "markdown",
   "metadata": {},
   "source": []
  },
  {
   "cell_type": "code",
   "execution_count": 56,
   "metadata": {
    "collapsed": true
   },
   "outputs": [],
   "source": [
    "def get_page_summary(url, cookies, headers):\n",
    "    try:\n",
    "        r = requests.get(url, headers=headers, cookies=cookies)\n",
    "    except requests.exceptions:\n",
    "        print(r.statuc_code)\n",
    "    return r.text"
   ]
  },
  {
   "cell_type": "code",
   "execution_count": 42,
   "metadata": {
    "collapsed": true
   },
   "outputs": [],
   "source": [
    "def find_amount_resume(text):\n",
    "    place_word = text.find(\"'dimension11'\")\n",
    "    if not place_word + 1:\n",
    "        return 0\n",
    "    len_word = len(\"'dimension11'\")\n",
    "    first_marks = text[place_word + len_word:].find(\"'\") + 1\n",
    "    second_marks = text[place_word + len_word + first_marks:].find(\"'\")\n",
    "    return int(text[place_word + len_word + first_marks:place_word + len_word + first_marks + second_marks])"
   ]
  },
  {
   "cell_type": "code",
   "execution_count": 43,
   "metadata": {
    "collapsed": true
   },
   "outputs": [],
   "source": [
    "def find_amount_page(amount_resumes):\n",
    "    return amount_resumes//100 + 1"
   ]
  },
  {
   "cell_type": "code",
   "execution_count": 44,
   "metadata": {
    "collapsed": true
   },
   "outputs": [],
   "source": [
    "converter = {'USD' : 60, 'EUR': 70}"
   ]
  },
  {
   "cell_type": "code",
   "execution_count": 45,
   "metadata": {
    "collapsed": true
   },
   "outputs": [],
   "source": [
    "def recognize_exp(exp_text):\n",
    "    years = 0\n",
    "    month = 0\n",
    "    exp_list = exp_text.split()\n",
    "    if len(exp_list) == 5:\n",
    "        years = int(exp_list[0])\n",
    "        month = int(exp_list[3])\n",
    "        return years, month\n",
    "    elif len(exp_list) == 2:\n",
    "        for word in ['год', 'лет']:\n",
    "            if exp_list[1].find(word) + 1:\n",
    "                years = int(exp_list[0])\n",
    "                return years, month\n",
    "        month = int(exp_list[0])\n",
    "        return years, month\n",
    "    return years, month"
   ]
  },
  {
   "cell_type": "code",
   "execution_count": 46,
   "metadata": {
    "collapsed": true
   },
   "outputs": [],
   "source": [
    "def analysis_page(text, converter, ability, area):\n",
    "    resumes = []\n",
    "    number = 0\n",
    "    str_sal = '\"resume-serp__resume-compensation\">'\n",
    "    str_name = 'target=\"_blank\">'\n",
    "    str_exp = 'data-qa=\"resume-serp__resume-excpirience-sum\">'\n",
    "    salary_ind = text.find(str_sal) + len(str_sal)\n",
    "    while salary_ind + 1 != len(str_sal):\n",
    "        number += 1\n",
    "        text = text[salary_ind:]\n",
    "        salary_fin = text.find('\\n')\n",
    "        if not (salary_fin + 1):\n",
    "            salary_ind = text.find(str_sal) + len(str_sal)\n",
    "            continue\n",
    "        salary_text = text[:salary_fin].strip().split()\n",
    "        if len(salary_text) == 2:\n",
    "            salary, currency = salary_text[0], salary_text[1]\n",
    "        else:\n",
    "            salary_ind = text.find(str_sal) + len(str_sal)\n",
    "            continue\n",
    "        salary = int(salary)\n",
    "        if currency != 'руб.':\n",
    "            if currency == 'USD':\n",
    "                salary = salary * converter['USD']\n",
    "            elif currency == 'EUR':\n",
    "                salary = salary * converter['EUR']\n",
    "            else:\n",
    "                salary_ind = text.find(str_sal) + len(str_sal)\n",
    "                salary_ind = text.find(str_sal) + len(str_sal)\n",
    "                continue\n",
    "        name_ind = text[:].find(str_name) + len(str_name)\n",
    "        name_fin = text[name_ind:].find('</a></span>')\n",
    "        if  (name_ind + 1) == len(str_name) or not (name_fin + 1):\n",
    "            salary_ind = text.find(str_sal) + len(str_sal)\n",
    "            continue\n",
    "        name = text[name_ind: name_ind + name_fin].strip()\n",
    "        for bad in ['go-go', 'танцы']:\n",
    "            if name.find(bad) + 1:\n",
    "                salary_ind = text.find(str_sal) + len(str_sal)\n",
    "                continue\n",
    "        text = text[name_ind + name_fin:]\n",
    "        str_peo = 'data-qa=\"resume-serp__resume-fullname\">'\n",
    "        people_ind = text[:1000].find(str_peo) + len(str_peo)\n",
    "        people_fin = text[people_ind:].find('</div>')\n",
    "        people = ''\n",
    "        if  (people_ind + 1) != len(str_peo) and (people_fin + 1):\n",
    "            people = text[people_ind: people_ind + people_fin].strip()\n",
    "        exp_ind = text[:1000].find(str_exp) + len(str_exp)\n",
    "        exp_fin = text[exp_ind:].find('</div>')\n",
    "        if  (exp_ind + 1) == len(str_exp) or not (exp_fin + 1):\n",
    "            exp = ''\n",
    "        else:\n",
    "            exp = text[exp_ind: exp_ind + exp_fin].strip()\n",
    "            text = text[exp_ind + exp_fin:]\n",
    "        exp_year, exp_month = recognize_exp(exp)\n",
    "        resumes.append([area, ability, name, salary, people, exp, exp_year, exp_month])\n",
    "        salary_ind = text.find(str_sal) + len(str_sal)\n",
    "    return resumes"
   ]
  },
  {
   "cell_type": "code",
   "execution_count": 47,
   "metadata": {
    "collapsed": true
   },
   "outputs": [],
   "source": [
    "def analysis_resume(ability, area, cookies, headers):\n",
    "    resume_local = []\n",
    "    ability = ability.replace('#', '%23')\n",
    "    ability = ability.replace('++', '%2B%2B')\n",
    "    start_url = make_url(area, ability)\n",
    "    start_text = get_page_summary(start_url, cookies, headers)\n",
    "    start_text = start_text.replace('\\xa0',' ')\n",
    "    amount_resumes = find_amount_resume(start_text)\n",
    "    amount_pages = find_amount_page(amount_resumes)\n",
    "    resume_local.extend(analysis_page(start_text, converter, ability, area))\n",
    "    for num in range(1, amount_pages):\n",
    "        cur_url = make_url(area, ability, num)\n",
    "        cur_text = get_page_summary(cur_url, cookies, headers) \n",
    "        cur_text = cur_text.replace('\\xa0',' ')\n",
    "        resume_local.extend(analysis_page(cur_text, converter, ability, area))\n",
    "    return resume_local"
   ]
  },
  {
   "cell_type": "code",
   "execution_count": 51,
   "metadata": {
    "collapsed": true
   },
   "outputs": [],
   "source": [
    "def get_all_resumes(abilities_bot, areas_bot, cookies, headers):\n",
    "    all_resumes = []\n",
    "    for name_area in areas_bot:\n",
    "        print(name_area)\n",
    "        area = areas_bot[name_area]\n",
    "        for ability in abilities_bot:\n",
    "            print(ability, end = ' ')\n",
    "            all_resumes.extend(analysis_resume(ability, area, cookies, headers))\n",
    "            time.sleep(1)\n",
    "    return all_resumes"
   ]
  },
  {
   "cell_type": "code",
   "execution_count": 55,
   "metadata": {
    "collapsed": false
   },
   "outputs": [
    {
     "ename": "NameError",
     "evalue": "name 'cookies' is not defined",
     "output_type": "error",
     "traceback": [
      "\u001b[0;31m---------------------------------------------------------------------------\u001b[0m",
      "\u001b[0;31mNameError\u001b[0m                                 Traceback (most recent call last)",
      "\u001b[0;32m<ipython-input-55-fb14eee5b0a3>\u001b[0m in \u001b[0;36m<module>\u001b[0;34m()\u001b[0m\n\u001b[0;32m----> 1\u001b[0;31m \u001b[0mall_resumes\u001b[0m \u001b[0;34m=\u001b[0m \u001b[0mget_all_resumes\u001b[0m\u001b[0;34m(\u001b[0m\u001b[0mabilities_bot\u001b[0m\u001b[0;34m,\u001b[0m \u001b[0mareas_bot\u001b[0m\u001b[0;34m,\u001b[0m \u001b[0mcookies\u001b[0m\u001b[0;34m,\u001b[0m \u001b[0mheaders\u001b[0m\u001b[0;34m)\u001b[0m\u001b[0;34m\u001b[0m\u001b[0m\n\u001b[0m",
      "\u001b[0;31mNameError\u001b[0m: name 'cookies' is not defined"
     ]
    }
   ],
   "source": [
    "all_resumes = get_all_resumes(abilities_bot, areas_bot, cookies, headers)"
   ]
  },
  {
   "cell_type": "code",
   "execution_count": 58,
   "metadata": {
    "collapsed": false
   },
   "outputs": [
    {
     "ename": "NameError",
     "evalue": "name 'all_resumes' is not defined",
     "output_type": "error",
     "traceback": [
      "\u001b[0;31m---------------------------------------------------------------------------\u001b[0m",
      "\u001b[0;31mNameError\u001b[0m                                 Traceback (most recent call last)",
      "\u001b[0;32m<ipython-input-58-214e1ea1f7c8>\u001b[0m in \u001b[0;36m<module>\u001b[0;34m()\u001b[0m\n\u001b[0;32m----> 1\u001b[0;31m table_resumes = pd.DataFrame(all_resumes, columns = ['Area_id', 'Ability', 'Name', 'Salary', 'People_name', 'Experience',\n\u001b[0m\u001b[1;32m      2\u001b[0m                                                      'Experience_year', 'Experience_month'])\n",
      "\u001b[0;31mNameError\u001b[0m: name 'all_resumes' is not defined"
     ]
    }
   ],
   "source": [
    "table_resumes = pd.DataFrame(all_resumes, columns = ['Area_id', 'Ability', 'Name', 'Salary', 'People_name', 'Experience',\n",
    "                                                     'Experience_year', 'Experience_month'])"
   ]
  },
  {
   "cell_type": "code",
   "execution_count": 21,
   "metadata": {
    "collapsed": true
   },
   "outputs": [],
   "source": [
    "def rename_ability(Ability):\n",
    "    Ability = Ability.replace('%23', '#')\n",
    "    Ability = Ability.replace('%2B%2B', '++')\n",
    "    return Ability"
   ]
  },
  {
   "cell_type": "code",
   "execution_count": 22,
   "metadata": {
    "collapsed": true
   },
   "outputs": [],
   "source": [
    "table_resumes['Ability2'] = table_resumes['Ability'].apply(rename_ability)"
   ]
  },
  {
   "cell_type": "code",
   "execution_count": 23,
   "metadata": {
    "collapsed": true
   },
   "outputs": [],
   "source": [
    "table_resumes['Ability'] = table_resumes['Ability2']"
   ]
  },
  {
   "cell_type": "code",
   "execution_count": 24,
   "metadata": {
    "collapsed": true
   },
   "outputs": [],
   "source": [
    "table_resumes.drop('Ability2', axis=1, inplace=True)"
   ]
  },
  {
   "cell_type": "code",
   "execution_count": 25,
   "metadata": {
    "collapsed": true
   },
   "outputs": [],
   "source": [
    "def qual_year(Experience_year):\n",
    "    if Experience_year > 6:\n",
    "        return 'senior'\n",
    "    elif Experience_year > 2:\n",
    "        return 'middle'\n",
    "    else:\n",
    "        return 'junior'\n",
    "    return None\n",
    "\n",
    "\n",
    "def qual_name(Name):\n",
    "    text = Name.lower()\n",
    "    sen_exp = ['senior', 'сеньор'] #sen_exp = ['senior', 'главный', 'ведущий', 'сеньор']\n",
    "    mid_exp = ['middle', 'мидл', 'developer',]\n",
    "    jun_exp = ['junior', 'младший', 'стажер', 'джуниор']\n",
    "    for word in jun_exp:\n",
    "        if text.find(word) + 1:\n",
    "            return 'junior'\n",
    "    for word in mid_exp:\n",
    "        if text.find(word) + 1:\n",
    "            return 'middle'\n",
    "    for word in sen_exp:\n",
    "        if text.find(word) + 1:\n",
    "            return 'senior'\n",
    "    return None"
   ]
  },
  {
   "cell_type": "code",
   "execution_count": 26,
   "metadata": {
    "collapsed": true
   },
   "outputs": [],
   "source": [
    "qual_res_year = table_resumes['Experience_year'].apply(qual_year)\n",
    "qual_res_name = table_resumes['Name'].apply(qual_name)\n",
    "table_resumes['Qualification'] = qual_res_name\n",
    "table_resumes['Qualification'] = table_resumes['Qualification'].combine_first(qual_res_year)"
   ]
  },
  {
   "cell_type": "code",
   "execution_count": 27,
   "metadata": {
    "collapsed": true
   },
   "outputs": [],
   "source": [
    "def area_iden(Area_id):\n",
    "    areas_bot = {'Москва': 1,\n",
    "             'Санкт-Петербург': 2,\n",
    "             'Казань': 1624,\n",
    "             #'Иннополис': 2734,\n",
    "             'Нижний Новгород': 1679,\n",
    "             'Новосибирск': 1202,\n",
    "             'Воронеж': 1844,\n",
    "             'Самара': 1586,\n",
    "             'Екатеринбург': 1261,\n",
    "             'Томск': 1255,\n",
    "             'Рязань': 1704,\n",
    "             'Уфа': 1347,\n",
    "             'Красноярск': 1146}\n",
    "    for name_area in areas_bot:\n",
    "        if Area_id == areas_bot[name_area]:\n",
    "            return name_area\n",
    "    return None"
   ]
  },
  {
   "cell_type": "code",
   "execution_count": 28,
   "metadata": {
    "collapsed": true
   },
   "outputs": [],
   "source": [
    "table_resumes['Area'] = table_resumes['Area_id'].apply(area_iden)"
   ]
  },
  {
   "cell_type": "code",
   "execution_count": 30,
   "metadata": {
    "collapsed": true
   },
   "outputs": [],
   "source": [
    "table_resumes.to_csv('table_resumes.csv')"
   ]
  },
  {
   "cell_type": "code",
   "execution_count": 29,
   "metadata": {
    "collapsed": false,
    "scrolled": true
   },
   "outputs": [
    {
     "data": {
      "image/png": "[encoded data removed]",
      "text/plain": [
       "<matplotlib.figure.Figure at 0x7faee7f7e278>"
      ]
     },
     "metadata": {},
     "output_type": "display_data"
    }
   ],
   "source": [
    "plt.figure() #второй анализ ноябрь-октябрь\n",
    "\n",
    "labels = table_resumes['Qualification'].value_counts().index.tolist()\n",
    "sizes = table_resumes['Qualification'].value_counts().values.tolist()\n",
    "colors = ['#6780b3', '#b5c6e8', '#ebf1fb']\n",
    "explode = (0, 0, 0)  # explode slice\n",
    "\n",
    "plt.rcParams.update({'font.size': 10})\n",
    "plt.pie(sizes, labels=labels, explode=explode, colors=colors, autopct='%1.1f%%', shadow=True, startangle=90)\n",
    "\n",
    "plt.title('Experience, resumes')\n",
    "plt.axis('equal')\n",
    "plt.show()"
   ]
  },
  {
   "cell_type": "code",
   "execution_count": 79,
   "metadata": {
    "collapsed": false
   },
   "outputs": [
    {
     "name": "stdout",
     "output_type": "stream",
     "text": [
      "0.0% 8.33% 16.67% 25.0% 33.33% 41.67% 50.0% 58.33% 66.67% 75.0% 83.33% 91.67% "
     ]
    }
   ],
   "source": [
    "resumes_need = []\n",
    "num = 0\n",
    "for name_area in areas_bot:\n",
    "    area = areas_bot[name_area]\n",
    "    print(str(round(num/len(areas_bot)*100, 2)) +  '%', end=' ')\n",
    "    num += 1\n",
    "    for abil in abilities_bot:\n",
    "        for in_name in ['']:\n",
    "            ability = abil + in_name\n",
    "            for lev in levels_bot:\n",
    "                level = levels_bot[lev]\n",
    "                answer = [name_area, ability, level]\n",
    "                \n",
    "                helper = table_resumes[((table_resumes['Ability'] == ability) \n",
    "                        & (table_resumes['Area_id'] == area)\n",
    "                        & (table_resumes['Qualification'] == level)\n",
    "                        & (table_resumes['Salary'] > 10000))]['Salary']\n",
    "                answer_min = helper.min()\n",
    "                answer_max = helper.max()\n",
    "                if helper.any():\n",
    "                    answer_mean = int(round(helper.mean()/1000, 1)*1000)\n",
    "                else:\n",
    "                    answer_mean = helper.mean()\n",
    "                answer_median = helper.median()\n",
    "                answer_std = helper.std()\n",
    "                if answer_min < 1000: #\n",
    "                    answer_min = 1000 #\n",
    "                answer.append(len(helper))\n",
    "                answer.extend([answer_mean, answer_min, answer_max, answer_median, answer_std])\n",
    "                resumes_need.append(answer)"
   ]
  },
  {
   "cell_type": "code",
   "execution_count": 80,
   "metadata": {
    "collapsed": true
   },
   "outputs": [],
   "source": [
    "need_resumes = pd.DataFrame(resumes_need, columns = ['Name_area', 'Ability', 'Level', 'Amount',\n",
    "                                                     'answer_mean', 'answer_min', 'answer_max',\n",
    "                                                     'answer_median', 'answer_std'])"
   ]
  },
  {
   "cell_type": "code",
   "execution_count": 81,
   "metadata": {
    "collapsed": true
   },
   "outputs": [],
   "source": [
    "need_resumes.to_csv('need_resumes4.csv')\n",
    "need_resumes.to_excel('need_resumes4.xlsx')"
   ]
  },
  {
   "cell_type": "code",
   "execution_count": 10,
   "metadata": {
    "collapsed": true
   },
   "outputs": [],
   "source": [
    "need_resumes = pd.read_csv('need_resumes4.csv', index_col = 'Unnamed: 0')"
   ]
  },
  {
   "cell_type": "code",
   "execution_count": 36,
   "metadata": {
    "collapsed": false
   },
   "outputs": [
    {
     "data": {
      "text/html": [
       "<div>\n",
       "<style>\n",
       "    .dataframe thead tr:only-child th {\n",
       "        text-align: right;\n",
       "    }\n",
       "\n",
       "    .dataframe thead th {\n",
       "        text-align: left;\n",
       "    }\n",
       "\n",
       "    .dataframe tbody tr th {\n",
       "        vertical-align: top;\n",
       "    }\n",
       "</style>\n",
       "<table border=\"1\" class=\"dataframe\">\n",
       "  <thead>\n",
       "    <tr style=\"text-align: right;\">\n",
       "      <th></th>\n",
       "      <th>Name_area</th>\n",
       "      <th>Ability</th>\n",
       "      <th>Level</th>\n",
       "      <th>Amount</th>\n",
       "      <th>answer_mean</th>\n",
       "      <th>answer_min</th>\n",
       "      <th>answer_max</th>\n",
       "      <th>answer_median</th>\n",
       "      <th>answer_std</th>\n",
       "    </tr>\n",
       "  </thead>\n",
       "  <tbody>\n",
       "    <tr>\n",
       "      <th>0</th>\n",
       "      <td>Москва</td>\n",
       "      <td>Java</td>\n",
       "      <td>junior</td>\n",
       "      <td>96</td>\n",
       "      <td>46700.0</td>\n",
       "      <td>12000.0</td>\n",
       "      <td>150000.0</td>\n",
       "      <td>40000.0</td>\n",
       "      <td>27873.272112</td>\n",
       "    </tr>\n",
       "    <tr>\n",
       "      <th>1</th>\n",
       "      <td>Москва</td>\n",
       "      <td>Java</td>\n",
       "      <td>middle</td>\n",
       "      <td>66</td>\n",
       "      <td>125100.0</td>\n",
       "      <td>20000.0</td>\n",
       "      <td>420000.0</td>\n",
       "      <td>100000.0</td>\n",
       "      <td>88749.317160</td>\n",
       "    </tr>\n",
       "    <tr>\n",
       "      <th>2</th>\n",
       "      <td>Москва</td>\n",
       "      <td>Java</td>\n",
       "      <td>senior</td>\n",
       "      <td>55</td>\n",
       "      <td>144800.0</td>\n",
       "      <td>30000.0</td>\n",
       "      <td>300000.0</td>\n",
       "      <td>130000.0</td>\n",
       "      <td>73225.701547</td>\n",
       "    </tr>\n",
       "    <tr>\n",
       "      <th>3</th>\n",
       "      <td>Москва</td>\n",
       "      <td>Javascript</td>\n",
       "      <td>junior</td>\n",
       "      <td>27</td>\n",
       "      <td>53600.0</td>\n",
       "      <td>18000.0</td>\n",
       "      <td>100000.0</td>\n",
       "      <td>45000.0</td>\n",
       "      <td>25090.832141</td>\n",
       "    </tr>\n",
       "    <tr>\n",
       "      <th>4</th>\n",
       "      <td>Москва</td>\n",
       "      <td>Javascript</td>\n",
       "      <td>middle</td>\n",
       "      <td>35</td>\n",
       "      <td>121700.0</td>\n",
       "      <td>30000.0</td>\n",
       "      <td>500000.0</td>\n",
       "      <td>100000.0</td>\n",
       "      <td>86545.582297</td>\n",
       "    </tr>\n",
       "  </tbody>\n",
       "</table>\n",
       "</div>"
      ],
      "text/plain": [
       "  Name_area     Ability   Level  Amount  answer_mean  answer_min  answer_max  \\\n",
       "0    Москва        Java  junior      96      46700.0     12000.0    150000.0   \n",
       "1    Москва        Java  middle      66     125100.0     20000.0    420000.0   \n",
       "2    Москва        Java  senior      55     144800.0     30000.0    300000.0   \n",
       "3    Москва  Javascript  junior      27      53600.0     18000.0    100000.0   \n",
       "4    Москва  Javascript  middle      35     121700.0     30000.0    500000.0   \n",
       "\n",
       "   answer_median    answer_std  \n",
       "0        40000.0  27873.272112  \n",
       "1       100000.0  88749.317160  \n",
       "2       130000.0  73225.701547  \n",
       "3        45000.0  25090.832141  \n",
       "4       100000.0  86545.582297  "
      ]
     },
     "execution_count": 36,
     "metadata": {},
     "output_type": "execute_result"
    }
   ],
   "source": [
    "need_resumes.head()"
   ]
  },
  {
   "cell_type": "code",
   "execution_count": 38,
   "metadata": {
    "collapsed": true
   },
   "outputs": [],
   "source": [
    "analysis_vacancies = pd.read_excel('./botGetIt/vacancies.xlsx')\n",
    "columns = ['Name_area', 'Ability', 'Level', 'Amount', 'answer_mean', 'answer_min', 'answer_max','answer_median', 'answer_std']\n",
    "for i in range(len(analysis_vacancies.columns)):\n",
    "    analysis_vacancies = analysis_vacancies.rename(columns={analysis_vacancies.columns[i] : columns[i]})"
   ]
  },
  {
   "cell_type": "code",
   "execution_count": 39,
   "metadata": {
    "collapsed": false
   },
   "outputs": [
    {
     "data": {
      "text/html": [
       "<div>\n",
       "<style>\n",
       "    .dataframe thead tr:only-child th {\n",
       "        text-align: right;\n",
       "    }\n",
       "\n",
       "    .dataframe thead th {\n",
       "        text-align: left;\n",
       "    }\n",
       "\n",
       "    .dataframe tbody tr th {\n",
       "        vertical-align: top;\n",
       "    }\n",
       "</style>\n",
       "<table border=\"1\" class=\"dataframe\">\n",
       "  <thead>\n",
       "    <tr style=\"text-align: right;\">\n",
       "      <th></th>\n",
       "      <th>Name_area</th>\n",
       "      <th>Ability</th>\n",
       "      <th>Level</th>\n",
       "      <th>Amount</th>\n",
       "      <th>answer_mean</th>\n",
       "      <th>answer_min</th>\n",
       "      <th>answer_max</th>\n",
       "      <th>answer_median</th>\n",
       "      <th>answer_std</th>\n",
       "    </tr>\n",
       "  </thead>\n",
       "  <tbody>\n",
       "    <tr>\n",
       "      <th>0</th>\n",
       "      <td>Москва</td>\n",
       "      <td>Java</td>\n",
       "      <td>junior</td>\n",
       "      <td>19</td>\n",
       "      <td>65000.0</td>\n",
       "      <td>15000.0</td>\n",
       "      <td>175000.0</td>\n",
       "      <td>60000.0</td>\n",
       "      <td>34641.016151</td>\n",
       "    </tr>\n",
       "    <tr>\n",
       "      <th>1</th>\n",
       "      <td>Москва</td>\n",
       "      <td>Java</td>\n",
       "      <td>middle</td>\n",
       "      <td>177</td>\n",
       "      <td>132700.0</td>\n",
       "      <td>20000.0</td>\n",
       "      <td>300000.0</td>\n",
       "      <td>130000.0</td>\n",
       "      <td>52887.195802</td>\n",
       "    </tr>\n",
       "    <tr>\n",
       "      <th>2</th>\n",
       "      <td>Москва</td>\n",
       "      <td>Java</td>\n",
       "      <td>senior</td>\n",
       "      <td>127</td>\n",
       "      <td>143000.0</td>\n",
       "      <td>50000.0</td>\n",
       "      <td>285000.0</td>\n",
       "      <td>140000.0</td>\n",
       "      <td>46097.506399</td>\n",
       "    </tr>\n",
       "    <tr>\n",
       "      <th>3</th>\n",
       "      <td>Москва</td>\n",
       "      <td>Javascript</td>\n",
       "      <td>junior</td>\n",
       "      <td>73</td>\n",
       "      <td>54800.0</td>\n",
       "      <td>20000.0</td>\n",
       "      <td>130000.0</td>\n",
       "      <td>55000.0</td>\n",
       "      <td>24102.613314</td>\n",
       "    </tr>\n",
       "    <tr>\n",
       "      <th>4</th>\n",
       "      <td>Москва</td>\n",
       "      <td>Javascript</td>\n",
       "      <td>middle</td>\n",
       "      <td>420</td>\n",
       "      <td>105500.0</td>\n",
       "      <td>20000.0</td>\n",
       "      <td>220000.0</td>\n",
       "      <td>100000.0</td>\n",
       "      <td>40502.576667</td>\n",
       "    </tr>\n",
       "  </tbody>\n",
       "</table>\n",
       "</div>"
      ],
      "text/plain": [
       "  Name_area     Ability   Level  Amount  answer_mean  answer_min  answer_max  \\\n",
       "0    Москва        Java  junior      19      65000.0     15000.0    175000.0   \n",
       "1    Москва        Java  middle     177     132700.0     20000.0    300000.0   \n",
       "2    Москва        Java  senior     127     143000.0     50000.0    285000.0   \n",
       "3    Москва  Javascript  junior      73      54800.0     20000.0    130000.0   \n",
       "4    Москва  Javascript  middle     420     105500.0     20000.0    220000.0   \n",
       "\n",
       "   answer_median    answer_std  \n",
       "0        60000.0  34641.016151  \n",
       "1       130000.0  52887.195802  \n",
       "2       140000.0  46097.506399  \n",
       "3        55000.0  24102.613314  \n",
       "4       100000.0  40502.576667  "
      ]
     },
     "execution_count": 39,
     "metadata": {},
     "output_type": "execute_result"
    }
   ],
   "source": [
    "analysis_vacancies.head()"
   ]
  },
  {
   "cell_type": "code",
   "execution_count": 95,
   "metadata": {
    "collapsed": false
   },
   "outputs": [
    {
     "data": {
      "text/plain": [
       "Новосибирск        45\n",
       "Рязань             45\n",
       "Нижний Новгород    45\n",
       "Екатеринбург       45\n",
       "Красноярск         45\n",
       "Москва             45\n",
       "Казань             45\n",
       "Воронеж            45\n",
       "Санкт-Петербург    45\n",
       "Самара             45\n",
       "Уфа                45\n",
       "Томск              45\n",
       "Name: Name_area, dtype: int64"
      ]
     },
     "execution_count": 95,
     "metadata": {},
     "output_type": "execute_result"
    }
   ],
   "source": [
    "need_resumes['Name_area'].value_counts()"
   ]
  },
  {
   "cell_type": "markdown",
   "metadata": {},
   "source": [
    "## Табилца средних"
   ]
  },
  {
   "cell_type": "code",
   "execution_count": 12,
   "metadata": {
    "collapsed": true
   },
   "outputs": [],
   "source": [
    "analysis_vacancies = table_need"
   ]
  },
  {
   "cell_type": "code",
   "execution_count": 28,
   "metadata": {
    "collapsed": false,
    "scrolled": true
   },
   "outputs": [
    {
     "name": "stdout",
     "output_type": "stream",
     "text": [
      "0.0% Москва Postgres junior resumes\n",
      "Москва Postgres middle resumes\n",
      "Москва Postgres senior resumes\n",
      "8.33% Санкт-Петербург Postgres junior resumes\n",
      "Санкт-Петербург Postgres middle resumes\n",
      "16.67% Казань Python junior vacancies\n",
      "Казань IOS senior together\n",
      "Казань Android senior resumes\n",
      "Казань Go junior vacancies\n",
      "Казань Go middle vacancies\n",
      "Казань Go senior resumes\n",
      "Казань Ruby junior together\n",
      "Казань Ruby senior resumes\n",
      "Казань SQL junior resumes\n",
      "Казань Oracle junior together\n",
      "Казань Postgres junior resumes\n",
      "Казань Postgres middle resumes\n",
      "25.0% Нижний Новгород IOS junior together\n",
      "Нижний Новгород Go junior resumes\n",
      "Нижний Новгород Go middle resumes\n",
      "Нижний Новгород Go senior resumes\n",
      "Нижний Новгород Ruby junior together\n",
      "Нижний Новгород Ruby middle resumes\n",
      "Нижний Новгород Ruby senior together\n",
      "Нижний Новгород SQL junior resumes\n",
      "Нижний Новгород SQL middle resumes\n",
      "Нижний Новгород Oracle junior resumes\n",
      "Нижний Новгород Postgres junior together\n",
      "Нижний Новгород Postgres middle resumes\n",
      "Нижний Новгород Postgres senior resumes\n",
      "Нижний Новгород CSS junior resumes\n",
      "Нижний Новгород CSS middle resumes\n",
      "33.33% Новосибирск Go junior vacancies\n",
      "Новосибирск Go middle resumes\n",
      "Новосибирск Go senior resumes\n",
      "Новосибирск Ruby junior together\n",
      "Новосибирск Ruby senior resumes\n",
      "Новосибирск Oracle junior together\n",
      "Новосибирск Oracle middle resumes\n",
      "Новосибирск Postgres junior resumes\n",
      "Новосибирск Postgres middle resumes\n",
      "Новосибирск Postgres senior resumes\n",
      "Новосибирск CSS junior resumes\n",
      "Новосибирск CSS middle resumes\n",
      "Новосибирск CSS senior resumes\n",
      "41.67% Воронеж Java middle resumes\n",
      "Воронеж Java senior resumes\n",
      "Воронеж Javascript middle resumes\n",
      "Воронеж Javascript senior resumes\n",
      "Воронеж Python senior resumes\n",
      "Воронеж IOS junior resumes\n",
      "Воронеж Android senior resumes\n",
      "Воронеж Go junior together\n",
      "Воронеж Go middle resumes\n",
      "Воронеж Go senior resumes\n",
      "Воронеж Ruby junior together\n",
      "Воронеж Ruby senior vacancies\n",
      "Воронеж SQL junior resumes\n",
      "Воронеж SQL middle resumes\n",
      "Воронеж Oracle middle resumes\n",
      "Воронеж Oracle senior resumes\n",
      "Воронеж Postgres junior together\n",
      "Воронеж Postgres middle resumes\n",
      "Воронеж Postgres senior resumes\n",
      "Воронеж CSS junior resumes\n",
      "Воронеж CSS middle resumes\n",
      "Воронеж CSS senior resumes\n",
      "50.0% Самара Javascript senior resumes\n",
      "Самара Python junior vacancies\n",
      "Самара Python middle resumes\n",
      "Самара Python senior resumes\n",
      "Самара C# middle resumes\n",
      "Самара IOS junior together\n",
      "Самара IOS senior resumes\n",
      "Самара Android junior vacancies\n",
      "Самара Go junior vacancies\n",
      "Самара Go middle resumes\n",
      "Самара Go senior resumes\n",
      "Самара Ruby junior vacancies\n",
      "Самара Ruby senior together\n",
      "Самара SQL junior resumes\n",
      "Самара Oracle junior resumes\n",
      "Самара Postgres junior resumes\n",
      "Самара Postgres middle resumes\n",
      "Самара Postgres senior resumes\n",
      "Самара CSS junior resumes\n",
      "58.33% Екатеринбург C++ junior resumes\n",
      "Екатеринбург IOS junior resumes\n",
      "Екатеринбург Android junior resumes\n",
      "Екатеринбург Go junior vacancies\n",
      "Екатеринбург Go middle resumes\n",
      "Екатеринбург Ruby junior together\n",
      "Екатеринбург Ruby senior together\n",
      "Екатеринбург Oracle junior together\n",
      "Екатеринбург Postgres junior together\n",
      "Екатеринбург Postgres middle resumes\n",
      "Екатеринбург Postgres senior resumes\n",
      "Екатеринбург CSS senior resumes\n",
      "66.67% Томск Javascript junior resumes\n",
      "Томск Javascript middle resumes\n",
      "Томск Python junior vacancies\n",
      "Томск Python middle resumes\n",
      "Томск IOS junior together\n",
      "Томск Android junior vacancies\n",
      "Томск Go junior together\n",
      "Томск Go middle together\n",
      "Томск Go senior resumes\n",
      "Томск Ruby junior together\n",
      "Томск Ruby middle resumes\n",
      "Томск Ruby senior resumes\n",
      "Томск Oracle junior resumes\n",
      "Томск Postgres junior together\n",
      "Томск Postgres senior resumes\n",
      "Томск CSS junior resumes\n",
      "Томск CSS middle resumes\n",
      "Томск CSS senior resumes\n",
      "75.0% Рязань Java middle resumes\n",
      "Рязань Java senior resumes\n",
      "Рязань Javascript junior resumes\n",
      "Рязань Javascript middle resumes\n",
      "Рязань Javascript senior resumes\n",
      "Рязань Python junior resumes\n",
      "Рязань Python middle resumes\n",
      "Рязань Python senior together\n",
      "Рязань C# senior resumes\n",
      "Рязань IOS junior together\n",
      "Рязань IOS middle together\n",
      "Рязань IOS senior resumes\n",
      "Рязань Android junior vacancies\n",
      "Рязань Android middle resumes\n",
      "Рязань Android senior resumes\n",
      "Рязань PHP junior resumes\n",
      "Рязань PHP middle resumes\n",
      "Рязань PHP senior resumes\n",
      "Рязань Go junior resumes\n",
      "Рязань Go middle resumes\n",
      "Рязань Go senior resumes\n",
      "Рязань Ruby junior resumes\n",
      "Рязань Ruby middle together\n",
      "Рязань Ruby senior together\n",
      "Рязань SQL junior resumes\n",
      "Рязань SQL middle resumes\n",
      "Рязань SQL senior resumes\n",
      "Рязань Oracle junior resumes\n",
      "Рязань Oracle middle resumes\n",
      "Рязань Oracle senior together\n",
      "Рязань Postgres junior resumes\n",
      "Рязань Postgres middle resumes\n",
      "Рязань Postgres senior resumes\n",
      "Рязань HTML middle resumes\n",
      "Рязань CSS junior resumes\n",
      "Рязань CSS middle resumes\n",
      "Рязань CSS senior resumes\n",
      "83.33% Уфа C++ senior resumes\n",
      "Уфа C# junior vacancies\n",
      "Уфа IOS junior together\n",
      "Уфа IOS middle resumes\n",
      "Уфа Android junior vacancies\n",
      "Уфа Android senior resumes\n",
      "Уфа Go junior together\n",
      "Уфа Go middle resumes\n",
      "Уфа Go senior together\n",
      "Уфа Ruby junior resumes\n",
      "Уфа Ruby middle together\n",
      "Уфа Ruby senior resumes\n",
      "Уфа SQL junior resumes\n",
      "Уфа SQL middle resumes\n",
      "Уфа SQL senior resumes\n",
      "Уфа Oracle junior together\n",
      "Уфа Postgres junior together\n",
      "Уфа Postgres middle resumes\n",
      "Уфа Postgres senior resumes\n",
      "Уфа CSS junior resumes\n",
      "Уфа CSS senior resumes\n",
      "91.67% Красноярск Javascript junior resumes\n",
      "Красноярск Python junior vacancies\n",
      "Красноярск Python middle resumes\n",
      "Красноярск IOS middle resumes\n",
      "Красноярск Android junior resumes\n",
      "Красноярск Android senior together\n",
      "Красноярск Go junior together\n",
      "Красноярск Go middle resumes\n",
      "Красноярск Go senior resumes\n",
      "Красноярск Ruby junior resumes\n",
      "Красноярск Ruby middle resumes\n",
      "Красноярск Ruby senior resumes\n",
      "Красноярск SQL junior resumes\n",
      "Красноярск SQL middle resumes\n",
      "Красноярск Oracle junior together\n",
      "Красноярск Oracle middle resumes\n",
      "Красноярск Postgres junior together\n",
      "Красноярск Postgres middle resumes\n",
      "Красноярск Postgres senior resumes\n",
      "Красноярск HTML junior resumes\n",
      "Красноярск CSS junior resumes\n",
      "Красноярск CSS middle resumes\n",
      "Красноярск CSS senior resumes\n"
     ]
    }
   ],
   "source": [
    "mean_list = []\n",
    "num = 0\n",
    "for name_area in areas_bot:\n",
    "    area = areas_bot[name_area]\n",
    "    print(str(round(num/len(areas_bot)*100, 2)) +  '%', end=' ')\n",
    "    num += 1\n",
    "    for abil in abilities_bot:\n",
    "        for in_name in ['']:\n",
    "            ability = abil + in_name\n",
    "            for lev in sorted(list(levels_bot)):\n",
    "                level = levels_bot[lev]\n",
    "                two_mean_el = [name_area, ability, level]\n",
    "                from_resumes = need_resumes[(need_resumes['Name_area'] == name_area)\n",
    "                                           & (need_resumes['Level'] == level)\n",
    "                                           & (need_resumes['Ability'] == ability)]\n",
    "                from_vacancies = analysis_vacancies[(analysis_vacancies['Name_area'] == name_area)\n",
    "                                           & (analysis_vacancies['Level'] == level)\n",
    "                                           & (analysis_vacancies['Ability'] == ability)]\n",
    "                vac_std = 0\n",
    "                res_std = 0\n",
    "                if from_vacancies['Amount'].all():\n",
    "                    two_mean_el.append(int(from_vacancies['Amount']))\n",
    "                else:\n",
    "                    two_mean_el.append(None)\n",
    "                if from_resumes['Amount'].all() and from_vacancies['Amount'].all():\n",
    "                    two_mean_el.append( ( int(from_resumes['answer_mean']) + int(from_vacancies['answer_mean']) )/2 )\n",
    "                    two_mean_el.append( ( int(from_resumes['answer_min']) + int(from_vacancies['answer_min']))/2)\n",
    "                    two_mean_el.append( ( int(from_resumes['answer_max']) + int(from_vacancies['answer_max']) )/2)\n",
    "                    if from_resumes['answer_std'].any():\n",
    "                        res_std = int(from_resumes['answer_std']) / (int(from_resumes['Amount'])**0.5)\n",
    "                    if from_vacancies['answer_std'].any():\n",
    "                        vac_std = int(from_vacancies['answer_std']) / (int(from_vacancies['Amount'])**0.5)\n",
    "                elif from_resumes['Amount'].all():\n",
    "                    two_mean_el.append(int(from_resumes['answer_mean']))\n",
    "                    two_mean_el.append(int(from_resumes['answer_min']))\n",
    "                    two_mean_el.append(int(from_resumes['answer_max']))\n",
    "                    if from_resumes['answer_std'].any():\n",
    "                        res_std = int(from_resumes['answer_std'])/ (int(from_resumes['Amount'])**0.5)\n",
    "                    vac_std = res_std\n",
    "                    print(name_area, ability, level, 'vacancies')\n",
    "                elif from_vacancies['Amount'].all():\n",
    "                    two_mean_el.append(int(from_vacancies['answer_mean']))\n",
    "                    two_mean_el.append(int(from_vacancies['answer_min']))\n",
    "                    two_mean_el.append(int(from_vacancies['answer_max']))\n",
    "                    if from_vacancies['answer_std'].any():\n",
    "                        vac_std = int(from_vacancies['answer_std']) / (int(from_vacancies['Amount'])**0.5)\n",
    "                    res_std = vac_std\n",
    "                    print(name_area, ability, level, 'resumes')\n",
    "                else:\n",
    "                    two_mean_el.extend([None,None,None])\n",
    "                    print(name_area, ability, level, 'together')\n",
    "                two_mean_el.append(1.96*vac_std)\n",
    "                two_mean_el.append(1.96*res_std)\n",
    "                if two_mean_el[4]:\n",
    "                    two_mean_el.append(1.96*(vac_std+res_std) / 2 / two_mean_el[4])\n",
    "                    if two_mean_el[-1] > 0.25:\n",
    "                        two_mean_el[-1] = 0.25\n",
    "                    if 1.96*(vac_std+res_std) / 2 > 30000:\n",
    "                        two_mean_el.append(two_mean_el[4] - 30000)\n",
    "                        two_mean_el.append(two_mean_el[4] + 30000)\n",
    "                    else:\n",
    "                        two_mean_el.append(two_mean_el[4] - two_mean_el[-1]*two_mean_el[4])\n",
    "                        two_mean_el.append(two_mean_el[4] + two_mean_el[-2]*two_mean_el[4])\n",
    "                    two_mean_el[-1] = int(round(two_mean_el[-1]/10000, 1)*10000)\n",
    "                    two_mean_el[-2] = int(round(two_mean_el[-2]/10000, 1)*10000)\n",
    "                    two_mean_el[4] = int(round(two_mean_el[4]/10000, 1)*10000)\n",
    "                else:\n",
    "                    two_mean_el.extend([None, None, None])\n",
    "                mean_list.append(two_mean_el)"
   ]
  },
  {
   "cell_type": "code",
   "execution_count": 29,
   "metadata": {
    "collapsed": true
   },
   "outputs": [],
   "source": [
    "mean_table = pd.DataFrame(mean_list, columns = ['Name_area', 'Ability', 'Level', 'Amount',\n",
    "                                                'answer_mean', 'answer_min', 'answer_max',\n",
    "                                                'vac_std', 'res_std', 'pros_std'\n",
    "                                                'std', 'low', 'high'])"
   ]
  },
  {
   "cell_type": "code",
   "execution_count": 30,
   "metadata": {
    "collapsed": true
   },
   "outputs": [],
   "source": [
    "mean_table.to_csv('mean_table_std.csv')\n",
    "mean_table.to_excel('mean_table_std.xlsx')"
   ]
  },
  {
   "cell_type": "code",
   "execution_count": 69,
   "metadata": {
    "collapsed": true
   },
   "outputs": [],
   "source": [
    "#mean_table.to_csv('mean_table.csv')\n",
    "#mean_table.to_excel('mean_table.xlsx')"
   ]
  },
  {
   "cell_type": "code",
   "execution_count": 15,
   "metadata": {
    "collapsed": true
   },
   "outputs": [],
   "source": [
    "mean_table = pd.read_csv('mean_table.csv')"
   ]
  },
  {
   "cell_type": "markdown",
   "metadata": {},
   "source": [
    "## Рекомендации"
   ]
  },
  {
   "cell_type": "code",
   "execution_count": 40,
   "metadata": {
    "collapsed": false,
    "scrolled": true
   },
   "outputs": [
    {
     "data": {
      "text/plain": [
       "Index(['Id', 'Area_id', 'Name', 'Salary_from', 'Salary_to', 'Salary_cur',\n",
       "       'Data', 'Url', 'Experience', 'Company_name', 'Company_id',\n",
       "       'Description', 'Employment', 'Schedule', 'Key_skills', 'Specialisation',\n",
       "       'Arhived', 'qualification', 'Python', 'Python_name', 'C++', 'C++_name',\n",
       "       'PHP', 'PHP_name', 'C#', 'C#_name', 'SQL', 'SQL_name', 'HTML',\n",
       "       'HTML_name', 'CSS', 'CSS_name', 'Javascript', 'Javascript_name',\n",
       "       'Swift', 'Swift_name', 'Ruby', 'Ruby_name', 'Postgres', 'Postgres_name',\n",
       "       'IOS', 'IOS_name', 'Android', 'Android_name', 'Go', 'Go_name', 'Oracle',\n",
       "       'Oracle_name'],\n",
       "      dtype='object')"
      ]
     },
     "execution_count": 40,
     "metadata": {},
     "output_type": "execute_result"
    }
   ],
   "source": [
    "table_vacancies141117.columns"
   ]
  },
  {
   "cell_type": "code",
   "execution_count": 71,
   "metadata": {
    "collapsed": true
   },
   "outputs": [],
   "source": [
    "recommend_list = []\n",
    "for main_ability in abilities_bot:\n",
    "    for additional_ability in abilities_bot:\n",
    "        if main_ability == additional_ability:\n",
    "            continue\n",
    "        amount_intersection = table_vacancies141117[(table_vacancies141117[main_ability] == 1)\n",
    "                             & (table_vacancies141117[additional_ability] == 1)].shape[0]\n",
    "        recommend_list.append([main_ability, additional_ability, amount_intersection])"
   ]
  },
  {
   "cell_type": "code",
   "execution_count": 73,
   "metadata": {
    "collapsed": true
   },
   "outputs": [],
   "source": [
    "recommend_table = pd.DataFrame(recommend_list, columns = ['First', 'Second', 'Intersection'])"
   ]
  },
  {
   "cell_type": "code",
   "execution_count": 70,
   "metadata": {
    "collapsed": true
   },
   "outputs": [],
   "source": [
    "big_recommend_table = recommend_table\n",
    "big_recommend_table.to_csv('big_recommend_table.csv')"
   ]
  },
  {
   "cell_type": "code",
   "execution_count": 83,
   "metadata": {
    "collapsed": true
   },
   "outputs": [],
   "source": [
    "recommend_table.to_csv('recommend_table.csv')"
   ]
  },
  {
   "cell_type": "code",
   "execution_count": 92,
   "metadata": {
    "collapsed": true
   },
   "outputs": [],
   "source": [
    "recommend_dict2 = {'Android': ['Java', 'SQL'],\n",
    " 'C#': ['SQL'],\n",
    " 'C++': ['SQL', 'C#'],\n",
    " 'CSS': ['HTML', 'Javascript'],\n",
    " 'Go': ['SQL'],\n",
    " 'HTML': ['CSS', 'Javascript'],\n",
    " 'IOS': ['SQL', 'Swift'],\n",
    " 'Java': ['SQL', 'Javascript', 'HTML', 'Python'],\n",
    " 'Javascript': ['HTML', 'CSS', 'SQL', 'PHP'],\n",
    " 'Oracle': ['SQL'],\n",
    " 'PHP': ['SQL', 'Javascript', 'HTML', 'CSS'],\n",
    " 'Postgres': ['SQL'],\n",
    " 'Python': ['SQL', 'Javascript', 'Postgres'],\n",
    " 'Ruby': ['SQL', 'Python'],\n",
    " 'SQL': ['Javascript', 'PHP', 'HTML', 'CSS', 'Postgres']}"
   ]
  },
  {
   "cell_type": "code",
   "execution_count": 88,
   "metadata": {
    "collapsed": false
   },
   "outputs": [
    {
     "name": "stdout",
     "output_type": "stream",
     "text": [
      "Java\n",
      "SQL\n",
      "Javascript\n",
      "HTML\n",
      "Python\n",
      "\n",
      "Javascript\n",
      "HTML\n",
      "CSS\n",
      "SQL\n",
      "PHP\n",
      "\n",
      "Python\n",
      "SQL\n",
      "Javascript\n",
      "Postgres\n",
      "\n",
      "C++\n",
      "SQL\n",
      "C#\n",
      "\n",
      "C#\n",
      "SQL\n",
      "\n",
      "IOS\n",
      "SQL\n",
      "\n",
      "Android\n",
      "Java\n",
      "SQL\n",
      "\n",
      "PHP\n",
      "SQL\n",
      "Javascript\n",
      "HTML\n",
      "CSS\n",
      "\n",
      "Go\n",
      "SQL\n",
      "\n",
      "Ruby\n",
      "SQL\n",
      "Python\n",
      "\n",
      "SQL\n",
      "Javascript\n",
      "PHP\n",
      "HTML\n",
      "CSS\n",
      "Postgres\n",
      "\n",
      "Oracle\n",
      "SQL\n",
      "\n",
      "Postgres\n",
      "SQL\n",
      "\n",
      "HTML\n",
      "CSS\n",
      "Javascript\n",
      "\n",
      "CSS\n",
      "HTML\n",
      "Javascript\n",
      "\n"
     ]
    }
   ],
   "source": [
    "recommend_dict = {}\n",
    "for main_ability in abilities_bot:\n",
    "    print(main_ability)\n",
    "    recommend_dict[main_ability] = []\n",
    "    while True:\n",
    "        text = input()\n",
    "        if text not in abilities_bot:\n",
    "            break\n",
    "        recommend_dict[main_ability].append(text)"
   ]
  },
  {
   "cell_type": "code",
   "execution_count": 84,
   "metadata": {
    "collapsed": false
   },
   "outputs": [
    {
     "name": "stdout",
     "output_type": "stream",
     "text": [
      "   First      Second  Intersection\n",
      "9   Java         SQL           672\n",
      "0   Java  Javascript           420\n",
      "12  Java        HTML           287\n",
      "1   Java      Python           225\n",
      "11  Java    Postgres           220\n",
      "         First Second  Intersection\n",
      "26  Javascript   HTML          2033\n",
      "27  Javascript    CSS          1935\n",
      "23  Javascript    SQL          1814\n",
      "20  Javascript    PHP          1386\n",
      "17  Javascript     C#           443\n",
      "     First      Second  Intersection\n",
      "37  Python         SQL           493\n",
      "29  Python  Javascript           294\n",
      "39  Python    Postgres           241\n",
      "28  Python        Java           225\n",
      "30  Python         C++           213\n",
      "   First      Second  Intersection\n",
      "51   C++         SQL           268\n",
      "45   C++          C#           224\n",
      "44   C++      Python           213\n",
      "42   C++        Java           187\n",
      "43   C++  Javascript           142\n",
      "   First      Second  Intersection\n",
      "65    C#         SQL           680\n",
      "57    C#  Javascript           443\n",
      "68    C#        HTML           303\n",
      "69    C#         CSS           273\n",
      "59    C#         C++           224\n",
      "   First      Second  Intersection\n",
      "75   IOS     Android           335\n",
      "79   IOS         SQL           134\n",
      "71   IOS  Javascript           122\n",
      "70   IOS        Java           103\n",
      "82   IOS        HTML            80\n",
      "      First      Second  Intersection\n",
      "89  Android         IOS           335\n",
      "84  Android        Java           212\n",
      "93  Android         SQL           140\n",
      "85  Android  Javascript           118\n",
      "96  Android        HTML            86\n",
      "    First      Second  Intersection\n",
      "107   PHP         SQL          1568\n",
      "99    PHP  Javascript          1386\n",
      "110   PHP        HTML          1279\n",
      "111   PHP         CSS          1189\n",
      "109   PHP    Postgres           334\n",
      "    First      Second  Intersection\n",
      "121    Go         SQL           102\n",
      "119    Go         PHP            61\n",
      "113    Go  Javascript            59\n",
      "114    Go      Python            59\n",
      "123    Go    Postgres            50\n",
      "    First      Second  Intersection\n",
      "135  Ruby         SQL           113\n",
      "128  Ruby      Python           110\n",
      "127  Ruby  Javascript            96\n",
      "133  Ruby         PHP            80\n",
      "126  Ruby        Java            78\n",
      "    First      Second  Intersection\n",
      "141   SQL  Javascript          1814\n",
      "147   SQL         PHP          1568\n",
      "152   SQL        HTML          1439\n",
      "153   SQL         CSS          1326\n",
      "151   SQL    Postgres           930\n",
      "      First      Second  Intersection\n",
      "164  Oracle         SQL           519\n",
      "155  Oracle  Javascript           183\n",
      "154  Oracle        Java           179\n",
      "165  Oracle    Postgres           168\n",
      "166  Oracle        HTML           147\n",
      "        First      Second  Intersection\n",
      "178  Postgres         SQL           930\n",
      "169  Postgres  Javascript           443\n",
      "180  Postgres        HTML           340\n",
      "175  Postgres         PHP           334\n",
      "181  Postgres         CSS           325\n",
      "    First      Second  Intersection\n",
      "195  HTML         CSS          2343\n",
      "183  HTML  Javascript          2033\n",
      "192  HTML         SQL          1439\n",
      "189  HTML         PHP          1279\n",
      "194  HTML    Postgres           340\n",
      "    First      Second  Intersection\n",
      "209   CSS        HTML          2343\n",
      "197   CSS  Javascript          1935\n",
      "206   CSS         SQL          1326\n",
      "203   CSS         PHP          1189\n",
      "208   CSS    Postgres           325\n"
     ]
    }
   ],
   "source": [
    "for main_ability in abilities_bot:\n",
    "    print(recommend_table[recommend_table['First'] == main_ability].sort_values(by='Intersection', ascending=False).head())\n",
    "    "
   ]
  },
  {
   "cell_type": "code",
   "execution_count": 41,
   "metadata": {
    "collapsed": false
   },
   "outputs": [
    {
     "data": {
      "text/plain": [
       "['Java',\n",
       " 'Javascript',\n",
       " 'Python',\n",
       " 'C++',\n",
       " 'C#',\n",
       " 'IOS',\n",
       " 'Android',\n",
       " 'PHP',\n",
       " 'Go',\n",
       " 'Ruby',\n",
       " 'SQL',\n",
       " 'Oracle',\n",
       " 'Postgres',\n",
       " 'HTML',\n",
       " 'CSS']"
      ]
     },
     "execution_count": 41,
     "metadata": {},
     "output_type": "execute_result"
    }
   ],
   "source": [
    "abilities_bot"
   ]
  },
  {
   "cell_type": "code",
   "execution_count": null,
   "metadata": {
    "collapsed": true
   },
   "outputs": [],
   "source": []
  },
  {
   "cell_type": "markdown",
   "metadata": {},
   "source": [
    "# Не нужно"
   ]
  },
  {
   "cell_type": "code",
   "execution_count": 379,
   "metadata": {
    "collapsed": true
   },
   "outputs": [],
   "source": [
    "# Парсинг сайта"
   ]
  },
  {
   "cell_type": "code",
   "execution_count": null,
   "metadata": {
    "collapsed": true
   },
   "outputs": [],
   "source": [
    "r = open(\"some.html\")\n",
    "r.write(page_text)\n",
    "r.close()"
   ]
  },
  {
   "cell_type": "code",
   "execution_count": 380,
   "metadata": {
    "collapsed": true
   },
   "outputs": [],
   "source": [
    "from bs4 import BeautifulSoup"
   ]
  },
  {
   "cell_type": "code",
   "execution_count": 381,
   "metadata": {
    "collapsed": true
   },
   "outputs": [],
   "source": [
    "soup = BeautifulSoup(page_text, 'html.parser')"
   ]
  },
  {
   "cell_type": "code",
   "execution_count": null,
   "metadata": {
    "collapsed": true
   },
   "outputs": [],
   "source": [
    "print(soup.prettify())"
   ]
  },
  {
   "cell_type": "markdown",
   "metadata": {},
   "source": [
    "# Первый заход"
   ]
  },
  {
   "cell_type": "code",
   "execution_count": 42,
   "metadata": {
    "collapsed": true
   },
   "outputs": [],
   "source": [
    "Python_on_name = table_vacancies['Name'].apply(find_word_name)"
   ]
  },
  {
   "cell_type": "code",
   "execution_count": 93,
   "metadata": {
    "collapsed": true
   },
   "outputs": [],
   "source": [
    "Cplusplus = table_vacancies['Description'].apply(find_word)"
   ]
  },
  {
   "cell_type": "code",
   "execution_count": 76,
   "metadata": {
    "collapsed": true
   },
   "outputs": [],
   "source": [
    "PHP = table_vacancies['Description'].apply(find_word)"
   ]
  },
  {
   "cell_type": "code",
   "execution_count": 67,
   "metadata": {
    "collapsed": true
   },
   "outputs": [],
   "source": [
    "Cresh = table_vacancies['Description'].apply(find_word)"
   ]
  },
  {
   "cell_type": "code",
   "execution_count": 89,
   "metadata": {
    "collapsed": true
   },
   "outputs": [],
   "source": [
    "SQL = table_vacancies['Description'].apply(find_word)"
   ]
  },
  {
   "cell_type": "code",
   "execution_count": 95,
   "metadata": {
    "collapsed": true
   },
   "outputs": [],
   "source": [
    "HTML = table_vacancies['Description'].apply(find_word)"
   ]
  },
  {
   "cell_type": "code",
   "execution_count": 103,
   "metadata": {
    "collapsed": true
   },
   "outputs": [],
   "source": [
    "CSS = table_vacancies['Description'].apply(find_word)"
   ]
  },
  {
   "cell_type": "code",
   "execution_count": 107,
   "metadata": {
    "collapsed": true
   },
   "outputs": [],
   "source": [
    "Javascript = table_vacancies['Description'].apply(find_word)"
   ]
  },
  {
   "cell_type": "code",
   "execution_count": 111,
   "metadata": {
    "collapsed": true
   },
   "outputs": [],
   "source": [
    "Swift = table_vacancies['Description'].apply(find_word)"
   ]
  },
  {
   "cell_type": "code",
   "execution_count": 123,
   "metadata": {
    "collapsed": true
   },
   "outputs": [],
   "source": [
    "Ruby = table_vacancies['Description'].apply(find_word)"
   ]
  },
  {
   "cell_type": "code",
   "execution_count": 134,
   "metadata": {
    "collapsed": true
   },
   "outputs": [],
   "source": [
    "Java = table_vacancies['Description'].apply(hard_find_word)"
   ]
  },
  {
   "cell_type": "code",
   "execution_count": 137,
   "metadata": {
    "collapsed": true
   },
   "outputs": [],
   "source": [
    "table_vacancies['Python'] = Python_on\n",
    "table_vacancies['C/C++'] = Cplusplus\n",
    "table_vacancies['PHP'] = PHP\n",
    "table_vacancies['C#'] = Cresh\n",
    "table_vacancies['SQL'] = SQL\n",
    "table_vacancies['HTML'] = HTML\n",
    "table_vacancies['CSS'] = CSS\n",
    "table_vacancies['Javascript'] = Javascript\n",
    "table_vacancies['Swift'] = Swift\n",
    "table_vacancies['Ruby'] = Ruby\n",
    "table_vacancies['Java'] = Java"
   ]
  },
  {
   "cell_type": "code",
   "execution_count": 79,
   "metadata": {
    "collapsed": true
   },
   "outputs": [],
   "source": [
    "#Москва, Санкт-Петербург, Татарстан, Новосибирская, Пермский, Свердловская, Краснодарский, Башкортостан, Нижеородская\n",
    "#Ростовская,Самарская, Красноярский, Челябинская, Воронежская\n",
    "bot_areas = [1, 2, 1624, 1202, 2012, 1261, 1438, 1347, 1679, 1530, 1586, 1146, 1384, 1844]"
   ]
  },
  {
   "cell_type": "code",
   "execution_count": 82,
   "metadata": {
    "collapsed": true
   },
   "outputs": [],
   "source": [
    "bot_skills = ['Python', 'C/C++', 'PHP', 'C#', 'SQL', 'HTML', 'CSS', 'Javascript', 'Swift', 'Ruby']"
   ]
  },
  {
   "cell_type": "code",
   "execution_count": 84,
   "metadata": {
    "collapsed": true
   },
   "outputs": [],
   "source": [
    "bot_qualifications = ['junior', 'middle', 'senior']"
   ]
  },
  {
   "cell_type": "code",
   "execution_count": null,
   "metadata": {
    "collapsed": true
   },
   "outputs": [],
   "source": [
    "answers = [] #Area_id, Area_name, Qualification, Skill, Minimum, Maximum, Average, Amount \n",
    "for bot_area in bot_areas:\n",
    "    for bot_skill in bot_skills:\n",
    "        for bot_qual in bot_qualifications: \n",
    "            answers.append([bot_area, small_table_area[small_table_area['Area_id'] == bot_area]['Name']])\n",
    "            answers[-1].append(bot_qual)\n",
    "            answers[-1].append(bot_skill)\n",
    "            answers[-1].append()\n"
   ]
  },
  {
   "cell_type": "code",
   "execution_count": 132,
   "metadata": {
    "collapsed": false
   },
   "outputs": [
    {
     "name": "stdout",
     "output_type": "stream",
     "text": [
      "['java-super']\n"
     ]
    }
   ],
   "source": [
    "s = 'java-super' \n",
    "prog = re.compile('[А-Яа-яA-Za-z\\-]+')\n",
    "l1 = prog.findall(s.lower())\n",
    "d1 = nltk.FreqDist(l1)\n",
    "if bool(d1['java']):\n",
    "    print('woho')"
   ]
  },
  {
   "cell_type": "markdown",
   "metadata": {},
   "source": [
    "## Анализ таблицы"
   ]
  },
  {
   "cell_type": "code",
   "execution_count": 58,
   "metadata": {
    "collapsed": true
   },
   "outputs": [],
   "source": [
    "s = ''\n",
    "for i in table_vacancies['Name']:\n",
    "    s += i.replace('&quot;', ' ') + ' '"
   ]
  },
  {
   "cell_type": "code",
   "execution_count": 52,
   "metadata": {
    "collapsed": false
   },
   "outputs": [
    {
     "name": "stdout",
     "output_type": "stream",
     "text": [
      "[('е', 68373), ('о', 64566), ('и', 60604), ('а', 55455), ('н', 48457), ('р', 44742), ('т', 38175), ('в', 31240), ('к', 27108), ('п', 26464), ('с', 25345), ('л', 21382), ('д', 18826), ('s', 18508), ('м', 17228), ('a', 15408), ('e', 14150), ('t', 13288), ('o', 11666), ('r', 11640)]\n"
     ]
    }
   ],
   "source": [
    "prog = re.compile('[А-Яа-яA-Za-z\\-]+')\n",
    "l1 = prog.findall(s.lower())\n",
    "d1 = nltk.FreqDist(l1)\n",
    "print(d1.most_common()[0:20])"
   ]
  },
  {
   "cell_type": "code",
   "execution_count": 339,
   "metadata": {
    "collapsed": false,
    "scrolled": true
   },
   "outputs": [
    {
     "data": {
      "text/plain": [
       "between1And3    14210\n",
       "noExperience     6513\n",
       "between3And6     5624\n",
       "moreThan6         507\n",
       "Name: Experience, dtype: int64"
      ]
     },
     "execution_count": 339,
     "metadata": {},
     "output_type": "execute_result"
    }
   ],
   "source": [
    "table_vacancies['Experience'].value_counts()"
   ]
  },
  {
   "cell_type": "code",
   "execution_count": null,
   "metadata": {
    "collapsed": true
   },
   "outputs": [],
   "source": []
  }
 ],
 "metadata": {
  "kernelspec": {
   "display_name": "Python [default]",
   "language": "python",
   "name": "python3"
  },
  "language_info": {
   "codemirror_mode": {
    "name": "ipython",
    "version": 3
   },
   "file_extension": ".py",
   "mimetype": "text/x-python",
   "name": "python",
   "nbconvert_exporter": "python",
   "pygments_lexer": "ipython3",
   "version": "3.5.2"
  }
 },
 "nbformat": 4,
 "nbformat_minor": 2
}
